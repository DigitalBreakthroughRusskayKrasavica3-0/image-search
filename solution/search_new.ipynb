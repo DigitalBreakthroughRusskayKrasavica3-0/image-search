{
 "cells": [
  {
   "cell_type": "code",
   "execution_count": 1,
   "metadata": {},
   "outputs": [
    {
     "name": "stdout",
     "output_type": "stream",
     "text": [
      "\u001b[31mERROR: Could not open requirements file: [Errno 2] No such file or directory: 'requirements.txt'\u001b[0m\u001b[31m\n",
      "\u001b[0mNote: you may need to restart the kernel to use updated packages.\n"
     ]
    }
   ],
   "source": [
    "%pip install -r requirements.txt"
   ]
  },
  {
   "cell_type": "code",
   "execution_count": 57,
   "metadata": {},
   "outputs": [],
   "source": [
    "import pandas \n",
    "from PIL import Image\n",
    "full_df = pandas.read_csv('../mincult-train/train.csv', sep=';')\n",
    "full_df['path'] = '../mincult-train/train/'+ full_df['object_id'].astype(str) + '/' + full_df['img_name']\n",
    "full_df['embedding_path'] = full_df['path']+'.embedding'\n",
    "N = 100\n",
    "df = full_df[:N].copy()"
   ]
  },
  {
   "cell_type": "code",
   "execution_count": 4,
   "metadata": {},
   "outputs": [
    {
     "ename": "ModuleNotFoundError",
     "evalue": "No module named 'sentence_transformers'",
     "output_type": "error",
     "traceback": [
      "\u001b[0;31m---------------------------------------------------------------------------\u001b[0m",
      "\u001b[0;31mModuleNotFoundError\u001b[0m                       Traceback (most recent call last)",
      "\u001b[1;32m/Users/n0tsszzz/hackaton_museum/search.ipynb Ячейка 4\u001b[0m line \u001b[0;36m1\n\u001b[1;32m      <a href='vscode-notebook-cell:/Users/n0tsszzz/hackaton_museum/search.ipynb#W3sZmlsZQ%3D%3D?line=0'>1</a>\u001b[0m \u001b[39m# from PIL import Image\u001b[39;00m\n\u001b[1;32m      <a href='vscode-notebook-cell:/Users/n0tsszzz/hackaton_museum/search.ipynb#W3sZmlsZQ%3D%3D?line=1'>2</a>\u001b[0m \u001b[39m# import clip\u001b[39;00m\n\u001b[1;32m      <a href='vscode-notebook-cell:/Users/n0tsszzz/hackaton_museum/search.ipynb#W3sZmlsZQ%3D%3D?line=2'>3</a>\u001b[0m \u001b[39m# import torch\u001b[39;00m\n\u001b[0;32m   (...)\u001b[0m\n\u001b[1;32m      <a href='vscode-notebook-cell:/Users/n0tsszzz/hackaton_museum/search.ipynb#W3sZmlsZQ%3D%3D?line=6'>7</a>\u001b[0m \u001b[39m# model, preprocess = clip.load(\"ViT-B/32\")\u001b[39;00m\n\u001b[1;32m      <a href='vscode-notebook-cell:/Users/n0tsszzz/hackaton_museum/search.ipynb#W3sZmlsZQ%3D%3D?line=7'>8</a>\u001b[0m \u001b[39m# model.to(device)\u001b[39;00m\n\u001b[0;32m---> <a href='vscode-notebook-cell:/Users/n0tsszzz/hackaton_museum/search.ipynb#W3sZmlsZQ%3D%3D?line=9'>10</a>\u001b[0m \u001b[39mfrom\u001b[39;00m \u001b[39msentence_transformers\u001b[39;00m \u001b[39mimport\u001b[39;00m SentenceTransformer, util\n\u001b[1;32m     <a href='vscode-notebook-cell:/Users/n0tsszzz/hackaton_museum/search.ipynb#W3sZmlsZQ%3D%3D?line=11'>12</a>\u001b[0m \u001b[39m# We use the original clip-ViT-B-32 for encoding images\u001b[39;00m\n\u001b[1;32m     <a href='vscode-notebook-cell:/Users/n0tsszzz/hackaton_museum/search.ipynb#W3sZmlsZQ%3D%3D?line=12'>13</a>\u001b[0m img_model \u001b[39m=\u001b[39m SentenceTransformer(\u001b[39m'\u001b[39m\u001b[39mclip-ViT-B-32\u001b[39m\u001b[39m'\u001b[39m)\n",
      "\u001b[0;31mModuleNotFoundError\u001b[0m: No module named 'sentence_transformers'"
     ]
    }
   ],
   "source": [
    "# from PIL import Image\n",
    "# import clip\n",
    "# import torch\n",
    "# device = \"cuda\" if torch.cuda.is_available() else \"cpu\"\n",
    "# print(f\"using {device}\")\n",
    "# device = torch.device(device)\n",
    "# model, preprocess = clip.load(\"ViT-B/32\")\n",
    "# model.to(device)\n",
    "\n",
    "from sentence_transformers import SentenceTransformer, util\n",
    "\n",
    "# We use the original clip-ViT-B-32 for encoding images\n",
    "img_model = SentenceTransformer('clip-ViT-B-32')"
   ]
  },
  {
   "cell_type": "code",
   "execution_count": 5,
   "metadata": {},
   "outputs": [
    {
     "data": {
      "text/plain": [
       "'./mincult-train/train/4489444/9461061.jpg'"
      ]
     },
     "execution_count": 5,
     "metadata": {},
     "output_type": "execute_result"
    }
   ],
   "source": [
    "df.iloc[[1]].path.values[0]"
   ]
  },
  {
   "cell_type": "code",
   "execution_count": 7,
   "metadata": {},
   "outputs": [],
   "source": [
    "from scipy.spatial import distance\n",
    "\n",
    "def find_best(image_path): \n",
    "    emb = img_model.encode([Image.open(image_path)])[0].tolist()\n",
    "    distances = {} \n",
    "    for index, row in df.iterrows(): \n",
    "        with open(row.embedding_path, 'r') as f:\n",
    "            other_emb = json.loads(f.readline())\n",
    "            dist = distance.cosine(emb, other_emb)\n",
    "            distances[index] = dist\n",
    "    dists = sorted(list(distances.items()), key=lambda a: a[1])[:10] \n",
    "    for i, dist in dists: \n",
    "        print(df.loc[[i]].path)"
   ]
  },
  {
   "cell_type": "code",
   "execution_count": 8,
   "metadata": {},
   "outputs": [
    {
     "name": "stderr",
     "output_type": "stream",
     "text": [
      "Unused or unrecognized kwargs: padding.\n"
     ]
    },
    {
     "name": "stdout",
     "output_type": "stream",
     "text": [
      "4    ./mincult-train/train/6339754/2592073.jpg\n",
      "Name: path, dtype: object\n",
      "51    ./mincult-train/train/4710627/2006145.jpg\n",
      "Name: path, dtype: object\n",
      "86    ./mincult-train/train/1450365/53887152.jpg\n",
      "Name: path, dtype: object\n",
      "12    ./mincult-train/train/9871461/6667278.jpg\n",
      "Name: path, dtype: object\n",
      "2    ./mincult-train/train/8722586/5095122.jpg\n",
      "Name: path, dtype: object\n",
      "52    ./mincult-train/train/19950844/20660667.jpg\n",
      "Name: path, dtype: object\n",
      "97    ./mincult-train/train/17099698/16722631.jpg\n",
      "Name: path, dtype: object\n",
      "27    ./mincult-train/train/4780854/1267334.jpg\n",
      "Name: path, dtype: object\n",
      "6    ./mincult-train/train/4704612/2008677.jpg\n",
      "Name: path, dtype: object\n",
      "19    ./mincult-train/train/21615364/22970356.jpg\n",
      "Name: path, dtype: object\n"
     ]
    }
   ],
   "source": [
    "find_best('sword.jpg')"
   ]
  },
  {
   "cell_type": "code",
   "execution_count": null,
   "metadata": {},
   "outputs": [],
   "source": [
    "# import ruclip.model as ruclip_model \n",
    "# import ruclip.processor as ruclip_processor\n",
    "# import ruclip.predictor as ruclip_predictor\n",
    "# ru_clip_model = ruclip_model.CLIP.from_pretrained('./ruclip').eval()\n",
    "# tokenizer = ruclip_processor.RuCLIPProcessor.from_pretrained('./ruclip')\n",
    "# ru_predictor = ruclip_predictor.Predictor(ru_clip_model, tokenizer, device)"
   ]
  },
  {
   "cell_type": "code",
   "execution_count": null,
   "metadata": {},
   "outputs": [
    {
     "data": {
      "text/plain": [
       "tensor([[-0.0166,  0.0004, -0.0030,  ...,  0.0460, -0.0296, -0.0237],\n",
       "        [-0.0431, -0.0181, -0.0073,  ...,  0.0496, -0.0511,  0.0209],\n",
       "        [-0.0248, -0.0026, -0.0176,  ...,  0.0443, -0.0488, -0.0087],\n",
       "        [-0.0248, -0.0026, -0.0176,  ...,  0.0443, -0.0488, -0.0087],\n",
       "        [-0.0196, -0.0098, -0.0140,  ...,  0.0447, -0.0737, -0.0166]],\n",
       "       grad_fn=<DivBackward0>)"
      ]
     },
     "execution_count": 38,
     "metadata": {},
     "output_type": "execute_result"
    }
   ],
   "source": [
    "# ru_predictor.get_text_latents('hello')"
   ]
  },
  {
   "cell_type": "code",
   "execution_count": 7,
   "metadata": {},
   "outputs": [
    {
     "name": "stderr",
     "output_type": "stream",
     "text": [
      "/Users/roshi/image-search/venv/lib/python3.11/site-packages/tqdm/auto.py:21: TqdmWarning: IProgress not found. Please update jupyter and ipywidgets. See https://ipywidgets.readthedocs.io/en/stable/user_install.html\n",
      "  from .autonotebook import tqdm as notebook_tqdm\n"
     ]
    }
   ],
   "source": [
    "from sentence_transformers import SentenceTransformer, util\n",
    "\n",
    "# We use the original clip-ViT-B-32 for encoding images\n",
    "img_model = SentenceTransformer('clip-ViT-B-32')\n",
    "\n",
    "# Our text embedding model is aligned to the img_model and maps 50+\n",
    "# languages to the same vector space\n",
    "text_model = SentenceTransformer('sentence-transformers/clip-ViT-B-32-multilingual-v1')"
   ]
  },
  {
   "cell_type": "code",
   "execution_count": null,
   "metadata": {},
   "outputs": [
    {
     "name": "stderr",
     "output_type": "stream",
     "text": [
      "Unused or unrecognized kwargs: padding.\n"
     ]
    },
    {
     "name": "stdout",
     "output_type": "stream",
     "text": [
      "Text: high tech\n",
      "Score: tensor(0.2404)\n",
      "Path: test_headphones.jpg \n",
      "\n",
      "Text: weapon\n",
      "Score: tensor(0.2538)\n",
      "Path: sword.jpg \n",
      "\n",
      "Text: document\n",
      "Score: tensor(0.2272)\n",
      "Path: test_image.jpg \n",
      "\n"
     ]
    }
   ],
   "source": [
    "# # Now we load and encode the images\n",
    "# def load_image(url_or_path):\n",
    "#     if url_or_path.startswith(\"http://\") or url_or_path.startswith(\"https://\"):\n",
    "#         return Image.open(requests.get(url_or_path, stream=True).raw)\n",
    "#     else:\n",
    "#         return Image.open(url_or_path)\n",
    "\n",
    "# # We load 3 images. You can either pass URLs or\n",
    "# # a path on your disc\n",
    "# img_paths = [\n",
    "#     # Dog image\n",
    "#     \"sword.jpg\",\n",
    "\n",
    "#     # Cat image\n",
    "#     \"test_image.jpg\",\n",
    "\n",
    "#     # Beach image\n",
    "#     \"test_headphones.jpg\",\n",
    "# ]\n",
    "\n",
    "# images = [load_image(img) for img in img_paths]\n",
    "\n",
    "# # Map images to the vector space\n",
    "# img_embeddings = img_model.encode(images)\n",
    "\n",
    "# # Now we encode our text:\n",
    "# texts = [\n",
    "#     \"high tech\",\n",
    "#     \"weapon\",  # German: A cat\n",
    "#     \"document\"  # Spanish: a beach with palm trees\n",
    "# ]\n",
    "\n",
    "# text_embeddings = text_model.encode(texts)\n",
    "\n",
    "# # Compute cosine similarities:\n",
    "# cos_sim = util.cos_sim(text_embeddings, img_embeddings)\n",
    "\n",
    "# for text, scores in zip(texts, cos_sim):\n",
    "#     max_img_idx = torch.argmax(scores)\n",
    "#     print(\"Text:\", text)\n",
    "#     print(\"Score:\", scores[max_img_idx] )\n",
    "#     print(\"Path:\", img_paths[max_img_idx], \"\\n\")"
   ]
  },
  {
   "cell_type": "code",
   "execution_count": 38,
   "metadata": {},
   "outputs": [
    {
     "name": "stderr",
     "output_type": "stream",
     "text": [
      "Unused or unrecognized kwargs: padding.\n"
     ]
    },
    {
     "data": {
      "text/plain": [
       "tensor([ 1.5409e-01, -2.2904e-02,  6.9008e-03,  1.2680e-01,  1.6344e-02,\n",
       "        -1.4147e-01, -7.7042e-02,  7.3074e-01,  1.6849e-01,  5.4354e-01,\n",
       "         1.0815e-01, -5.7672e-02,  4.2591e-01, -9.4751e-02, -4.2239e-01,\n",
       "        -2.6485e-01,  9.0035e-01,  1.5985e-01,  7.9928e-02, -5.4122e-01,\n",
       "        -2.9139e-01,  7.8322e-01,  9.7382e-03, -1.0502e-01,  2.4995e-01,\n",
       "         2.9194e-01,  1.2068e-02, -3.7704e-01, -1.5563e-01,  1.5817e-01,\n",
       "         3.9409e-01, -2.3272e-02, -8.4087e-02, -4.2884e-01,  3.0473e-01,\n",
       "        -2.0148e-01, -5.6921e-01, -4.3657e-01,  4.4646e-01,  6.9191e-01,\n",
       "        -2.5500e-01,  1.3101e-01,  4.1107e-01, -1.1264e-01, -2.5681e-02,\n",
       "        -5.5188e-01,  6.4148e-01, -9.2202e-02, -4.0493e-01, -3.2854e-02,\n",
       "        -4.1640e-01, -7.8461e-02,  6.6770e-01, -3.2876e-01, -2.1588e-01,\n",
       "         1.1558e-01, -4.3977e-02,  3.6046e-01,  3.2168e-02,  9.5473e-02,\n",
       "         6.5722e-01, -4.0861e-01,  2.7235e-01,  2.9029e-02, -3.1615e-04,\n",
       "         3.4944e-01, -3.7970e-02,  9.1480e-02,  5.9314e-02, -4.0292e-02,\n",
       "        -3.8045e-01,  1.1950e-01,  1.9743e-01,  2.8008e-01,  5.6735e-03,\n",
       "        -4.7009e-01,  1.9486e-01, -2.2288e-01,  1.1545e+00, -2.5995e-01,\n",
       "        -1.7136e-01, -2.0174e-01, -2.2443e-02, -8.3014e-01,  4.4398e-03,\n",
       "         4.0553e-01,  2.8467e-01, -2.1293e-01,  6.6095e-01,  2.0034e-01,\n",
       "         3.2472e-01,  1.4533e-01, -6.8310e+00,  1.2265e+00,  3.7275e-01,\n",
       "         5.1529e-01,  3.6344e-01,  6.1161e-01, -3.0402e-01,  4.8215e-01,\n",
       "        -2.7091e-02,  4.0420e-01, -5.4207e-01, -7.7580e-01, -1.5124e-03,\n",
       "         5.3982e-01, -2.2788e+00, -2.2817e-01,  1.1673e-01, -9.2022e-02,\n",
       "         6.8295e-02,  4.6946e-02,  1.2201e-01,  4.0755e-01,  3.1166e-01,\n",
       "        -3.4503e-01, -3.4207e-02,  3.6289e-03, -1.9588e-01, -2.4886e-01,\n",
       "         1.3668e-01, -9.6937e-02,  3.6102e-01, -2.1905e-01,  8.5879e-02,\n",
       "        -5.4377e-03, -2.1566e-01,  2.7641e-01,  2.1839e-02,  3.2059e-02,\n",
       "         2.3218e-02,  2.0800e-01,  1.2368e-01,  9.5347e-01,  4.1712e-01,\n",
       "        -1.0061e-01,  4.9089e-03,  1.4084e-01,  4.8465e-01, -3.9977e-01,\n",
       "         6.0738e-02,  8.4442e-01, -8.4284e-01, -3.0984e-02, -4.3982e-01,\n",
       "         2.4386e-01,  1.8241e-01, -1.6307e-01, -3.3115e-01, -8.0524e-02,\n",
       "        -2.3957e-01, -1.2865e-01,  4.4334e-01, -2.0620e-01, -1.3577e-01,\n",
       "        -9.4369e-02,  2.9331e-01, -1.1617e-01,  1.2075e-01,  4.2645e-01,\n",
       "        -5.4967e-01, -1.6766e-01,  1.2037e-01, -7.0735e-01, -3.0932e-01,\n",
       "         4.7230e-03,  3.4881e-01,  4.4079e-01,  1.1958e-01,  1.6616e-01,\n",
       "        -2.4993e-01, -6.8738e-02, -2.8848e-01,  7.5496e-02,  1.8267e-01,\n",
       "        -6.9759e-01,  3.0304e-01,  4.6492e-01,  8.3476e-01, -3.6653e-01,\n",
       "         1.4678e-01,  7.3197e-02,  7.2034e-02, -5.0362e-01,  5.0829e-02,\n",
       "         2.5397e-02,  2.5040e-01, -2.0660e-01,  3.9481e-01, -8.4525e-02,\n",
       "         1.5418e-01, -4.7477e-01,  4.6142e-02,  3.6815e-02,  4.9832e-01,\n",
       "        -3.6891e-01,  2.3752e-01,  1.0026e-01, -5.0920e-01, -9.3856e-02,\n",
       "         1.9504e-01,  1.4238e-01, -1.3340e-01, -3.9918e-01,  9.2084e-02,\n",
       "        -1.9281e-01,  3.0186e-02, -1.6534e-01,  3.0619e-01, -3.3961e-01,\n",
       "        -2.2221e-01,  7.0697e-01,  2.5890e-01, -4.9814e-01,  1.3967e-01,\n",
       "        -7.4650e-01,  2.5936e-01, -2.4569e-01, -5.0524e-01,  1.6318e-01,\n",
       "         2.1370e-01,  5.3716e-01, -2.5375e-01, -2.2125e-01,  1.9343e-01,\n",
       "        -2.5146e-01, -1.0055e-02, -1.4172e-01,  2.7516e-01, -1.3861e-02,\n",
       "        -5.2484e-01,  1.1767e-01, -1.8357e-01,  9.5716e-02, -3.1109e-02,\n",
       "        -5.8877e-02,  2.1173e-01,  4.9653e-01, -1.9009e-01,  3.7547e-01,\n",
       "        -3.2840e-02, -4.1820e-02,  5.5874e-01,  2.3277e-02, -4.3331e-01,\n",
       "        -8.2407e-01,  4.1945e-01,  5.0123e-01, -2.3693e-01,  1.8737e-01,\n",
       "         5.5085e-02,  3.4518e-02,  2.7010e-01,  6.2065e-01,  3.2481e-01,\n",
       "         1.6802e-01, -7.9641e-02, -1.1731e-01, -2.9403e-01, -2.3305e-01,\n",
       "        -3.4463e-02,  4.3834e-01,  1.0919e-01, -2.0252e-01, -3.3612e-02,\n",
       "        -4.8516e-01, -2.1329e-01,  1.6836e-01,  4.1069e-01,  1.4373e-01,\n",
       "        -3.9903e-01, -3.2453e-01, -1.1742e-01, -2.2088e-01, -1.2298e-01,\n",
       "        -1.3508e-01,  1.4475e-01,  7.5067e-02, -2.0067e-02, -4.8786e-01,\n",
       "         3.8741e-01,  3.8287e-02,  1.2097e-01,  4.5761e-01, -1.2149e-01,\n",
       "        -1.4788e-03, -4.8081e-01,  3.3049e-01, -1.3102e-01, -3.1503e-01,\n",
       "         6.1517e-01,  9.5743e-02, -5.9261e-01,  4.0461e-02, -1.4403e-01,\n",
       "         2.1482e-01, -1.4584e-01, -8.4162e-02,  3.9620e-01, -3.7458e-01,\n",
       "         4.4816e-01, -3.1035e-01, -1.8367e-01,  6.6993e-02,  5.8254e-02,\n",
       "        -4.8950e-01, -5.4023e-01, -2.7418e-02,  2.0071e-01, -1.1531e-01,\n",
       "         4.6177e-02,  2.3433e-01,  9.5344e-01, -1.5774e-01,  5.7029e-02,\n",
       "         3.3931e-01,  6.4169e-01, -3.3629e-01,  6.3679e-03, -6.4492e-01,\n",
       "         4.2267e-01,  2.1305e+00, -5.4044e-02, -2.6042e-01, -3.6947e-01,\n",
       "         1.5962e-01,  2.8114e-01,  3.9337e-01, -3.6260e-01,  3.0420e-01,\n",
       "         6.9782e-02, -1.2693e-01,  1.3784e-01,  3.1331e-02,  1.1501e-01,\n",
       "         1.8574e-01, -3.8791e-02,  3.8165e-02,  3.3741e-01,  2.0959e-01,\n",
       "         2.6658e-01, -5.0528e-01,  1.8568e-01,  5.9485e-02,  1.6621e-01,\n",
       "         3.6431e-01,  3.4660e-01, -1.8414e-01, -1.6457e-01, -4.2384e-01,\n",
       "         5.5097e-01,  5.2181e-02,  1.6874e-01, -1.5235e-02, -3.6764e-01,\n",
       "        -4.3741e-01,  2.7993e-01, -1.0336e+00, -5.8226e-03,  1.3139e-01,\n",
       "         2.9533e-02,  2.7092e-02,  5.7986e-01,  1.1020e-01, -4.5806e-01,\n",
       "        -3.9751e-01, -1.2995e-02, -3.8379e-01,  1.8301e-01,  2.8991e-01,\n",
       "         2.9667e-01, -2.0252e-01,  5.6726e-01, -3.6063e-01, -2.3811e-01,\n",
       "        -4.3480e-01,  3.3214e-01, -1.4033e-01, -2.5359e-01, -1.3747e-01,\n",
       "        -6.4404e-01, -7.8903e-01,  3.2929e-01, -9.7241e-02,  1.8120e-02,\n",
       "         3.9219e-01,  1.0397e-01, -2.9702e-01,  2.4358e-01, -1.5825e-01,\n",
       "        -3.0868e-01,  1.4201e-02,  5.6819e-01, -1.0323e-01, -3.9183e-01,\n",
       "         3.6377e-03,  3.6429e-01, -1.9456e-01,  6.6339e-01, -8.1041e-02,\n",
       "        -9.9610e-02, -9.9082e-02,  5.3245e-01, -1.7797e-01,  4.2284e-01,\n",
       "        -1.9256e-01,  9.0371e-02,  4.5196e-01,  4.5828e-01, -5.1329e-01,\n",
       "         5.3126e-02, -2.4886e-01,  3.1172e-01,  3.2613e-01, -6.3537e-02,\n",
       "        -7.6062e-03, -1.6620e-01,  1.7097e-01,  1.6027e-02,  4.6656e-01,\n",
       "         2.4653e-01, -1.6401e-01, -2.8271e-01,  4.5926e-01, -4.9907e-02,\n",
       "        -4.0076e-01, -3.2496e-01, -1.4865e-01, -9.7039e-02,  3.9454e-01,\n",
       "        -7.3785e-02,  1.7753e-02,  1.1639e+00, -1.7652e-02,  3.1304e-02,\n",
       "        -1.0473e-01, -1.0431e-01, -4.8629e-01, -1.6098e-01,  4.0637e-01,\n",
       "        -2.2273e-02,  1.0262e-01, -1.8434e-01,  3.6306e-01, -5.8092e-02,\n",
       "         8.5000e-02,  2.8545e-01, -8.8316e-02, -2.0336e-01, -1.4147e-01,\n",
       "         2.7751e-01,  5.9503e-01,  4.1688e-01, -4.0604e-01,  7.5383e-02,\n",
       "        -8.4282e-02,  1.9446e-01, -1.5895e-01,  2.3315e-01,  3.7507e-01,\n",
       "         4.9461e-01, -1.1878e-01,  1.2866e-01,  2.3390e-01,  2.0119e-01,\n",
       "         7.7019e-02,  2.3951e-01, -3.1683e-01, -1.6625e-01, -5.4228e-01,\n",
       "        -1.5992e-01, -2.0798e-01,  5.7619e-02, -4.8560e-01,  1.3573e-01,\n",
       "        -1.8846e-01,  1.5961e-01,  2.1109e-03,  3.5285e-01, -6.6099e-02,\n",
       "         5.1343e-02,  1.2977e-02,  1.4752e-01, -2.4378e-01,  5.2605e-02,\n",
       "        -1.6316e-01, -1.1641e-02,  5.1439e-01,  2.6351e-02, -4.8600e-01,\n",
       "         1.3145e-01, -2.1750e-01,  2.9477e-01, -1.9218e-01,  5.9722e-02,\n",
       "        -1.6417e-01,  1.2708e-01,  6.7110e-01, -2.6632e-01,  6.1227e-02,\n",
       "         6.2277e-02,  1.8491e-02,  2.4959e-01,  1.8869e-01,  1.2649e-01,\n",
       "        -3.7689e-01, -5.4272e-02, -4.5318e-01, -1.8727e-01,  9.3872e-01,\n",
       "         6.6465e-02,  8.7583e-02])"
      ]
     },
     "execution_count": 38,
     "metadata": {},
     "output_type": "execute_result"
    }
   ],
   "source": [
    "from PIL import Image\n",
    "torch.Tensor(img_model.encode([Image.open(\"sword.jpg\")])[0])"
   ]
  },
  {
   "cell_type": "code",
   "execution_count": 10,
   "metadata": {},
   "outputs": [],
   "source": [
    "import abc\n",
    "import json\n",
    "import torch\n",
    "class CategoryModel(abc.ABC): \n",
    "    @abc.abstractmethod\n",
    "    def encode_images(self, img) -> torch.Tensor: \n",
    "        pass\n",
    "    @abc.abstractmethod\n",
    "    def encode_texts(self, texts) -> torch.Tensor: \n",
    "        pass \n",
    "\n",
    "class CategoryGetter: \n",
    "    def __init__(self, full_df, pref, other_thresh, model: CategoryModel, dop_cats: dict, mapper: dict): \n",
    "        self.model = model\n",
    "        self.categories = full_df['group'].unique().tolist()\n",
    "        self.categories += list(dop_cats.keys())\n",
    "        self.categories.remove('Прочие')\n",
    "        #print(self.categories)\n",
    "        self.pref = pref\n",
    "        self.other_thresh = other_thresh\n",
    "        \n",
    "        self.dop_cats = dop_cats\n",
    "        self.mapper = {cat: mapper[cat] if cat in mapper else cat for cat in self.categories}\n",
    "        print(mapper)\n",
    "        # self.rev_mapper = {v: k for k, v in self.mapper.items()}\n",
    "        self.texts = [pref+self.mapper[c] for c in self.categories]\n",
    "        print(self.texts)\n",
    "        self.text_features = self.model.encode_texts(self.texts)\n",
    "        self.text_features /= self.text_features.norm(dim=-1, keepdim=True)\n",
    "        \n",
    "    def get_categories(self, img: str | Image.Image):\n",
    "        # if isinstance(img, str): \n",
    "        #     img = Image.open(img)\n",
    "        # # print(img)\n",
    "        image_features = torch.Tensor(json.loads(open(img).readline()))# self.model.encode_images(img)\n",
    "        # Pick the top 5 most similar labels for the image\n",
    "        image_features /= image_features.norm(dim=-1, keepdim=True)\n",
    "        similarity = enumerate((100.0 * image_features @ self.text_features.T).softmax(dim=-1).tolist())\n",
    "        # print(similarity)\n",
    "        res = [[self.categories[i], conf] for i, conf in sorted(similarity, key=lambda a: a[1], reverse=True)]\n",
    "        res = [[self.dop_cats[cat[0]] if cat[0] in self.dop_cats else cat[0], cat[1]] for cat in res]\n",
    "        if res[0][1] < self.other_thresh:\n",
    "            res[0][0] = 'Прочие'\n",
    "        return res"
   ]
  },
  {
   "cell_type": "code",
   "execution_count": null,
   "metadata": {},
   "outputs": [],
   "source": []
  },
  {
   "cell_type": "code",
   "execution_count": 11,
   "metadata": {},
   "outputs": [],
   "source": [
    "class MultilingClipCat(CategoryModel):\n",
    "    def __init__(self): \n",
    "        self.img_model = SentenceTransformer('clip-ViT-B-32')\n",
    "        self.text_model = SentenceTransformer('sentence-transformers/clip-ViT-B-32-multilingual-v1')\n",
    "    def encode_images(self, img): \n",
    "        return torch.Tensor(self.img_model.encode([img])[0]) \n",
    "    def encode_texts(self, texts): \n",
    "        return torch.Tensor(self.text_model.encode(texts))"
   ]
  },
  {
   "cell_type": "code",
   "execution_count": 15,
   "metadata": {},
   "outputs": [
    {
     "name": "stderr",
     "output_type": "stream",
     "text": [
      "/Users/roshi/image-search/venv/lib/python3.11/site-packages/tqdm/auto.py:21: TqdmWarning: IProgress not found. Please update jupyter and ipywidgets. See https://ipywidgets.readthedocs.io/en/stable/user_install.html\n",
      "  from .autonotebook import tqdm as notebook_tqdm\n",
      "/Users/roshi/image-search/venv/lib/python3.11/site-packages/bitsandbytes/cextension.py:34: UserWarning: The installed version of bitsandbytes was compiled without GPU support. 8-bit optimizers, 8-bit multiplication, and GPU quantization are unavailable.\n",
      "  warn(\"The installed version of bitsandbytes was compiled without GPU support. \"\n"
     ]
    },
    {
     "name": "stdout",
     "output_type": "stream",
     "text": [
      "'NoneType' object has no attribute 'cadam32bit_grad_fp32'\n"
     ]
    }
   ],
   "source": [
    "from multilingual_clip import pt_multilingual_clip\n",
    "import transformers\n",
    "import open_clip"
   ]
  },
  {
   "cell_type": "code",
   "execution_count": 13,
   "metadata": {},
   "outputs": [],
   "source": [
    "class LargeClipCat(CategoryModel):\n",
    "    def __init__(self):\n",
    "        self.model = pt_multilingual_clip.MultilingualCLIP.from_pretrained('M-CLIP/XLM-Roberta-Large-Vit-B-16Plus')\n",
    "        self.tokenizer = transformers.AutoTokenizer.from_pretrained('M-CLIP/XLM-Roberta-Large-Vit-B-16Plus')\n",
    "        self.device = \"cuda\" if torch.cuda.is_available() else \"cpu\"\n",
    "        self.img_model, _, self.preprocess = open_clip.create_model_and_transforms('ViT-B-16-plus-240', pretrained=\"laion400m_e32\")\n",
    "        self.img_model.to(self.device)\n",
    "    def encode_images(self, img): \n",
    "        image = self.preprocess(img).unsqueeze(0).to(self.device)\n",
    "        with torch.no_grad():\n",
    "            return self.img_model.encode_image(image)[0]\n",
    "    def encode_texts(self, texts): \n",
    "        return self.model.forward(texts, self.tokenizer)"
   ]
  },
  {
   "cell_type": "code",
   "execution_count": 9,
   "metadata": {},
   "outputs": [
    {
     "data": {
      "text/plain": [
       "tensor(0.6246)"
      ]
     },
     "execution_count": 9,
     "metadata": {},
     "output_type": "execute_result"
    }
   ],
   "source": [
    "model = LargeClipCat() \n",
    "#model.encode_texts(['asdf', 'asdf', 'DD'])\n",
    "model.encode_images(Image.open('sword.jpg'))[0]\n"
   ]
  },
  {
   "cell_type": "code",
   "execution_count": 111,
   "metadata": {},
   "outputs": [],
   "source": [
    "# import numpy.linalg\n",
    "# from scipy.special import softmax \n",
    "# import torch\n",
    "\n",
    "# categories = full_df['group'].unique().tolist()\n",
    "# categories.remove('Прочие')\n",
    "# # categories = categories.remove('ДПИ')\n",
    "# # categories.append('Декоративно-прикладное искусство')\n",
    "# pref = \"это музейный экспонат категории \"\n",
    "# texts = [pref+c for c in categories]\n",
    "# text_features = torch.Tensor(text_model.encode(texts))\n",
    "# text_features /= text_features.norm(dim=-1, keepdim=True)\n",
    "# def get_categories(img: str | Image.Image):\n",
    "#     if isinstance(img, str): \n",
    "#         img = Image.open(img)\n",
    "#     # Download the dataset\n",
    "#     # data_path = 'data/train.csv'\n",
    "#     # image_path = 'data/3850376.jpg'\n",
    "\n",
    "\n",
    "#     # Vectors creating\n",
    "#     # image_input = preprocess(img).unsqueeze(0).to(device)\n",
    "#     # text_inputs = torch.cat([clip.tokenize(f\"a photo of a {c}\") for c in categories]).to(device)\n",
    "\n",
    "#     image_features = torch.Tensor(img_model.encode([img])[0])\n",
    "#     # dists = []\n",
    "#     # for i, t in enumerate(texts): \n",
    "#     #     dists.append(distance.cosine(text_features[i], image_features))\n",
    "\n",
    "#     # dists = {categories[i]: dist for i, dist in enumerate(dists)}\n",
    "#     # best = sorted(list(dists.items()),key=lambda a: a[1])[:5]\n",
    "#     # print(best)\n",
    "#     # return best\n",
    "\n",
    "#     # Pick the top 5 most similar labels for the image\n",
    "#     image_features /= image_features.norm(dim=-1, keepdim=True)\n",
    "#     similarity = enumerate((100.0 * image_features @ text_features.T).softmax(dim=-1).tolist())\n",
    "#     # print(similarity)\n",
    "#     res = [[categories[i], conf] for i, conf in sorted(similarity, key=lambda a: a[1], reverse=True)]\n",
    "#     # if res[0][1] < 0.2:\n",
    "#     #     res[0][0] = 'Прочие'\n",
    "#     # if res[0][0] == 'Печатная продукция': \n",
    "#     #     res = res[1:]\n",
    "#     return res"
   ]
  },
  {
   "cell_type": "code",
   "execution_count": 6,
   "metadata": {},
   "outputs": [],
   "source": [
    "import sys, io \n",
    "def eval_model(cat_model, test_df): \n",
    "    # text_trap = io.StringIO()\n",
    "    # sys.stdout = text_trap\n",
    "    test_df['group_pred'] = test_df['embedding_path'].map(lambda path: cat_model.get_categories(path)[0][0])\n",
    "    # sys.stdout = sys.__stdout__\n",
    "    mistakes = test_df[test_df['group'] != test_df['group_pred']]\n",
    "    return mistakes"
   ]
  },
  {
   "cell_type": "code",
   "execution_count": 87,
   "metadata": {},
   "outputs": [
    {
     "ename": "NameError",
     "evalue": "name 'SentenceTransformer' is not defined",
     "output_type": "error",
     "traceback": [
      "\u001b[0;31m---------------------------------------------------------------------------\u001b[0m",
      "\u001b[0;31mNameError\u001b[0m                                 Traceback (most recent call last)",
      "\u001b[1;32m/Users/n0tsszzz/hackaton_museum/search.ipynb Ячейка 22\u001b[0m line \u001b[0;36m2\n\u001b[1;32m      <a href='vscode-notebook-cell:/Users/n0tsszzz/hackaton_museum/search.ipynb#X25sZmlsZQ%3D%3D?line=0'>1</a>\u001b[0m TEST_N \u001b[39m=\u001b[39m \u001b[39m100\u001b[39m\n\u001b[0;32m----> <a href='vscode-notebook-cell:/Users/n0tsszzz/hackaton_museum/search.ipynb#X25sZmlsZQ%3D%3D?line=1'>2</a>\u001b[0m model \u001b[39m=\u001b[39m MultilingClipCat() \n\u001b[1;32m      <a href='vscode-notebook-cell:/Users/n0tsszzz/hackaton_museum/search.ipynb#X25sZmlsZQ%3D%3D?line=2'>3</a>\u001b[0m classifiers \u001b[39m=\u001b[39m [CategoryGetter(full_df, \u001b[39m'\u001b[39m\u001b[39m'\u001b[39m, model), CategoryGetter(full_df, \u001b[39m'\u001b[39m\u001b[39mэкспонат музея категории \u001b[39m\u001b[39m'\u001b[39m, model)]\n\u001b[1;32m      <a href='vscode-notebook-cell:/Users/n0tsszzz/hackaton_museum/search.ipynb#X25sZmlsZQ%3D%3D?line=3'>4</a>\u001b[0m test_df \u001b[39m=\u001b[39m full_df\u001b[39m.\u001b[39msample(TEST_N)\n",
      "\u001b[1;32m/Users/n0tsszzz/hackaton_museum/search.ipynb Ячейка 22\u001b[0m line \u001b[0;36m3\n\u001b[1;32m      <a href='vscode-notebook-cell:/Users/n0tsszzz/hackaton_museum/search.ipynb#X25sZmlsZQ%3D%3D?line=1'>2</a>\u001b[0m \u001b[39mdef\u001b[39;00m \u001b[39m__init__\u001b[39m(\u001b[39mself\u001b[39m): \n\u001b[0;32m----> <a href='vscode-notebook-cell:/Users/n0tsszzz/hackaton_museum/search.ipynb#X25sZmlsZQ%3D%3D?line=2'>3</a>\u001b[0m     \u001b[39mself\u001b[39m\u001b[39m.\u001b[39mimg_model \u001b[39m=\u001b[39m SentenceTransformer(\u001b[39m'\u001b[39m\u001b[39mclip-ViT-B-32\u001b[39m\u001b[39m'\u001b[39m)\n\u001b[1;32m      <a href='vscode-notebook-cell:/Users/n0tsszzz/hackaton_museum/search.ipynb#X25sZmlsZQ%3D%3D?line=3'>4</a>\u001b[0m     \u001b[39mself\u001b[39m\u001b[39m.\u001b[39mtext_model \u001b[39m=\u001b[39m SentenceTransformer(\u001b[39m'\u001b[39m\u001b[39msentence-transformers/clip-ViT-B-32-multilingual-v1\u001b[39m\u001b[39m'\u001b[39m)\n",
      "\u001b[0;31mNameError\u001b[0m: name 'SentenceTransformer' is not defined"
     ]
    }
   ],
   "source": [
    "TEST_N = 100\n",
    "model = MultilingClipCat() \n",
    "classifiers = [CategoryGetter(full_df, '', model), CategoryGetter(full_df, 'экспонат музея категории ', model)]\n",
    "test_df = full_df.sample(TEST_N)\n",
    "results = {} \n",
    "for c in classifiers: \n",
    "    mistakes = eval_model(c, test_df) \n",
    "    results[c.pref] = mistakes"
   ]
  },
  {
   "cell_type": "code",
   "execution_count": 7,
   "metadata": {},
   "outputs": [
    {
     "name": "stdout",
     "output_type": "stream",
     "text": [
      "{'ДПИ': 'Рукоделие', 'Печатная продукция': 'Пресса, журналы, газеты', 'Документы': 'Деловая бумага', 'Техника': 'Технологические и электрические устройства', 'Естественнонауч.коллекция': 'предметы естественнонаучной коллекции', 'Живопись': 'Картина красками', 'Графика': 'Рисунок нарисованный карандашом и акварелью', 'Нумизматика': 'Марка, Деньги, Медали, Купюры, Значки'}\n",
      "['запись экспоната в музее категории Археология', 'запись экспоната в музее категории Оружие', 'запись экспоната в музее категории Марка, Деньги, Медали, Купюры, Значки', 'запись экспоната в музее категории Фото, негативы', 'запись экспоната в музее категории Редкие книги', 'запись экспоната в музее категории Деловая бумага', 'запись экспоната в музее категории Пресса, журналы, газеты', 'запись экспоната в музее категории Рукоделие', 'запись экспоната в музее категории Скульптура', 'запись экспоната в музее категории Рисунок нарисованный карандашом и акварелью', 'запись экспоната в музее категории Технологические и электрические устройства', 'запись экспоната в музее категории Картина красками', 'запись экспоната в музее категории предметы естественнонаучной коллекции', 'запись экспоната в музее категории Минералогия', 'запись экспоната в музее категории Меч', 'запись экспоната в музее категории чучело животных', 'запись экспоната в музее категории Часы', 'запись экспоната в музее категории Инструменты', 'запись экспоната в музее категории растения', 'запись экспоната в музее категории Игрушечные корабли', 'запись экспоната в музее категории Музыкальные инструменты']\n"
     ]
    },
    {
     "ename": "KeyboardInterrupt",
     "evalue": "",
     "output_type": "error",
     "traceback": [
      "\u001b[0;31m---------------------------------------------------------------------------\u001b[0m",
      "\u001b[0;31mKeyboardInterrupt\u001b[0m                         Traceback (most recent call last)",
      "\u001b[1;32m/Users/n0tsszzz/hackaton_museum/search.ipynb Ячейка 23\u001b[0m line \u001b[0;36m2\n\u001b[1;32m     <a href='vscode-notebook-cell:/Users/n0tsszzz/hackaton_museum/search.ipynb#X26sZmlsZQ%3D%3D?line=18'>19</a>\u001b[0m results \u001b[39m=\u001b[39m {}\n\u001b[1;32m     <a href='vscode-notebook-cell:/Users/n0tsszzz/hackaton_museum/search.ipynb#X26sZmlsZQ%3D%3D?line=19'>20</a>\u001b[0m \u001b[39mfor\u001b[39;00m c \u001b[39min\u001b[39;00m classifiers: \n\u001b[0;32m---> <a href='vscode-notebook-cell:/Users/n0tsszzz/hackaton_museum/search.ipynb#X26sZmlsZQ%3D%3D?line=20'>21</a>\u001b[0m     mistakes \u001b[39m=\u001b[39m eval_model(c, test_df) \n\u001b[1;32m     <a href='vscode-notebook-cell:/Users/n0tsszzz/hackaton_museum/search.ipynb#X26sZmlsZQ%3D%3D?line=21'>22</a>\u001b[0m     results[c] \u001b[39m=\u001b[39m mistakes\n",
      "\u001b[1;32m/Users/n0tsszzz/hackaton_museum/search.ipynb Ячейка 23\u001b[0m line \u001b[0;36m5\n\u001b[1;32m      <a href='vscode-notebook-cell:/Users/n0tsszzz/hackaton_museum/search.ipynb#X26sZmlsZQ%3D%3D?line=1'>2</a>\u001b[0m \u001b[39mdef\u001b[39;00m \u001b[39meval_model\u001b[39m(cat_model, test_df): \n\u001b[1;32m      <a href='vscode-notebook-cell:/Users/n0tsszzz/hackaton_museum/search.ipynb#X26sZmlsZQ%3D%3D?line=2'>3</a>\u001b[0m     \u001b[39m# text_trap = io.StringIO()\u001b[39;00m\n\u001b[1;32m      <a href='vscode-notebook-cell:/Users/n0tsszzz/hackaton_museum/search.ipynb#X26sZmlsZQ%3D%3D?line=3'>4</a>\u001b[0m     \u001b[39m# sys.stdout = text_trap\u001b[39;00m\n\u001b[0;32m----> <a href='vscode-notebook-cell:/Users/n0tsszzz/hackaton_museum/search.ipynb#X26sZmlsZQ%3D%3D?line=4'>5</a>\u001b[0m     test_df[\u001b[39m'\u001b[39m\u001b[39mgroup_pred\u001b[39m\u001b[39m'\u001b[39m] \u001b[39m=\u001b[39m test_df[\u001b[39m'\u001b[39;49m\u001b[39membedding_path\u001b[39;49m\u001b[39m'\u001b[39;49m]\u001b[39m.\u001b[39;49mmap(\u001b[39mlambda\u001b[39;49;00m path: cat_model\u001b[39m.\u001b[39;49mget_categories(path)[\u001b[39m0\u001b[39;49m][\u001b[39m0\u001b[39;49m])\n\u001b[1;32m      <a href='vscode-notebook-cell:/Users/n0tsszzz/hackaton_museum/search.ipynb#X26sZmlsZQ%3D%3D?line=5'>6</a>\u001b[0m     \u001b[39m# sys.stdout = sys.__stdout__\u001b[39;00m\n\u001b[1;32m      <a href='vscode-notebook-cell:/Users/n0tsszzz/hackaton_museum/search.ipynb#X26sZmlsZQ%3D%3D?line=6'>7</a>\u001b[0m     mistakes \u001b[39m=\u001b[39m test_df[test_df[\u001b[39m'\u001b[39m\u001b[39mgroup\u001b[39m\u001b[39m'\u001b[39m] \u001b[39m!=\u001b[39m test_df[\u001b[39m'\u001b[39m\u001b[39mgroup_pred\u001b[39m\u001b[39m'\u001b[39m]]\n",
      "File \u001b[0;32m~/hackaton_museum/venv/lib/python3.12/site-packages/pandas/core/series.py:4700\u001b[0m, in \u001b[0;36mSeries.map\u001b[0;34m(self, arg, na_action)\u001b[0m\n\u001b[1;32m   4620\u001b[0m \u001b[39mdef\u001b[39;00m \u001b[39mmap\u001b[39m(\n\u001b[1;32m   4621\u001b[0m     \u001b[39mself\u001b[39m,\n\u001b[1;32m   4622\u001b[0m     arg: Callable \u001b[39m|\u001b[39m Mapping \u001b[39m|\u001b[39m Series,\n\u001b[1;32m   4623\u001b[0m     na_action: Literal[\u001b[39m\"\u001b[39m\u001b[39mignore\u001b[39m\u001b[39m\"\u001b[39m] \u001b[39m|\u001b[39m \u001b[39mNone\u001b[39;00m \u001b[39m=\u001b[39m \u001b[39mNone\u001b[39;00m,\n\u001b[1;32m   4624\u001b[0m ) \u001b[39m-\u001b[39m\u001b[39m>\u001b[39m Series:\n\u001b[1;32m   4625\u001b[0m \u001b[39m    \u001b[39m\u001b[39m\"\"\"\u001b[39;00m\n\u001b[1;32m   4626\u001b[0m \u001b[39m    Map values of Series according to an input mapping or function.\u001b[39;00m\n\u001b[1;32m   4627\u001b[0m \n\u001b[0;32m   (...)\u001b[0m\n\u001b[1;32m   4698\u001b[0m \u001b[39m    dtype: object\u001b[39;00m\n\u001b[1;32m   4699\u001b[0m \u001b[39m    \"\"\"\u001b[39;00m\n\u001b[0;32m-> 4700\u001b[0m     new_values \u001b[39m=\u001b[39m \u001b[39mself\u001b[39;49m\u001b[39m.\u001b[39;49m_map_values(arg, na_action\u001b[39m=\u001b[39;49mna_action)\n\u001b[1;32m   4701\u001b[0m     \u001b[39mreturn\u001b[39;00m \u001b[39mself\u001b[39m\u001b[39m.\u001b[39m_constructor(new_values, index\u001b[39m=\u001b[39m\u001b[39mself\u001b[39m\u001b[39m.\u001b[39mindex, copy\u001b[39m=\u001b[39m\u001b[39mFalse\u001b[39;00m)\u001b[39m.\u001b[39m__finalize__(\n\u001b[1;32m   4702\u001b[0m         \u001b[39mself\u001b[39m, method\u001b[39m=\u001b[39m\u001b[39m\"\u001b[39m\u001b[39mmap\u001b[39m\u001b[39m\"\u001b[39m\n\u001b[1;32m   4703\u001b[0m     )\n",
      "File \u001b[0;32m~/hackaton_museum/venv/lib/python3.12/site-packages/pandas/core/base.py:921\u001b[0m, in \u001b[0;36mIndexOpsMixin._map_values\u001b[0;34m(self, mapper, na_action, convert)\u001b[0m\n\u001b[1;32m    918\u001b[0m \u001b[39mif\u001b[39;00m \u001b[39misinstance\u001b[39m(arr, ExtensionArray):\n\u001b[1;32m    919\u001b[0m     \u001b[39mreturn\u001b[39;00m arr\u001b[39m.\u001b[39mmap(mapper, na_action\u001b[39m=\u001b[39mna_action)\n\u001b[0;32m--> 921\u001b[0m \u001b[39mreturn\u001b[39;00m algorithms\u001b[39m.\u001b[39;49mmap_array(arr, mapper, na_action\u001b[39m=\u001b[39;49mna_action, convert\u001b[39m=\u001b[39;49mconvert)\n",
      "File \u001b[0;32m~/hackaton_museum/venv/lib/python3.12/site-packages/pandas/core/algorithms.py:1743\u001b[0m, in \u001b[0;36mmap_array\u001b[0;34m(arr, mapper, na_action, convert)\u001b[0m\n\u001b[1;32m   1741\u001b[0m values \u001b[39m=\u001b[39m arr\u001b[39m.\u001b[39mastype(\u001b[39mobject\u001b[39m, copy\u001b[39m=\u001b[39m\u001b[39mFalse\u001b[39;00m)\n\u001b[1;32m   1742\u001b[0m \u001b[39mif\u001b[39;00m na_action \u001b[39mis\u001b[39;00m \u001b[39mNone\u001b[39;00m:\n\u001b[0;32m-> 1743\u001b[0m     \u001b[39mreturn\u001b[39;00m lib\u001b[39m.\u001b[39;49mmap_infer(values, mapper, convert\u001b[39m=\u001b[39;49mconvert)\n\u001b[1;32m   1744\u001b[0m \u001b[39melse\u001b[39;00m:\n\u001b[1;32m   1745\u001b[0m     \u001b[39mreturn\u001b[39;00m lib\u001b[39m.\u001b[39mmap_infer_mask(\n\u001b[1;32m   1746\u001b[0m         values, mapper, mask\u001b[39m=\u001b[39misna(values)\u001b[39m.\u001b[39mview(np\u001b[39m.\u001b[39muint8), convert\u001b[39m=\u001b[39mconvert\n\u001b[1;32m   1747\u001b[0m     )\n",
      "File \u001b[0;32mlib.pyx:2972\u001b[0m, in \u001b[0;36mpandas._libs.lib.map_infer\u001b[0;34m()\u001b[0m\n",
      "\u001b[1;32m/Users/n0tsszzz/hackaton_museum/search.ipynb Ячейка 23\u001b[0m line \u001b[0;36m5\n\u001b[1;32m      <a href='vscode-notebook-cell:/Users/n0tsszzz/hackaton_museum/search.ipynb#X26sZmlsZQ%3D%3D?line=1'>2</a>\u001b[0m \u001b[39mdef\u001b[39;00m \u001b[39meval_model\u001b[39m(cat_model, test_df): \n\u001b[1;32m      <a href='vscode-notebook-cell:/Users/n0tsszzz/hackaton_museum/search.ipynb#X26sZmlsZQ%3D%3D?line=2'>3</a>\u001b[0m     \u001b[39m# text_trap = io.StringIO()\u001b[39;00m\n\u001b[1;32m      <a href='vscode-notebook-cell:/Users/n0tsszzz/hackaton_museum/search.ipynb#X26sZmlsZQ%3D%3D?line=3'>4</a>\u001b[0m     \u001b[39m# sys.stdout = text_trap\u001b[39;00m\n\u001b[0;32m----> <a href='vscode-notebook-cell:/Users/n0tsszzz/hackaton_museum/search.ipynb#X26sZmlsZQ%3D%3D?line=4'>5</a>\u001b[0m     test_df[\u001b[39m'\u001b[39m\u001b[39mgroup_pred\u001b[39m\u001b[39m'\u001b[39m] \u001b[39m=\u001b[39m test_df[\u001b[39m'\u001b[39m\u001b[39membedding_path\u001b[39m\u001b[39m'\u001b[39m]\u001b[39m.\u001b[39mmap(\u001b[39mlambda\u001b[39;00m path: cat_model\u001b[39m.\u001b[39;49mget_categories(path)[\u001b[39m0\u001b[39m][\u001b[39m0\u001b[39m])\n\u001b[1;32m      <a href='vscode-notebook-cell:/Users/n0tsszzz/hackaton_museum/search.ipynb#X26sZmlsZQ%3D%3D?line=5'>6</a>\u001b[0m     \u001b[39m# sys.stdout = sys.__stdout__\u001b[39;00m\n\u001b[1;32m      <a href='vscode-notebook-cell:/Users/n0tsszzz/hackaton_museum/search.ipynb#X26sZmlsZQ%3D%3D?line=6'>7</a>\u001b[0m     mistakes \u001b[39m=\u001b[39m test_df[test_df[\u001b[39m'\u001b[39m\u001b[39mgroup\u001b[39m\u001b[39m'\u001b[39m] \u001b[39m!=\u001b[39m test_df[\u001b[39m'\u001b[39m\u001b[39mgroup_pred\u001b[39m\u001b[39m'\u001b[39m]]\n",
      "\u001b[1;32m/Users/n0tsszzz/hackaton_museum/search.ipynb Ячейка 23\u001b[0m line \u001b[0;36m3\n\u001b[1;32m     <a href='vscode-notebook-cell:/Users/n0tsszzz/hackaton_museum/search.ipynb#X26sZmlsZQ%3D%3D?line=35'>36</a>\u001b[0m \u001b[39m# Pick the top 5 most similar labels for the image\u001b[39;00m\n\u001b[1;32m     <a href='vscode-notebook-cell:/Users/n0tsszzz/hackaton_museum/search.ipynb#X26sZmlsZQ%3D%3D?line=36'>37</a>\u001b[0m image_features \u001b[39m/\u001b[39m\u001b[39m=\u001b[39m image_features\u001b[39m.\u001b[39mnorm(dim\u001b[39m=\u001b[39m\u001b[39m-\u001b[39m\u001b[39m1\u001b[39m, keepdim\u001b[39m=\u001b[39m\u001b[39mTrue\u001b[39;00m)\n\u001b[0;32m---> <a href='vscode-notebook-cell:/Users/n0tsszzz/hackaton_museum/search.ipynb#X26sZmlsZQ%3D%3D?line=37'>38</a>\u001b[0m similarity \u001b[39m=\u001b[39m \u001b[39menumerate\u001b[39m((\u001b[39m100.0\u001b[39;49m \u001b[39m*\u001b[39;49m image_features \u001b[39m@\u001b[39;49m \u001b[39mself\u001b[39;49m\u001b[39m.\u001b[39;49mtext_features\u001b[39m.\u001b[39;49mT)\u001b[39m.\u001b[39;49msoftmax(dim\u001b[39m=\u001b[39;49m\u001b[39m-\u001b[39;49m\u001b[39m1\u001b[39;49m)\u001b[39m.\u001b[39mtolist())\n\u001b[1;32m     <a href='vscode-notebook-cell:/Users/n0tsszzz/hackaton_museum/search.ipynb#X26sZmlsZQ%3D%3D?line=38'>39</a>\u001b[0m \u001b[39m# print(similarity)\u001b[39;00m\n\u001b[1;32m     <a href='vscode-notebook-cell:/Users/n0tsszzz/hackaton_museum/search.ipynb#X26sZmlsZQ%3D%3D?line=39'>40</a>\u001b[0m res \u001b[39m=\u001b[39m [[\u001b[39mself\u001b[39m\u001b[39m.\u001b[39mcategories[i], conf] \u001b[39mfor\u001b[39;00m i, conf \u001b[39min\u001b[39;00m \u001b[39msorted\u001b[39m(similarity, key\u001b[39m=\u001b[39m\u001b[39mlambda\u001b[39;00m a: a[\u001b[39m1\u001b[39m], reverse\u001b[39m=\u001b[39m\u001b[39mTrue\u001b[39;00m)]\n",
      "\u001b[0;31mKeyboardInterrupt\u001b[0m: "
     ]
    }
   ],
   "source": [
    "TEST_N = 20000\n",
    "model = LargeClipCat()\n",
    "classifiers = [\n",
    "    CategoryGetter(full_df, 'запись экспоната в музее категории ', 0, model, dop_cats={'Меч': 'Оружие', 'чучело животных': 'Естественнонауч.коллекция', 'Часы': 'Техника', 'Инструменты': 'ДПИ', 'растения': 'Естественнонауч.коллекция', 'Игрушечные корабли': 'Прочие', 'Музыкальные инструменты': 'Прочие'}, mapper={\n",
    "        'ДПИ': 'Рукоделие',\n",
    "        'Печатная продукция': 'Пресса, журналы, газеты',\n",
    "        'Документы': 'Деловая бумага',\n",
    "        'Техника': 'Технологические и электрические устройства',\n",
    "        'Естественнонауч.коллекция': 'предметы естественнонаучной коллекции',\n",
    "        'Живопись': 'Картина красками',\n",
    "        'Графика': 'Рисунок нарисованный карандашом и акварелью',\n",
    "        # 'Редкие книги': 'Редкая обложка книги',\n",
    "        'Нумизматика': 'Марка, Деньги, Медали, Купюры, Значки',\n",
    "    })\n",
    "    #CategoryGetter(full_df, 'экспонат в музее категории ', 0.3, model, dop_cats={}, mapper={})\n",
    "]\n",
    "test_df = full_df.sample(TEST_N).copy() \n",
    "# test_df = test_df[test_df['group'].isin(['Документы', 'Печатная продукция'])]\n",
    "results = {}\n",
    "for c in classifiers: \n",
    "    mistakes = eval_model(c, test_df) \n",
    "    results[c] = mistakes"
   ]
  },
  {
   "cell_type": "code",
   "execution_count": 51,
   "metadata": {},
   "outputs": [
    {
     "name": "stdout",
     "output_type": "stream",
     "text": [
      "other_thresh= 0 запись экспоната в музее категории  {'Археология': 'Археология', 'Оружие': 'Оружие', 'Нумизматика': 'Марка, Деньги, Медали, Купюры, Значки', 'Фото, негативы': 'Фото, негативы', 'Редкие книги': 'Редкие книги', 'Документы': 'Деловая бумага', 'Печатная продукция': 'Пресса, журналы, газеты', 'ДПИ': 'Рукоделие', 'Скульптура': 'Скульптура', 'Графика': 'Рисунок нарисованный карандашом и акварелью', 'Техника': 'Технологические и электрические устройства', 'Живопись': 'Картина красками', 'Естественнонауч.коллекция': 'предметы естественнонаучной коллекции', 'Минералогия': 'Минералогия', 'Меч': 'Меч', 'чучело животных': 'чучело животных', 'Часы': 'Часы', 'Инструменты': 'Инструменты', 'растения': 'растения', 'Игрушечные корабли': 'Игрушечные корабли', 'Музыкальные инструменты': 'Музыкальные инструменты'}\n",
      "0.6291\n"
     ]
    },
    {
     "ename": "",
     "evalue": "",
     "output_type": "error",
     "traceback": [
      "\u001b[1;31mПри выполнении кода в текущей ячейке или предыдущей ячейке ядро аварийно завершило работу. Проверьте код в ячейках, чтобы определить возможную причину сбоя. Щелкните <a href=\"https://aka.ms/vscodeJupyterKernelCrash\">здесь</a> для получения дополнительных сведений. Подробнее см. в <a href='command:jupyter.viewOutput'>журнале Jupyter</a>."
     ]
    }
   ],
   "source": [
    "for c, mistakes in results.items():\n",
    "    print('other_thresh=',c.other_thresh, c.pref, c.mapper)\n",
    "    print((1-len(mistakes) / len(test_df)))"
   ]
  },
  {
   "cell_type": "code",
   "execution_count": null,
   "metadata": {},
   "outputs": [],
   "source": []
  },
  {
   "cell_type": "code",
   "execution_count": 60,
   "metadata": {},
   "outputs": [
    {
     "data": {
      "text/html": [
       "<div>\n",
       "<style scoped>\n",
       "    .dataframe tbody tr th:only-of-type {\n",
       "        vertical-align: middle;\n",
       "    }\n",
       "\n",
       "    .dataframe tbody tr th {\n",
       "        vertical-align: top;\n",
       "    }\n",
       "\n",
       "    .dataframe thead th {\n",
       "        text-align: right;\n",
       "    }\n",
       "</style>\n",
       "<table border=\"1\" class=\"dataframe\">\n",
       "  <thead>\n",
       "    <tr style=\"text-align: right;\">\n",
       "      <th></th>\n",
       "      <th>object_id</th>\n",
       "      <th>name</th>\n",
       "      <th>description</th>\n",
       "      <th>group</th>\n",
       "      <th>img_name</th>\n",
       "      <th>path</th>\n",
       "      <th>embedding_path</th>\n",
       "      <th>group_pred</th>\n",
       "    </tr>\n",
       "  </thead>\n",
       "  <tbody>\n",
       "    <tr>\n",
       "      <th>12041</th>\n",
       "      <td>11748486</td>\n",
       "      <td>Бинокль</td>\n",
       "      <td>Темно коричневого цвета. На длинном коричневом...</td>\n",
       "      <td>Техника</td>\n",
       "      <td>9315405.jpg</td>\n",
       "      <td>./mincult-train/train/11748486/9315405.jpg</td>\n",
       "      <td>./mincult-train/train/11748486/9315405.jpg.emb...</td>\n",
       "      <td>Оружие</td>\n",
       "    </tr>\n",
       "    <tr>\n",
       "      <th>2020</th>\n",
       "      <td>25584833</td>\n",
       "      <td>Светофильтр корректирующий 40 00 00</td>\n",
       "      <td>Светофильтр квадратной формы, желтого цвета. П...</td>\n",
       "      <td>ДПИ</td>\n",
       "      <td>28507612.jpg</td>\n",
       "      <td>./mincult-train/train/25584833/28507612.jpg</td>\n",
       "      <td>./mincult-train/train/25584833/28507612.jpg.em...</td>\n",
       "      <td>Документы</td>\n",
       "    </tr>\n",
       "    <tr>\n",
       "      <th>2056</th>\n",
       "      <td>9870685</td>\n",
       "      <td>Стаканчик</td>\n",
       "      <td>NaN</td>\n",
       "      <td>ДПИ</td>\n",
       "      <td>6663926.jpg</td>\n",
       "      <td>./mincult-train/train/9870685/6663926.jpg</td>\n",
       "      <td>./mincult-train/train/9870685/6663926.jpg.embe...</td>\n",
       "      <td>Нумизматика</td>\n",
       "    </tr>\n",
       "    <tr>\n",
       "      <th>6306</th>\n",
       "      <td>29019079</td>\n",
       "      <td>Журнал. Огонек.</td>\n",
       "      <td>На верхн. сторонке фото «В путь». Название жур...</td>\n",
       "      <td>Редкие книги</td>\n",
       "      <td>33382809.jpg</td>\n",
       "      <td>./mincult-train/train/29019079/33382809.jpg</td>\n",
       "      <td>./mincult-train/train/29019079/33382809.jpg.em...</td>\n",
       "      <td>Техника</td>\n",
       "    </tr>\n",
       "    <tr>\n",
       "      <th>2281</th>\n",
       "      <td>19074545</td>\n",
       "      <td>открытка. \"Тройка\"</td>\n",
       "      <td>NaN</td>\n",
       "      <td>Графика</td>\n",
       "      <td>19462394.jpg</td>\n",
       "      <td>./mincult-train/train/19074545/19462394.jpg</td>\n",
       "      <td>./mincult-train/train/19074545/19462394.jpg.em...</td>\n",
       "      <td>Редкие книги</td>\n",
       "    </tr>\n",
       "    <tr>\n",
       "      <th>...</th>\n",
       "      <td>...</td>\n",
       "      <td>...</td>\n",
       "      <td>...</td>\n",
       "      <td>...</td>\n",
       "      <td>...</td>\n",
       "      <td>...</td>\n",
       "      <td>...</td>\n",
       "      <td>...</td>\n",
       "    </tr>\n",
       "    <tr>\n",
       "      <th>5212</th>\n",
       "      <td>12542943</td>\n",
       "      <td>Противогаз. МО-4</td>\n",
       "      <td>Дата изготовления шлема-маски: 1988 г. дата из...</td>\n",
       "      <td>Техника</td>\n",
       "      <td>14159056.jpg</td>\n",
       "      <td>./mincult-train/train/12542943/14159056.jpg</td>\n",
       "      <td>./mincult-train/train/12542943/14159056.jpg.em...</td>\n",
       "      <td>Естественнонауч.коллекция</td>\n",
       "    </tr>\n",
       "    <tr>\n",
       "      <th>13946</th>\n",
       "      <td>10567379</td>\n",
       "      <td>Брошюра. \"Отчетный доклад XVII съезду партии о...</td>\n",
       "      <td>NaN</td>\n",
       "      <td>Печатная продукция</td>\n",
       "      <td>7723021.jpg</td>\n",
       "      <td>./mincult-train/train/10567379/7723021.jpg</td>\n",
       "      <td>./mincult-train/train/10567379/7723021.jpg.emb...</td>\n",
       "      <td>Редкие книги</td>\n",
       "    </tr>\n",
       "    <tr>\n",
       "      <th>12446</th>\n",
       "      <td>13250867</td>\n",
       "      <td>Брошюра. \"Дизельмотор В-2: краткое техническое...</td>\n",
       "      <td>NaN</td>\n",
       "      <td>Печатная продукция</td>\n",
       "      <td>14129772.jpg</td>\n",
       "      <td>./mincult-train/train/13250867/14129772.jpg</td>\n",
       "      <td>./mincult-train/train/13250867/14129772.jpg.em...</td>\n",
       "      <td>Редкие книги</td>\n",
       "    </tr>\n",
       "    <tr>\n",
       "      <th>5662</th>\n",
       "      <td>27087335</td>\n",
       "      <td>Буклет. Композиторы Тамбовского края. Юрий Ник...</td>\n",
       "      <td>Буклет. Композиторы Тамбовского края. Юрий Ник...</td>\n",
       "      <td>Печатная продукция</td>\n",
       "      <td>30645171.jpg</td>\n",
       "      <td>./mincult-train/train/27087335/30645171.jpg</td>\n",
       "      <td>./mincult-train/train/27087335/30645171.jpg.em...</td>\n",
       "      <td>Редкие книги</td>\n",
       "    </tr>\n",
       "    <tr>\n",
       "      <th>8202</th>\n",
       "      <td>4193158</td>\n",
       "      <td>Тройка бубен, из колоды карт игральных \"Русски...</td>\n",
       "      <td>NaN</td>\n",
       "      <td>Графика</td>\n",
       "      <td>22969791.jpg</td>\n",
       "      <td>./mincult-train/train/4193158/22969791.jpg</td>\n",
       "      <td>./mincult-train/train/4193158/22969791.jpg.emb...</td>\n",
       "      <td>Нумизматика</td>\n",
       "    </tr>\n",
       "  </tbody>\n",
       "</table>\n",
       "<p>7357 rows × 8 columns</p>\n",
       "</div>"
      ],
      "text/plain": [
       "       object_id                                               name  \\\n",
       "12041   11748486                                            Бинокль   \n",
       "2020    25584833                Светофильтр корректирующий 40 00 00   \n",
       "2056     9870685                                          Стаканчик   \n",
       "6306    29019079                                    Журнал. Огонек.   \n",
       "2281    19074545                                 открытка. \"Тройка\"   \n",
       "...          ...                                                ...   \n",
       "5212    12542943                                   Противогаз. МО-4   \n",
       "13946   10567379  Брошюра. \"Отчетный доклад XVII съезду партии о...   \n",
       "12446   13250867  Брошюра. \"Дизельмотор В-2: краткое техническое...   \n",
       "5662    27087335  Буклет. Композиторы Тамбовского края. Юрий Ник...   \n",
       "8202     4193158  Тройка бубен, из колоды карт игральных \"Русски...   \n",
       "\n",
       "                                             description               group  \\\n",
       "12041  Темно коричневого цвета. На длинном коричневом...             Техника   \n",
       "2020   Светофильтр квадратной формы, желтого цвета. П...                 ДПИ   \n",
       "2056                                                 NaN                 ДПИ   \n",
       "6306   На верхн. сторонке фото «В путь». Название жур...        Редкие книги   \n",
       "2281                                                 NaN             Графика   \n",
       "...                                                  ...                 ...   \n",
       "5212   Дата изготовления шлема-маски: 1988 г. дата из...             Техника   \n",
       "13946                                                NaN  Печатная продукция   \n",
       "12446                                                NaN  Печатная продукция   \n",
       "5662   Буклет. Композиторы Тамбовского края. Юрий Ник...  Печатная продукция   \n",
       "8202                                                 NaN             Графика   \n",
       "\n",
       "           img_name                                         path  \\\n",
       "12041   9315405.jpg   ./mincult-train/train/11748486/9315405.jpg   \n",
       "2020   28507612.jpg  ./mincult-train/train/25584833/28507612.jpg   \n",
       "2056    6663926.jpg    ./mincult-train/train/9870685/6663926.jpg   \n",
       "6306   33382809.jpg  ./mincult-train/train/29019079/33382809.jpg   \n",
       "2281   19462394.jpg  ./mincult-train/train/19074545/19462394.jpg   \n",
       "...             ...                                          ...   \n",
       "5212   14159056.jpg  ./mincult-train/train/12542943/14159056.jpg   \n",
       "13946   7723021.jpg   ./mincult-train/train/10567379/7723021.jpg   \n",
       "12446  14129772.jpg  ./mincult-train/train/13250867/14129772.jpg   \n",
       "5662   30645171.jpg  ./mincult-train/train/27087335/30645171.jpg   \n",
       "8202   22969791.jpg   ./mincult-train/train/4193158/22969791.jpg   \n",
       "\n",
       "                                          embedding_path  \\\n",
       "12041  ./mincult-train/train/11748486/9315405.jpg.emb...   \n",
       "2020   ./mincult-train/train/25584833/28507612.jpg.em...   \n",
       "2056   ./mincult-train/train/9870685/6663926.jpg.embe...   \n",
       "6306   ./mincult-train/train/29019079/33382809.jpg.em...   \n",
       "2281   ./mincult-train/train/19074545/19462394.jpg.em...   \n",
       "...                                                  ...   \n",
       "5212   ./mincult-train/train/12542943/14159056.jpg.em...   \n",
       "13946  ./mincult-train/train/10567379/7723021.jpg.emb...   \n",
       "12446  ./mincult-train/train/13250867/14129772.jpg.em...   \n",
       "5662   ./mincult-train/train/27087335/30645171.jpg.em...   \n",
       "8202   ./mincult-train/train/4193158/22969791.jpg.emb...   \n",
       "\n",
       "                      group_pred  \n",
       "12041                     Оружие  \n",
       "2020                   Документы  \n",
       "2056                 Нумизматика  \n",
       "6306                     Техника  \n",
       "2281                Редкие книги  \n",
       "...                          ...  \n",
       "5212   Естественнонауч.коллекция  \n",
       "13946               Редкие книги  \n",
       "12446               Редкие книги  \n",
       "5662                Редкие книги  \n",
       "8202                 Нумизматика  \n",
       "\n",
       "[7357 rows x 8 columns]"
      ]
     },
     "execution_count": 60,
     "metadata": {},
     "output_type": "execute_result"
    }
   ],
   "source": [
    "mistakes"
   ]
  },
  {
   "cell_type": "code",
   "execution_count": 46,
   "metadata": {},
   "outputs": [
    {
     "data": {
      "text/plain": [
       "Text(0, 0.5, 'Кол-во ошибок на 1000')"
      ]
     },
     "execution_count": 46,
     "metadata": {},
     "output_type": "execute_result"
    },
    {
     "data": {
      "image/png": "[encoded data removed]",
      "text/plain": [
       "<Figure size 640x480 with 1 Axes>"
      ]
     },
     "metadata": {},
     "output_type": "display_data"
    }
   ],
   "source": [
    "plt = mistakes.group.hist(xrot=90, bins=15, rwidth=0.8)\n",
    "plt.set_ylabel(f'Кол-во ошибок на {1000}')"
   ]
  },
  {
   "cell_type": "code",
   "execution_count": 48,
   "metadata": {},
   "outputs": [
    {
     "data": {
      "text/plain": [
       "Text(0, 0.5, 'Кол-во ошибок на 1000')"
      ]
     },
     "execution_count": 48,
     "metadata": {},
     "output_type": "execute_result"
    },
    {
     "data": {
      "image/png": "[encoded data removed]",
      "text/plain": [
       "<Figure size 640x480 with 1 Axes>"
      ]
     },
     "metadata": {},
     "output_type": "display_data"
    }
   ],
   "source": [
    "plt = mistakes.group_pred.hist(xrot=90, bins=15, rwidth=0.8)\n",
    "plt.set_ylabel(f'Кол-во ошибок на {1000}')"
   ]
  },
  {
   "cell_type": "code",
   "execution_count": 151,
   "metadata": {},
   "outputs": [
    {
     "name": "stderr",
     "output_type": "stream",
     "text": [
      "1it [00:00,  9.14it/s]"
     ]
    },
    {
     "name": "stdout",
     "output_type": "stream",
     "text": [
      "0\n"
     ]
    },
    {
     "name": "stderr",
     "output_type": "stream",
     "text": [
      "101it [00:08, 11.79it/s]"
     ]
    },
    {
     "name": "stdout",
     "output_type": "stream",
     "text": [
      "100\n"
     ]
    },
    {
     "name": "stderr",
     "output_type": "stream",
     "text": [
      "201it [00:18, 10.11it/s]"
     ]
    },
    {
     "name": "stdout",
     "output_type": "stream",
     "text": [
      "200\n"
     ]
    },
    {
     "name": "stderr",
     "output_type": "stream",
     "text": [
      "301it [00:28, 11.33it/s]"
     ]
    },
    {
     "name": "stdout",
     "output_type": "stream",
     "text": [
      "300\n"
     ]
    },
    {
     "name": "stderr",
     "output_type": "stream",
     "text": [
      "402it [00:38, 10.47it/s]"
     ]
    },
    {
     "name": "stdout",
     "output_type": "stream",
     "text": [
      "400\n"
     ]
    },
    {
     "name": "stderr",
     "output_type": "stream",
     "text": [
      "501it [00:47, 12.59it/s]"
     ]
    },
    {
     "name": "stdout",
     "output_type": "stream",
     "text": [
      "500\n"
     ]
    },
    {
     "name": "stderr",
     "output_type": "stream",
     "text": [
      "601it [00:56, 13.18it/s]"
     ]
    },
    {
     "name": "stdout",
     "output_type": "stream",
     "text": [
      "600\n"
     ]
    },
    {
     "name": "stderr",
     "output_type": "stream",
     "text": [
      "702it [01:06, 11.36it/s]"
     ]
    },
    {
     "name": "stdout",
     "output_type": "stream",
     "text": [
      "700\n"
     ]
    },
    {
     "name": "stderr",
     "output_type": "stream",
     "text": [
      "800it [01:15, 13.02it/s]"
     ]
    },
    {
     "name": "stdout",
     "output_type": "stream",
     "text": [
      "800\n"
     ]
    },
    {
     "name": "stderr",
     "output_type": "stream",
     "text": [
      "900it [01:26, 10.80it/s]"
     ]
    },
    {
     "name": "stdout",
     "output_type": "stream",
     "text": [
      "900\n"
     ]
    },
    {
     "name": "stderr",
     "output_type": "stream",
     "text": [
      "1000it [01:36, 10.10it/s]"
     ]
    },
    {
     "name": "stdout",
     "output_type": "stream",
     "text": [
      "1000\n"
     ]
    },
    {
     "name": "stderr",
     "output_type": "stream",
     "text": [
      "1101it [01:46, 11.47it/s]"
     ]
    },
    {
     "name": "stdout",
     "output_type": "stream",
     "text": [
      "1100\n"
     ]
    },
    {
     "name": "stderr",
     "output_type": "stream",
     "text": [
      "1202it [01:56, 11.43it/s]"
     ]
    },
    {
     "name": "stdout",
     "output_type": "stream",
     "text": [
      "1200\n"
     ]
    },
    {
     "name": "stderr",
     "output_type": "stream",
     "text": [
      "1301it [02:05, 10.36it/s]"
     ]
    },
    {
     "name": "stdout",
     "output_type": "stream",
     "text": [
      "1300\n"
     ]
    },
    {
     "name": "stderr",
     "output_type": "stream",
     "text": [
      "1401it [02:14, 10.92it/s]"
     ]
    },
    {
     "name": "stdout",
     "output_type": "stream",
     "text": [
      "1400\n"
     ]
    },
    {
     "name": "stderr",
     "output_type": "stream",
     "text": [
      "1500it [02:25, 10.43it/s]"
     ]
    },
    {
     "name": "stdout",
     "output_type": "stream",
     "text": [
      "1500\n"
     ]
    },
    {
     "name": "stderr",
     "output_type": "stream",
     "text": [
      "1601it [02:35, 10.19it/s]"
     ]
    },
    {
     "name": "stdout",
     "output_type": "stream",
     "text": [
      "1600\n"
     ]
    },
    {
     "name": "stderr",
     "output_type": "stream",
     "text": [
      "1702it [02:44, 11.25it/s]"
     ]
    },
    {
     "name": "stdout",
     "output_type": "stream",
     "text": [
      "1700\n"
     ]
    },
    {
     "name": "stderr",
     "output_type": "stream",
     "text": [
      "1801it [02:55,  9.33it/s]"
     ]
    },
    {
     "name": "stdout",
     "output_type": "stream",
     "text": [
      "1800\n"
     ]
    },
    {
     "name": "stderr",
     "output_type": "stream",
     "text": [
      "1901it [03:04, 11.40it/s]"
     ]
    },
    {
     "name": "stdout",
     "output_type": "stream",
     "text": [
      "1900\n"
     ]
    },
    {
     "name": "stderr",
     "output_type": "stream",
     "text": [
      "2002it [03:14, 11.52it/s]"
     ]
    },
    {
     "name": "stdout",
     "output_type": "stream",
     "text": [
      "2000\n"
     ]
    },
    {
     "name": "stderr",
     "output_type": "stream",
     "text": [
      "2101it [03:23, 11.86it/s]"
     ]
    },
    {
     "name": "stdout",
     "output_type": "stream",
     "text": [
      "2100\n"
     ]
    },
    {
     "name": "stderr",
     "output_type": "stream",
     "text": [
      "2202it [03:33, 11.37it/s]"
     ]
    },
    {
     "name": "stdout",
     "output_type": "stream",
     "text": [
      "2200\n"
     ]
    },
    {
     "name": "stderr",
     "output_type": "stream",
     "text": [
      "2301it [03:44,  9.53it/s]"
     ]
    },
    {
     "name": "stdout",
     "output_type": "stream",
     "text": [
      "2300\n"
     ]
    },
    {
     "name": "stderr",
     "output_type": "stream",
     "text": [
      "2401it [03:53, 11.44it/s]"
     ]
    },
    {
     "name": "stdout",
     "output_type": "stream",
     "text": [
      "2400\n"
     ]
    },
    {
     "name": "stderr",
     "output_type": "stream",
     "text": [
      "2501it [04:03, 10.34it/s]"
     ]
    },
    {
     "name": "stdout",
     "output_type": "stream",
     "text": [
      "2500\n"
     ]
    },
    {
     "name": "stderr",
     "output_type": "stream",
     "text": [
      "2601it [04:13,  9.67it/s]"
     ]
    },
    {
     "name": "stdout",
     "output_type": "stream",
     "text": [
      "2600\n"
     ]
    },
    {
     "name": "stderr",
     "output_type": "stream",
     "text": [
      "2702it [04:23, 10.09it/s]"
     ]
    },
    {
     "name": "stdout",
     "output_type": "stream",
     "text": [
      "2700\n"
     ]
    },
    {
     "name": "stderr",
     "output_type": "stream",
     "text": [
      "2801it [04:33, 11.82it/s]"
     ]
    },
    {
     "name": "stdout",
     "output_type": "stream",
     "text": [
      "2800\n"
     ]
    },
    {
     "name": "stderr",
     "output_type": "stream",
     "text": [
      "2899it [04:42, 10.83it/s]"
     ]
    },
    {
     "name": "stdout",
     "output_type": "stream",
     "text": [
      "2900\n"
     ]
    },
    {
     "name": "stderr",
     "output_type": "stream",
     "text": [
      "3001it [04:53,  9.17it/s]"
     ]
    },
    {
     "name": "stdout",
     "output_type": "stream",
     "text": [
      "3000\n"
     ]
    },
    {
     "name": "stderr",
     "output_type": "stream",
     "text": [
      "3101it [05:02,  9.97it/s]"
     ]
    },
    {
     "name": "stdout",
     "output_type": "stream",
     "text": [
      "3100\n"
     ]
    },
    {
     "name": "stderr",
     "output_type": "stream",
     "text": [
      "3202it [05:12,  9.96it/s]"
     ]
    },
    {
     "name": "stdout",
     "output_type": "stream",
     "text": [
      "3200\n"
     ]
    },
    {
     "name": "stderr",
     "output_type": "stream",
     "text": [
      "3302it [05:22, 10.89it/s]"
     ]
    },
    {
     "name": "stdout",
     "output_type": "stream",
     "text": [
      "3300\n"
     ]
    },
    {
     "name": "stderr",
     "output_type": "stream",
     "text": [
      "3400it [05:31, 11.99it/s]"
     ]
    },
    {
     "name": "stdout",
     "output_type": "stream",
     "text": [
      "3400\n"
     ]
    },
    {
     "name": "stderr",
     "output_type": "stream",
     "text": [
      "3502it [05:41, 10.59it/s]"
     ]
    },
    {
     "name": "stdout",
     "output_type": "stream",
     "text": [
      "3500\n"
     ]
    },
    {
     "name": "stderr",
     "output_type": "stream",
     "text": [
      "3601it [05:50,  8.64it/s]"
     ]
    },
    {
     "name": "stdout",
     "output_type": "stream",
     "text": [
      "3600\n"
     ]
    },
    {
     "name": "stderr",
     "output_type": "stream",
     "text": [
      "3701it [06:01,  9.25it/s]"
     ]
    },
    {
     "name": "stdout",
     "output_type": "stream",
     "text": [
      "3700\n"
     ]
    },
    {
     "name": "stderr",
     "output_type": "stream",
     "text": [
      "3801it [06:11, 10.42it/s]"
     ]
    },
    {
     "name": "stdout",
     "output_type": "stream",
     "text": [
      "3800\n"
     ]
    },
    {
     "name": "stderr",
     "output_type": "stream",
     "text": [
      "3901it [06:21, 10.21it/s]"
     ]
    },
    {
     "name": "stdout",
     "output_type": "stream",
     "text": [
      "3900\n"
     ]
    },
    {
     "name": "stderr",
     "output_type": "stream",
     "text": [
      "4001it [06:30, 11.01it/s]"
     ]
    },
    {
     "name": "stdout",
     "output_type": "stream",
     "text": [
      "4000\n"
     ]
    },
    {
     "name": "stderr",
     "output_type": "stream",
     "text": [
      "4101it [06:40, 10.54it/s]"
     ]
    },
    {
     "name": "stdout",
     "output_type": "stream",
     "text": [
      "4100\n"
     ]
    },
    {
     "name": "stderr",
     "output_type": "stream",
     "text": [
      "4202it [06:50, 10.79it/s]"
     ]
    },
    {
     "name": "stdout",
     "output_type": "stream",
     "text": [
      "4200\n"
     ]
    },
    {
     "name": "stderr",
     "output_type": "stream",
     "text": [
      "4301it [07:00, 10.22it/s]"
     ]
    },
    {
     "name": "stdout",
     "output_type": "stream",
     "text": [
      "4300\n"
     ]
    },
    {
     "name": "stderr",
     "output_type": "stream",
     "text": [
      "4401it [07:10, 11.55it/s]"
     ]
    },
    {
     "name": "stdout",
     "output_type": "stream",
     "text": [
      "4400\n"
     ]
    },
    {
     "name": "stderr",
     "output_type": "stream",
     "text": [
      "4502it [07:20, 10.31it/s]"
     ]
    },
    {
     "name": "stdout",
     "output_type": "stream",
     "text": [
      "4500\n"
     ]
    },
    {
     "name": "stderr",
     "output_type": "stream",
     "text": [
      "4601it [07:31,  9.04it/s]"
     ]
    },
    {
     "name": "stdout",
     "output_type": "stream",
     "text": [
      "4600\n"
     ]
    },
    {
     "name": "stderr",
     "output_type": "stream",
     "text": [
      "4702it [07:40, 11.08it/s]"
     ]
    },
    {
     "name": "stdout",
     "output_type": "stream",
     "text": [
      "4700\n"
     ]
    },
    {
     "name": "stderr",
     "output_type": "stream",
     "text": [
      "4802it [07:49, 11.35it/s]"
     ]
    },
    {
     "name": "stdout",
     "output_type": "stream",
     "text": [
      "4800\n"
     ]
    },
    {
     "name": "stderr",
     "output_type": "stream",
     "text": [
      "4901it [07:59, 10.97it/s]"
     ]
    },
    {
     "name": "stdout",
     "output_type": "stream",
     "text": [
      "4900\n"
     ]
    },
    {
     "name": "stderr",
     "output_type": "stream",
     "text": [
      "5001it [08:09, 11.09it/s]"
     ]
    },
    {
     "name": "stdout",
     "output_type": "stream",
     "text": [
      "5000\n"
     ]
    },
    {
     "name": "stderr",
     "output_type": "stream",
     "text": [
      "5099it [08:19, 11.66it/s]"
     ]
    },
    {
     "name": "stdout",
     "output_type": "stream",
     "text": [
      "5100\n"
     ]
    },
    {
     "name": "stderr",
     "output_type": "stream",
     "text": [
      "5201it [08:29, 10.44it/s]"
     ]
    },
    {
     "name": "stdout",
     "output_type": "stream",
     "text": [
      "5200\n"
     ]
    },
    {
     "name": "stderr",
     "output_type": "stream",
     "text": [
      "5301it [08:39,  9.19it/s]"
     ]
    },
    {
     "name": "stdout",
     "output_type": "stream",
     "text": [
      "5300\n"
     ]
    },
    {
     "name": "stderr",
     "output_type": "stream",
     "text": [
      "5402it [08:48,  9.82it/s]"
     ]
    },
    {
     "name": "stdout",
     "output_type": "stream",
     "text": [
      "5400\n"
     ]
    },
    {
     "name": "stderr",
     "output_type": "stream",
     "text": [
      "5502it [08:58,  8.86it/s]"
     ]
    },
    {
     "name": "stdout",
     "output_type": "stream",
     "text": [
      "5500\n"
     ]
    },
    {
     "name": "stderr",
     "output_type": "stream",
     "text": [
      "5602it [09:08, 11.67it/s]"
     ]
    },
    {
     "name": "stdout",
     "output_type": "stream",
     "text": [
      "5600\n"
     ]
    },
    {
     "name": "stderr",
     "output_type": "stream",
     "text": [
      "5702it [09:18, 10.70it/s]"
     ]
    },
    {
     "name": "stdout",
     "output_type": "stream",
     "text": [
      "5700\n"
     ]
    },
    {
     "name": "stderr",
     "output_type": "stream",
     "text": [
      "5801it [09:28, 10.06it/s]"
     ]
    },
    {
     "name": "stdout",
     "output_type": "stream",
     "text": [
      "5800\n"
     ]
    },
    {
     "name": "stderr",
     "output_type": "stream",
     "text": [
      "5900it [09:38, 11.18it/s]"
     ]
    },
    {
     "name": "stdout",
     "output_type": "stream",
     "text": [
      "5900\n"
     ]
    },
    {
     "name": "stderr",
     "output_type": "stream",
     "text": [
      "6000it [09:48, 10.28it/s]"
     ]
    },
    {
     "name": "stdout",
     "output_type": "stream",
     "text": [
      "6000\n"
     ]
    },
    {
     "name": "stderr",
     "output_type": "stream",
     "text": [
      "6099it [09:58, 11.27it/s]"
     ]
    },
    {
     "name": "stdout",
     "output_type": "stream",
     "text": [
      "6100\n"
     ]
    },
    {
     "name": "stderr",
     "output_type": "stream",
     "text": [
      "6202it [10:09,  9.94it/s]"
     ]
    },
    {
     "name": "stdout",
     "output_type": "stream",
     "text": [
      "6200\n"
     ]
    },
    {
     "name": "stderr",
     "output_type": "stream",
     "text": [
      "6301it [10:18, 10.73it/s]"
     ]
    },
    {
     "name": "stdout",
     "output_type": "stream",
     "text": [
      "6300\n"
     ]
    },
    {
     "name": "stderr",
     "output_type": "stream",
     "text": [
      "6402it [10:28,  9.77it/s]"
     ]
    },
    {
     "name": "stdout",
     "output_type": "stream",
     "text": [
      "6400\n"
     ]
    },
    {
     "name": "stderr",
     "output_type": "stream",
     "text": [
      "6502it [10:39,  9.95it/s]"
     ]
    },
    {
     "name": "stdout",
     "output_type": "stream",
     "text": [
      "6500\n"
     ]
    },
    {
     "name": "stderr",
     "output_type": "stream",
     "text": [
      "6602it [10:49, 10.64it/s]"
     ]
    },
    {
     "name": "stdout",
     "output_type": "stream",
     "text": [
      "6600\n"
     ]
    },
    {
     "name": "stderr",
     "output_type": "stream",
     "text": [
      "6702it [10:59, 10.65it/s]"
     ]
    },
    {
     "name": "stdout",
     "output_type": "stream",
     "text": [
      "6700\n"
     ]
    },
    {
     "name": "stderr",
     "output_type": "stream",
     "text": [
      "6801it [11:08,  9.01it/s]"
     ]
    },
    {
     "name": "stdout",
     "output_type": "stream",
     "text": [
      "6800\n"
     ]
    },
    {
     "name": "stderr",
     "output_type": "stream",
     "text": [
      "6900it [11:18,  8.71it/s]"
     ]
    },
    {
     "name": "stdout",
     "output_type": "stream",
     "text": [
      "6900\n"
     ]
    },
    {
     "name": "stderr",
     "output_type": "stream",
     "text": [
      "7001it [11:28, 10.50it/s]"
     ]
    },
    {
     "name": "stdout",
     "output_type": "stream",
     "text": [
      "7000\n"
     ]
    },
    {
     "name": "stderr",
     "output_type": "stream",
     "text": [
      "7101it [11:38, 11.12it/s]"
     ]
    },
    {
     "name": "stdout",
     "output_type": "stream",
     "text": [
      "7100\n"
     ]
    },
    {
     "name": "stderr",
     "output_type": "stream",
     "text": [
      "7201it [11:49, 10.54it/s]"
     ]
    },
    {
     "name": "stdout",
     "output_type": "stream",
     "text": [
      "7200\n"
     ]
    },
    {
     "name": "stderr",
     "output_type": "stream",
     "text": [
      "7302it [11:58, 11.32it/s]"
     ]
    },
    {
     "name": "stdout",
     "output_type": "stream",
     "text": [
      "7300\n"
     ]
    },
    {
     "name": "stderr",
     "output_type": "stream",
     "text": [
      "7402it [12:08, 10.76it/s]"
     ]
    },
    {
     "name": "stdout",
     "output_type": "stream",
     "text": [
      "7400\n"
     ]
    },
    {
     "name": "stderr",
     "output_type": "stream",
     "text": [
      "7502it [12:17, 10.97it/s]"
     ]
    },
    {
     "name": "stdout",
     "output_type": "stream",
     "text": [
      "7500\n"
     ]
    },
    {
     "name": "stderr",
     "output_type": "stream",
     "text": [
      "7600it [12:27,  9.51it/s]"
     ]
    },
    {
     "name": "stdout",
     "output_type": "stream",
     "text": [
      "7600\n"
     ]
    },
    {
     "name": "stderr",
     "output_type": "stream",
     "text": [
      "7701it [12:37, 10.90it/s]"
     ]
    },
    {
     "name": "stdout",
     "output_type": "stream",
     "text": [
      "7700\n"
     ]
    },
    {
     "name": "stderr",
     "output_type": "stream",
     "text": [
      "7801it [12:46, 11.63it/s]"
     ]
    },
    {
     "name": "stdout",
     "output_type": "stream",
     "text": [
      "7800\n"
     ]
    },
    {
     "name": "stderr",
     "output_type": "stream",
     "text": [
      "7901it [12:55, 11.42it/s]"
     ]
    },
    {
     "name": "stdout",
     "output_type": "stream",
     "text": [
      "7900\n"
     ]
    },
    {
     "name": "stderr",
     "output_type": "stream",
     "text": [
      "8001it [13:04, 10.46it/s]"
     ]
    },
    {
     "name": "stdout",
     "output_type": "stream",
     "text": [
      "8000\n"
     ]
    },
    {
     "name": "stderr",
     "output_type": "stream",
     "text": [
      "8100it [13:14, 10.98it/s]"
     ]
    },
    {
     "name": "stdout",
     "output_type": "stream",
     "text": [
      "8100\n"
     ]
    },
    {
     "name": "stderr",
     "output_type": "stream",
     "text": [
      "8201it [13:24, 11.82it/s]"
     ]
    },
    {
     "name": "stdout",
     "output_type": "stream",
     "text": [
      "8200\n"
     ]
    },
    {
     "name": "stderr",
     "output_type": "stream",
     "text": [
      "8302it [13:33, 11.90it/s]"
     ]
    },
    {
     "name": "stdout",
     "output_type": "stream",
     "text": [
      "8300\n"
     ]
    },
    {
     "name": "stderr",
     "output_type": "stream",
     "text": [
      "8402it [13:43, 11.58it/s]"
     ]
    },
    {
     "name": "stdout",
     "output_type": "stream",
     "text": [
      "8400\n"
     ]
    },
    {
     "name": "stderr",
     "output_type": "stream",
     "text": [
      "8502it [13:53, 11.93it/s]"
     ]
    },
    {
     "name": "stdout",
     "output_type": "stream",
     "text": [
      "8500\n"
     ]
    },
    {
     "name": "stderr",
     "output_type": "stream",
     "text": [
      "8602it [14:02, 11.31it/s]"
     ]
    },
    {
     "name": "stdout",
     "output_type": "stream",
     "text": [
      "8600\n"
     ]
    },
    {
     "name": "stderr",
     "output_type": "stream",
     "text": [
      "8702it [14:12,  9.75it/s]"
     ]
    },
    {
     "name": "stdout",
     "output_type": "stream",
     "text": [
      "8700\n"
     ]
    },
    {
     "name": "stderr",
     "output_type": "stream",
     "text": [
      "8802it [14:21, 11.97it/s]"
     ]
    },
    {
     "name": "stdout",
     "output_type": "stream",
     "text": [
      "8800\n"
     ]
    },
    {
     "name": "stderr",
     "output_type": "stream",
     "text": [
      "8901it [14:31, 11.72it/s]"
     ]
    },
    {
     "name": "stdout",
     "output_type": "stream",
     "text": [
      "8900\n"
     ]
    },
    {
     "name": "stderr",
     "output_type": "stream",
     "text": [
      "9000it [14:40,  9.41it/s]"
     ]
    },
    {
     "name": "stdout",
     "output_type": "stream",
     "text": [
      "9000\n"
     ]
    },
    {
     "name": "stderr",
     "output_type": "stream",
     "text": [
      "9102it [14:50, 12.00it/s]"
     ]
    },
    {
     "name": "stdout",
     "output_type": "stream",
     "text": [
      "9100\n"
     ]
    },
    {
     "name": "stderr",
     "output_type": "stream",
     "text": [
      "9201it [14:59, 11.89it/s]"
     ]
    },
    {
     "name": "stdout",
     "output_type": "stream",
     "text": [
      "9200\n"
     ]
    },
    {
     "name": "stderr",
     "output_type": "stream",
     "text": [
      "9301it [15:08, 10.01it/s]"
     ]
    },
    {
     "name": "stdout",
     "output_type": "stream",
     "text": [
      "9300\n"
     ]
    },
    {
     "name": "stderr",
     "output_type": "stream",
     "text": [
      "9401it [15:18, 11.06it/s]"
     ]
    },
    {
     "name": "stdout",
     "output_type": "stream",
     "text": [
      "9400\n"
     ]
    },
    {
     "name": "stderr",
     "output_type": "stream",
     "text": [
      "9501it [15:27, 10.01it/s]"
     ]
    },
    {
     "name": "stdout",
     "output_type": "stream",
     "text": [
      "9500\n"
     ]
    },
    {
     "name": "stderr",
     "output_type": "stream",
     "text": [
      "9601it [15:36, 10.20it/s]"
     ]
    },
    {
     "name": "stdout",
     "output_type": "stream",
     "text": [
      "9600\n"
     ]
    },
    {
     "name": "stderr",
     "output_type": "stream",
     "text": [
      "9701it [15:47, 11.95it/s]"
     ]
    },
    {
     "name": "stdout",
     "output_type": "stream",
     "text": [
      "9700\n"
     ]
    },
    {
     "name": "stderr",
     "output_type": "stream",
     "text": [
      "9802it [15:57, 10.75it/s]"
     ]
    },
    {
     "name": "stdout",
     "output_type": "stream",
     "text": [
      "9800\n"
     ]
    },
    {
     "name": "stderr",
     "output_type": "stream",
     "text": [
      "9901it [16:06, 10.13it/s]"
     ]
    },
    {
     "name": "stdout",
     "output_type": "stream",
     "text": [
      "9900\n"
     ]
    },
    {
     "name": "stderr",
     "output_type": "stream",
     "text": [
      "10001it [16:16, 11.34it/s]"
     ]
    },
    {
     "name": "stdout",
     "output_type": "stream",
     "text": [
      "10000\n"
     ]
    },
    {
     "name": "stderr",
     "output_type": "stream",
     "text": [
      "10102it [16:25, 11.58it/s]"
     ]
    },
    {
     "name": "stdout",
     "output_type": "stream",
     "text": [
      "10100\n"
     ]
    },
    {
     "name": "stderr",
     "output_type": "stream",
     "text": [
      "10201it [16:35, 10.90it/s]"
     ]
    },
    {
     "name": "stdout",
     "output_type": "stream",
     "text": [
      "10200\n"
     ]
    },
    {
     "name": "stderr",
     "output_type": "stream",
     "text": [
      "10301it [16:45,  9.92it/s]"
     ]
    },
    {
     "name": "stdout",
     "output_type": "stream",
     "text": [
      "10300\n"
     ]
    },
    {
     "name": "stderr",
     "output_type": "stream",
     "text": [
      "10402it [16:55,  9.73it/s]"
     ]
    },
    {
     "name": "stdout",
     "output_type": "stream",
     "text": [
      "10400\n"
     ]
    },
    {
     "name": "stderr",
     "output_type": "stream",
     "text": [
      "10501it [17:06,  8.31it/s]"
     ]
    },
    {
     "name": "stdout",
     "output_type": "stream",
     "text": [
      "10500\n"
     ]
    },
    {
     "name": "stderr",
     "output_type": "stream",
     "text": [
      "10602it [17:16, 10.33it/s]"
     ]
    },
    {
     "name": "stdout",
     "output_type": "stream",
     "text": [
      "10600\n"
     ]
    },
    {
     "name": "stderr",
     "output_type": "stream",
     "text": [
      "10701it [17:25,  9.49it/s]"
     ]
    },
    {
     "name": "stdout",
     "output_type": "stream",
     "text": [
      "10700\n"
     ]
    },
    {
     "name": "stderr",
     "output_type": "stream",
     "text": [
      "10801it [17:35, 10.98it/s]"
     ]
    },
    {
     "name": "stdout",
     "output_type": "stream",
     "text": [
      "10800\n"
     ]
    },
    {
     "name": "stderr",
     "output_type": "stream",
     "text": [
      "10901it [17:44, 10.02it/s]"
     ]
    },
    {
     "name": "stdout",
     "output_type": "stream",
     "text": [
      "10900\n"
     ]
    },
    {
     "name": "stderr",
     "output_type": "stream",
     "text": [
      "11002it [17:54, 10.54it/s]"
     ]
    },
    {
     "name": "stdout",
     "output_type": "stream",
     "text": [
      "11000\n"
     ]
    },
    {
     "name": "stderr",
     "output_type": "stream",
     "text": [
      "11102it [18:03, 11.48it/s]"
     ]
    },
    {
     "name": "stdout",
     "output_type": "stream",
     "text": [
      "11100\n"
     ]
    },
    {
     "name": "stderr",
     "output_type": "stream",
     "text": [
      "11202it [18:13, 10.14it/s]"
     ]
    },
    {
     "name": "stdout",
     "output_type": "stream",
     "text": [
      "11200\n"
     ]
    },
    {
     "name": "stderr",
     "output_type": "stream",
     "text": [
      "11302it [18:23, 10.52it/s]"
     ]
    },
    {
     "name": "stdout",
     "output_type": "stream",
     "text": [
      "11300\n"
     ]
    },
    {
     "name": "stderr",
     "output_type": "stream",
     "text": [
      "11400it [18:33,  9.10it/s]"
     ]
    },
    {
     "name": "stdout",
     "output_type": "stream",
     "text": [
      "11400\n"
     ]
    },
    {
     "name": "stderr",
     "output_type": "stream",
     "text": [
      "11501it [18:42, 10.21it/s]"
     ]
    },
    {
     "name": "stdout",
     "output_type": "stream",
     "text": [
      "11500\n"
     ]
    },
    {
     "name": "stderr",
     "output_type": "stream",
     "text": [
      "11601it [18:52, 11.03it/s]"
     ]
    },
    {
     "name": "stdout",
     "output_type": "stream",
     "text": [
      "11600\n"
     ]
    },
    {
     "name": "stderr",
     "output_type": "stream",
     "text": [
      "11702it [19:02, 11.50it/s]"
     ]
    },
    {
     "name": "stdout",
     "output_type": "stream",
     "text": [
      "11700\n"
     ]
    },
    {
     "name": "stderr",
     "output_type": "stream",
     "text": [
      "11801it [19:11, 10.87it/s]"
     ]
    },
    {
     "name": "stdout",
     "output_type": "stream",
     "text": [
      "11800\n"
     ]
    },
    {
     "name": "stderr",
     "output_type": "stream",
     "text": [
      "11901it [19:21,  6.64it/s]"
     ]
    },
    {
     "name": "stdout",
     "output_type": "stream",
     "text": [
      "11900\n"
     ]
    },
    {
     "name": "stderr",
     "output_type": "stream",
     "text": [
      "12001it [19:31, 11.04it/s]"
     ]
    },
    {
     "name": "stdout",
     "output_type": "stream",
     "text": [
      "12000\n"
     ]
    },
    {
     "name": "stderr",
     "output_type": "stream",
     "text": [
      "12101it [19:41, 12.02it/s]"
     ]
    },
    {
     "name": "stdout",
     "output_type": "stream",
     "text": [
      "12100\n"
     ]
    },
    {
     "name": "stderr",
     "output_type": "stream",
     "text": [
      "12202it [19:50, 11.50it/s]"
     ]
    },
    {
     "name": "stdout",
     "output_type": "stream",
     "text": [
      "12200\n"
     ]
    },
    {
     "name": "stderr",
     "output_type": "stream",
     "text": [
      "12301it [20:00, 10.81it/s]"
     ]
    },
    {
     "name": "stdout",
     "output_type": "stream",
     "text": [
      "12300\n"
     ]
    },
    {
     "name": "stderr",
     "output_type": "stream",
     "text": [
      "12401it [20:10,  9.46it/s]"
     ]
    },
    {
     "name": "stdout",
     "output_type": "stream",
     "text": [
      "12400\n"
     ]
    },
    {
     "name": "stderr",
     "output_type": "stream",
     "text": [
      "12502it [20:21, 10.69it/s]"
     ]
    },
    {
     "name": "stdout",
     "output_type": "stream",
     "text": [
      "12500\n"
     ]
    },
    {
     "name": "stderr",
     "output_type": "stream",
     "text": [
      "12602it [20:30, 10.72it/s]"
     ]
    },
    {
     "name": "stdout",
     "output_type": "stream",
     "text": [
      "12600\n"
     ]
    },
    {
     "name": "stderr",
     "output_type": "stream",
     "text": [
      "12702it [20:40,  9.95it/s]"
     ]
    },
    {
     "name": "stdout",
     "output_type": "stream",
     "text": [
      "12700\n"
     ]
    },
    {
     "name": "stderr",
     "output_type": "stream",
     "text": [
      "12801it [20:50, 10.11it/s]"
     ]
    },
    {
     "name": "stdout",
     "output_type": "stream",
     "text": [
      "12800\n"
     ]
    },
    {
     "name": "stderr",
     "output_type": "stream",
     "text": [
      "12899it [21:00, 11.70it/s]"
     ]
    },
    {
     "name": "stdout",
     "output_type": "stream",
     "text": [
      "12900\n"
     ]
    },
    {
     "name": "stderr",
     "output_type": "stream",
     "text": [
      "13001it [21:10,  8.94it/s]"
     ]
    },
    {
     "name": "stdout",
     "output_type": "stream",
     "text": [
      "13000\n"
     ]
    },
    {
     "name": "stderr",
     "output_type": "stream",
     "text": [
      "13101it [21:20,  8.86it/s]"
     ]
    },
    {
     "name": "stdout",
     "output_type": "stream",
     "text": [
      "13100\n"
     ]
    },
    {
     "name": "stderr",
     "output_type": "stream",
     "text": [
      "13202it [21:30, 10.08it/s]"
     ]
    },
    {
     "name": "stdout",
     "output_type": "stream",
     "text": [
      "13200\n"
     ]
    },
    {
     "name": "stderr",
     "output_type": "stream",
     "text": [
      "13302it [21:40, 10.97it/s]"
     ]
    },
    {
     "name": "stdout",
     "output_type": "stream",
     "text": [
      "13300\n"
     ]
    },
    {
     "name": "stderr",
     "output_type": "stream",
     "text": [
      "13401it [21:50, 10.55it/s]"
     ]
    },
    {
     "name": "stdout",
     "output_type": "stream",
     "text": [
      "13400\n"
     ]
    },
    {
     "name": "stderr",
     "output_type": "stream",
     "text": [
      "13502it [22:00, 10.47it/s]"
     ]
    },
    {
     "name": "stdout",
     "output_type": "stream",
     "text": [
      "13500\n"
     ]
    },
    {
     "name": "stderr",
     "output_type": "stream",
     "text": [
      "13602it [22:10, 11.38it/s]"
     ]
    },
    {
     "name": "stdout",
     "output_type": "stream",
     "text": [
      "13600\n"
     ]
    },
    {
     "name": "stderr",
     "output_type": "stream",
     "text": [
      "13701it [22:20, 10.17it/s]"
     ]
    },
    {
     "name": "stdout",
     "output_type": "stream",
     "text": [
      "13700\n"
     ]
    },
    {
     "name": "stderr",
     "output_type": "stream",
     "text": [
      "13801it [22:29, 12.32it/s]"
     ]
    },
    {
     "name": "stdout",
     "output_type": "stream",
     "text": [
      "13800\n"
     ]
    },
    {
     "name": "stderr",
     "output_type": "stream",
     "text": [
      "13901it [22:39, 11.84it/s]"
     ]
    },
    {
     "name": "stdout",
     "output_type": "stream",
     "text": [
      "13900\n"
     ]
    },
    {
     "name": "stderr",
     "output_type": "stream",
     "text": [
      "14001it [22:49,  9.16it/s]"
     ]
    },
    {
     "name": "stdout",
     "output_type": "stream",
     "text": [
      "14000\n"
     ]
    },
    {
     "name": "stderr",
     "output_type": "stream",
     "text": [
      "14102it [22:58, 11.49it/s]"
     ]
    },
    {
     "name": "stdout",
     "output_type": "stream",
     "text": [
      "14100\n"
     ]
    },
    {
     "name": "stderr",
     "output_type": "stream",
     "text": [
      "14201it [23:07, 10.87it/s]"
     ]
    },
    {
     "name": "stdout",
     "output_type": "stream",
     "text": [
      "14200\n"
     ]
    },
    {
     "name": "stderr",
     "output_type": "stream",
     "text": [
      "14301it [23:17, 10.64it/s]"
     ]
    },
    {
     "name": "stdout",
     "output_type": "stream",
     "text": [
      "14300\n"
     ]
    },
    {
     "name": "stderr",
     "output_type": "stream",
     "text": [
      "14401it [23:26, 11.09it/s]"
     ]
    },
    {
     "name": "stdout",
     "output_type": "stream",
     "text": [
      "14400\n"
     ]
    },
    {
     "name": "stderr",
     "output_type": "stream",
     "text": [
      "14501it [23:36, 10.97it/s]"
     ]
    },
    {
     "name": "stdout",
     "output_type": "stream",
     "text": [
      "14500\n"
     ]
    },
    {
     "name": "stderr",
     "output_type": "stream",
     "text": [
      "14601it [23:47,  9.34it/s]"
     ]
    },
    {
     "name": "stdout",
     "output_type": "stream",
     "text": [
      "14600\n"
     ]
    },
    {
     "name": "stderr",
     "output_type": "stream",
     "text": [
      "14702it [23:56, 11.19it/s]"
     ]
    },
    {
     "name": "stdout",
     "output_type": "stream",
     "text": [
      "14700\n"
     ]
    },
    {
     "name": "stderr",
     "output_type": "stream",
     "text": [
      "14802it [24:06,  8.76it/s]"
     ]
    },
    {
     "name": "stdout",
     "output_type": "stream",
     "text": [
      "14800\n"
     ]
    },
    {
     "name": "stderr",
     "output_type": "stream",
     "text": [
      "14901it [24:16,  9.80it/s]"
     ]
    },
    {
     "name": "stdout",
     "output_type": "stream",
     "text": [
      "14900\n"
     ]
    },
    {
     "name": "stderr",
     "output_type": "stream",
     "text": [
      "15002it [24:26, 11.20it/s]"
     ]
    },
    {
     "name": "stdout",
     "output_type": "stream",
     "text": [
      "15000\n"
     ]
    },
    {
     "name": "stderr",
     "output_type": "stream",
     "text": [
      "15101it [24:36, 10.69it/s]"
     ]
    },
    {
     "name": "stdout",
     "output_type": "stream",
     "text": [
      "15100\n"
     ]
    },
    {
     "name": "stderr",
     "output_type": "stream",
     "text": [
      "15201it [24:44, 10.85it/s]"
     ]
    },
    {
     "name": "stdout",
     "output_type": "stream",
     "text": [
      "15200\n"
     ]
    },
    {
     "name": "stderr",
     "output_type": "stream",
     "text": [
      "15302it [24:55, 10.94it/s]"
     ]
    },
    {
     "name": "stdout",
     "output_type": "stream",
     "text": [
      "15300\n"
     ]
    },
    {
     "name": "stderr",
     "output_type": "stream",
     "text": [
      "15401it [25:05, 11.44it/s]"
     ]
    },
    {
     "name": "stdout",
     "output_type": "stream",
     "text": [
      "15400\n"
     ]
    },
    {
     "name": "stderr",
     "output_type": "stream",
     "text": [
      "15501it [25:14, 10.45it/s]"
     ]
    },
    {
     "name": "stdout",
     "output_type": "stream",
     "text": [
      "15500\n"
     ]
    },
    {
     "name": "stderr",
     "output_type": "stream",
     "text": [
      "15600it [25:24, 10.74it/s]"
     ]
    },
    {
     "name": "stdout",
     "output_type": "stream",
     "text": [
      "15600\n"
     ]
    },
    {
     "name": "stderr",
     "output_type": "stream",
     "text": [
      "15701it [25:34, 10.27it/s]"
     ]
    },
    {
     "name": "stdout",
     "output_type": "stream",
     "text": [
      "15700\n"
     ]
    },
    {
     "name": "stderr",
     "output_type": "stream",
     "text": [
      "15800it [25:44, 11.32it/s]"
     ]
    },
    {
     "name": "stdout",
     "output_type": "stream",
     "text": [
      "15800\n"
     ]
    },
    {
     "name": "stderr",
     "output_type": "stream",
     "text": [
      "15902it [25:54,  9.73it/s]"
     ]
    },
    {
     "name": "stdout",
     "output_type": "stream",
     "text": [
      "15900\n"
     ]
    },
    {
     "name": "stderr",
     "output_type": "stream",
     "text": [
      "16002it [26:03, 11.19it/s]"
     ]
    },
    {
     "name": "stdout",
     "output_type": "stream",
     "text": [
      "16000\n"
     ]
    },
    {
     "name": "stderr",
     "output_type": "stream",
     "text": [
      "16102it [26:13, 11.82it/s]"
     ]
    },
    {
     "name": "stdout",
     "output_type": "stream",
     "text": [
      "16100\n"
     ]
    },
    {
     "name": "stderr",
     "output_type": "stream",
     "text": [
      "16202it [26:23, 10.44it/s]"
     ]
    },
    {
     "name": "stdout",
     "output_type": "stream",
     "text": [
      "16200\n"
     ]
    },
    {
     "name": "stderr",
     "output_type": "stream",
     "text": [
      "16299it [26:32, 11.21it/s]"
     ]
    },
    {
     "name": "stdout",
     "output_type": "stream",
     "text": [
      "16300\n"
     ]
    },
    {
     "name": "stderr",
     "output_type": "stream",
     "text": [
      "16401it [26:42, 10.84it/s]"
     ]
    },
    {
     "name": "stdout",
     "output_type": "stream",
     "text": [
      "16400\n"
     ]
    },
    {
     "name": "stderr",
     "output_type": "stream",
     "text": [
      "16501it [26:52, 10.13it/s]"
     ]
    },
    {
     "name": "stdout",
     "output_type": "stream",
     "text": [
      "16500\n"
     ]
    },
    {
     "name": "stderr",
     "output_type": "stream",
     "text": [
      "16602it [27:01, 10.68it/s]"
     ]
    },
    {
     "name": "stdout",
     "output_type": "stream",
     "text": [
      "16600\n"
     ]
    },
    {
     "name": "stderr",
     "output_type": "stream",
     "text": [
      "16701it [27:11, 10.82it/s]"
     ]
    },
    {
     "name": "stdout",
     "output_type": "stream",
     "text": [
      "16700\n"
     ]
    },
    {
     "name": "stderr",
     "output_type": "stream",
     "text": [
      "16801it [27:21, 10.76it/s]"
     ]
    },
    {
     "name": "stdout",
     "output_type": "stream",
     "text": [
      "16800\n"
     ]
    },
    {
     "name": "stderr",
     "output_type": "stream",
     "text": [
      "16901it [27:31, 10.51it/s]"
     ]
    },
    {
     "name": "stdout",
     "output_type": "stream",
     "text": [
      "16900\n"
     ]
    },
    {
     "name": "stderr",
     "output_type": "stream",
     "text": [
      "17002it [27:41, 11.49it/s]"
     ]
    },
    {
     "name": "stdout",
     "output_type": "stream",
     "text": [
      "17000\n"
     ]
    },
    {
     "name": "stderr",
     "output_type": "stream",
     "text": [
      "17101it [27:51, 11.11it/s]"
     ]
    },
    {
     "name": "stdout",
     "output_type": "stream",
     "text": [
      "17100\n"
     ]
    },
    {
     "name": "stderr",
     "output_type": "stream",
     "text": [
      "17202it [28:01, 10.20it/s]"
     ]
    },
    {
     "name": "stdout",
     "output_type": "stream",
     "text": [
      "17200\n"
     ]
    },
    {
     "name": "stderr",
     "output_type": "stream",
     "text": [
      "17302it [28:11, 10.48it/s]"
     ]
    },
    {
     "name": "stdout",
     "output_type": "stream",
     "text": [
      "17300\n"
     ]
    },
    {
     "name": "stderr",
     "output_type": "stream",
     "text": [
      "17402it [28:22,  8.84it/s]"
     ]
    },
    {
     "name": "stdout",
     "output_type": "stream",
     "text": [
      "17400\n"
     ]
    },
    {
     "name": "stderr",
     "output_type": "stream",
     "text": [
      "17501it [28:32, 11.25it/s]"
     ]
    },
    {
     "name": "stdout",
     "output_type": "stream",
     "text": [
      "17500\n"
     ]
    },
    {
     "name": "stderr",
     "output_type": "stream",
     "text": [
      "17601it [28:41, 10.85it/s]"
     ]
    },
    {
     "name": "stdout",
     "output_type": "stream",
     "text": [
      "17600\n"
     ]
    },
    {
     "name": "stderr",
     "output_type": "stream",
     "text": [
      "17701it [28:50,  7.25it/s]"
     ]
    },
    {
     "name": "stdout",
     "output_type": "stream",
     "text": [
      "17700\n"
     ]
    },
    {
     "name": "stderr",
     "output_type": "stream",
     "text": [
      "17801it [29:02,  8.53it/s]"
     ]
    },
    {
     "name": "stdout",
     "output_type": "stream",
     "text": [
      "17800\n"
     ]
    },
    {
     "name": "stderr",
     "output_type": "stream",
     "text": [
      "17901it [29:12,  8.14it/s]"
     ]
    },
    {
     "name": "stdout",
     "output_type": "stream",
     "text": [
      "17900\n"
     ]
    },
    {
     "name": "stderr",
     "output_type": "stream",
     "text": [
      "18001it [29:21, 11.84it/s]"
     ]
    },
    {
     "name": "stdout",
     "output_type": "stream",
     "text": [
      "18000\n"
     ]
    },
    {
     "name": "stderr",
     "output_type": "stream",
     "text": [
      "18101it [29:31,  7.79it/s]"
     ]
    },
    {
     "name": "stdout",
     "output_type": "stream",
     "text": [
      "18100\n"
     ]
    },
    {
     "name": "stderr",
     "output_type": "stream",
     "text": [
      "18202it [29:41,  9.97it/s]"
     ]
    },
    {
     "name": "stdout",
     "output_type": "stream",
     "text": [
      "18200\n"
     ]
    },
    {
     "name": "stderr",
     "output_type": "stream",
     "text": [
      "18301it [29:52,  7.35it/s]"
     ]
    },
    {
     "name": "stdout",
     "output_type": "stream",
     "text": [
      "18300\n"
     ]
    },
    {
     "name": "stderr",
     "output_type": "stream",
     "text": [
      "18401it [30:01, 11.87it/s]"
     ]
    },
    {
     "name": "stdout",
     "output_type": "stream",
     "text": [
      "18400\n"
     ]
    },
    {
     "name": "stderr",
     "output_type": "stream",
     "text": [
      "18502it [30:11, 11.86it/s]"
     ]
    },
    {
     "name": "stdout",
     "output_type": "stream",
     "text": [
      "18500\n"
     ]
    },
    {
     "name": "stderr",
     "output_type": "stream",
     "text": [
      "18602it [30:20, 11.23it/s]"
     ]
    },
    {
     "name": "stdout",
     "output_type": "stream",
     "text": [
      "18600\n"
     ]
    },
    {
     "name": "stderr",
     "output_type": "stream",
     "text": [
      "18700it [30:30, 11.36it/s]"
     ]
    },
    {
     "name": "stdout",
     "output_type": "stream",
     "text": [
      "18700\n"
     ]
    },
    {
     "name": "stderr",
     "output_type": "stream",
     "text": [
      "18802it [30:40, 11.00it/s]"
     ]
    },
    {
     "name": "stdout",
     "output_type": "stream",
     "text": [
      "18800\n"
     ]
    },
    {
     "name": "stderr",
     "output_type": "stream",
     "text": [
      "18901it [30:50,  9.96it/s]"
     ]
    },
    {
     "name": "stdout",
     "output_type": "stream",
     "text": [
      "18900\n"
     ]
    },
    {
     "name": "stderr",
     "output_type": "stream",
     "text": [
      "19001it [30:59, 10.58it/s]"
     ]
    },
    {
     "name": "stdout",
     "output_type": "stream",
     "text": [
      "19000\n"
     ]
    },
    {
     "name": "stderr",
     "output_type": "stream",
     "text": [
      "19101it [31:09, 11.98it/s]"
     ]
    },
    {
     "name": "stdout",
     "output_type": "stream",
     "text": [
      "19100\n"
     ]
    },
    {
     "name": "stderr",
     "output_type": "stream",
     "text": [
      "19202it [31:19, 10.89it/s]"
     ]
    },
    {
     "name": "stdout",
     "output_type": "stream",
     "text": [
      "19200\n"
     ]
    },
    {
     "name": "stderr",
     "output_type": "stream",
     "text": [
      "19302it [31:29, 11.61it/s]"
     ]
    },
    {
     "name": "stdout",
     "output_type": "stream",
     "text": [
      "19300\n"
     ]
    },
    {
     "name": "stderr",
     "output_type": "stream",
     "text": [
      "19401it [31:38, 10.64it/s]"
     ]
    },
    {
     "name": "stdout",
     "output_type": "stream",
     "text": [
      "19400\n"
     ]
    },
    {
     "name": "stderr",
     "output_type": "stream",
     "text": [
      "19502it [31:48, 10.38it/s]"
     ]
    },
    {
     "name": "stdout",
     "output_type": "stream",
     "text": [
      "19500\n"
     ]
    },
    {
     "name": "stderr",
     "output_type": "stream",
     "text": [
      "19602it [31:58,  9.62it/s]"
     ]
    },
    {
     "name": "stdout",
     "output_type": "stream",
     "text": [
      "19600\n"
     ]
    },
    {
     "name": "stderr",
     "output_type": "stream",
     "text": [
      "19700it [32:07, 11.11it/s]"
     ]
    },
    {
     "name": "stdout",
     "output_type": "stream",
     "text": [
      "19700\n"
     ]
    },
    {
     "name": "stderr",
     "output_type": "stream",
     "text": [
      "19802it [32:17, 10.52it/s]"
     ]
    },
    {
     "name": "stdout",
     "output_type": "stream",
     "text": [
      "19800\n"
     ]
    },
    {
     "name": "stderr",
     "output_type": "stream",
     "text": [
      "19900it [32:26, 11.54it/s]"
     ]
    },
    {
     "name": "stdout",
     "output_type": "stream",
     "text": [
      "19900\n"
     ]
    },
    {
     "name": "stderr",
     "output_type": "stream",
     "text": [
      "20002it [32:37,  9.73it/s]"
     ]
    },
    {
     "name": "stdout",
     "output_type": "stream",
     "text": [
      "20000\n"
     ]
    },
    {
     "name": "stderr",
     "output_type": "stream",
     "text": [
      "20101it [32:46, 10.60it/s]"
     ]
    },
    {
     "name": "stdout",
     "output_type": "stream",
     "text": [
      "20100\n"
     ]
    },
    {
     "name": "stderr",
     "output_type": "stream",
     "text": [
      "20201it [32:56, 10.82it/s]"
     ]
    },
    {
     "name": "stdout",
     "output_type": "stream",
     "text": [
      "20200\n"
     ]
    },
    {
     "name": "stderr",
     "output_type": "stream",
     "text": [
      "20301it [33:05,  9.27it/s]"
     ]
    },
    {
     "name": "stdout",
     "output_type": "stream",
     "text": [
      "20300\n"
     ]
    },
    {
     "name": "stderr",
     "output_type": "stream",
     "text": [
      "20345it [33:09, 10.23it/s]\n"
     ]
    }
   ],
   "source": [
    "import json\n",
    "from tqdm import tqdm\n",
    "\n",
    "GEN_EMBEDDING = True\n",
    "if GEN_EMBEDDING: # if we need to generate embeddings from scratch\n",
    "    for index, row in tqdm(full_df.iterrows()): \n",
    "        if index % 100 == 0: \n",
    "            print(index)\n",
    "        embedding = model.encode_images(Image.open(row.path)).tolist()\n",
    "        with open(row.embedding_path, 'w') as f:\n",
    "            f.write(json.dumps(embedding))\n",
    "    # embs = img_model.encode(df['path'].values.map(lambda p: Image.open(p)))\n",
    "    # for i, emb in enumerate(embs): \n",
    "    #     with open(df.iloc[[i]].path.values[0], 'w') as f:\n",
    "    #         json.dumps(emb.tolist())"
   ]
  },
  {
   "cell_type": "code",
   "execution_count": 16,
   "metadata": {},
   "outputs": [
    {
     "name": "stderr",
     "output_type": "stream",
     "text": [
      "/Users/roshi/image-search/venv/lib/python3.11/site-packages/torch/_utils.py:776: UserWarning: TypedStorage is deprecated. It will be removed in the future and UntypedStorage will be the only storage class. This should only matter to you if you are using storages directly.  To access UntypedStorage directly, use tensor.untyped_storage() instead of tensor.storage()\n",
      "  return self.fget.__get__(instance, owner)()\n"
     ]
    }
   ],
   "source": [
    "large_clip = LargeClipCat()"
   ]
  },
  {
   "cell_type": "code",
   "execution_count": 49,
   "metadata": {},
   "outputs": [
    {
     "ename": "SyntaxError",
     "evalue": "expected ':' (2702298888.py, line 66)",
     "output_type": "error",
     "traceback": [
      "\u001b[0;36m  Cell \u001b[0;32mIn[49], line 66\u001b[0;36m\u001b[0m\n\u001b[0;31m    if len(data) % 100\u001b[0m\n\u001b[0m                       ^\u001b[0m\n\u001b[0;31mSyntaxError\u001b[0m\u001b[0;31m:\u001b[0m expected ':'\n"
     ]
    }
   ],
   "source": [
    "import sys\n",
    "import clickhouse_connect\n",
    "import os\n",
    "import numpy as np\n",
    "import os\n",
    "import clickhouse_connect \n",
    "from PIL import Image\n",
    "\n",
    "# factor out dataset.py from ai_model.py\n",
    "\n",
    "import requests \n",
    "from PIL import Image \n",
    "from io import BytesIO \n",
    "\n",
    "categories = {\n",
    "    1: 'Живопись',\n",
    "    2: 'Графика',\n",
    "    3: 'Скульптура',\n",
    "    4: 'ДПИ',\n",
    "    5: 'Нумизматика',\n",
    "    6: 'Археология',\n",
    "    8: 'Оружие',\n",
    "    10: 'Естественнонауч.коллекция',\n",
    "    11: 'Техника',\n",
    "    12: 'Прочие',\n",
    "    # 13: 'Прочие',\n",
    "    14: 'Редкие книги',\n",
    "    15: 'Документы',\n",
    "    16: 'Печатная продукция',\n",
    "    17: 'Фото, негативы',\n",
    "    18: 'Минералогия'\n",
    "}\n",
    "\n",
    "\n",
    "from tqdm import tqdm\n",
    "\n",
    "\n",
    "class DB:\n",
    "    def __init__(self, model): \n",
    "        self.model = model\n",
    "        self.client = clickhouse_connect.get_client(\n",
    "            host=\"172.20.10.2\",#os.getenv('CLICKHOUSE_HOST') or None, \n",
    "            port=\"8123\", #os.getenv('CLICKHOUSE_PORT') or None,\n",
    "            username=os.getenv('CLICKHOUSE_USERNAME') or None, \n",
    "            password=os.getenv('CLICKHOUSE_PASSWORD') or None,\n",
    "        )\n",
    "        print('connected to clickhouse')\n",
    "        self.client.command('''\n",
    "        CREATE TABLE IF NOT EXISTS museum_imgs (\n",
    "            object_id Integer, \n",
    "            img_name String, \n",
    "            name Nullable(String), \n",
    "            description Nullable(String), \n",
    "            group String,\n",
    "            image_embedding Array(Float32),\n",
    "        ) ENGINE MergeTree ORDER BY object_id \n",
    "        ''') # TODO: add unique constraint\n",
    "    \n",
    "    def insert_museum_imgs(self, df):\n",
    "        data = [] \n",
    "        for index, row in df.iterrows(): \n",
    "            image = Image.open(row.path)\n",
    "            emb = self.model.encode_images(image).tolist()\n",
    "            row = row.replace({np.nan: None}).to_dict()\n",
    "            data.append([row['object_id'], row['img_name'], row['name'], row['description'], row['group'], emb])\n",
    "            if len(data) % 100: \n",
    "                self.client.insert('museum_imgs', data, column_names='*')\n",
    "                data = [] \n",
    "\n",
    "        print('inserted', self.client.command('select count(*) from museum_imgs'), 'museum images')\n",
    "\n",
    "    def insert_parsed(self, df): \n",
    "        data = [] \n",
    "        for _, row in tqdm(df.iterrows()):\n",
    "            group = categories.get(row['typologyId'])\n",
    "            if not group: \n",
    "                continue\n",
    "            for img in row.images: \n",
    "                try:\n",
    "                    resp = requests.get(f\"https://goskatalog.ru/muzfo-imaginator/rest/images/public/350/{img['id']}/{img['id']}.jpg\")\n",
    "                    image = Image.open(BytesIO(resp.content))\n",
    "                    # print(row['name'])\n",
    "                    # res.append([row.id, img['id'], row['name'], row.typologyId, img['description'],])\n",
    "                    emb = self.model.encode_images(image).tolist()\n",
    "                    row = row.replace({np.nan: None}).to_dict()\n",
    "                except Exception as e:\n",
    "                    print(e)\n",
    "                    continue\n",
    "\n",
    "                #print(len(data))\n",
    "                # print(group)\n",
    "                data.append([row['id'], str(img['id'])+'.jpg', row['name'], row.get('description', ''), group,  emb])\n",
    "                if len(data) % 1000 == 0:\n",
    "                    self.client.insert('museum_imgs', data, column_names='*')\n",
    "                    data = []\n",
    "        print('inserted', self.client.command('select count(*) from museum_imgs'), 'museum images')\n",
    "\n",
    "\n",
    "    def search_similar(self, img: str | Image.Image):\n",
    "        if isinstance(img, str): \n",
    "            img = Image.open(img) \n",
    "        emb = self.model.encode_images(img).tolist()\n",
    "        return self.search_similar_emb(emb)\n",
    "    def search_similar_emb(self, emb): \n",
    "        parameters = {'query_embedding': emb}\n",
    "        res = self.client.query('''\n",
    "            SELECT object_id, group, img_name, L2Distance(image_embedding, {query_embedding:Array(Float32)}) as dist \n",
    "            FROM museum_imgs \n",
    "            ORDER BY dist ASC\n",
    "            LIMIT 10\n",
    "        ''', parameters=parameters)\n",
    "        return [(str(row[0]), row[1], os.path.join(str(row[0]), row[2])) for row in res.result_rows]\n",
    "db = DB(large_clip)\n"
   ]
  },
  {
   "cell_type": "code",
   "execution_count": 31,
   "metadata": {},
   "outputs": [
    {
     "ename": "KeyboardInterrupt",
     "evalue": "",
     "output_type": "error",
     "traceback": [
      "\u001b[0;31m---------------------------------------------------------------------------\u001b[0m",
      "\u001b[0;31mKeyboardInterrupt\u001b[0m                         Traceback (most recent call last)",
      "\u001b[1;32m/Users/n0tsszzz/hackaton_museum/search.ipynb Ячейка 33\u001b[0m line \u001b[0;36m1\n\u001b[0;32m----> <a href='vscode-notebook-cell:/Users/n0tsszzz/hackaton_museum/search.ipynb#Y112sZmlsZQ%3D%3D?line=0'>1</a>\u001b[0m db\u001b[39m.\u001b[39;49minsert_museum_imgs(full_df[\u001b[39m10000\u001b[39;49m:])\n",
      "\u001b[1;32m/Users/n0tsszzz/hackaton_museum/search.ipynb Ячейка 33\u001b[0m line \u001b[0;36m3\n\u001b[1;32m     <a href='vscode-notebook-cell:/Users/n0tsszzz/hackaton_museum/search.ipynb#Y112sZmlsZQ%3D%3D?line=33'>34</a>\u001b[0m \u001b[39mfor\u001b[39;00m index, row \u001b[39min\u001b[39;00m df\u001b[39m.\u001b[39miterrows(): \n\u001b[1;32m     <a href='vscode-notebook-cell:/Users/n0tsszzz/hackaton_museum/search.ipynb#Y112sZmlsZQ%3D%3D?line=34'>35</a>\u001b[0m     image \u001b[39m=\u001b[39m Image\u001b[39m.\u001b[39mopen(row\u001b[39m.\u001b[39mpath)\n\u001b[0;32m---> <a href='vscode-notebook-cell:/Users/n0tsszzz/hackaton_museum/search.ipynb#Y112sZmlsZQ%3D%3D?line=35'>36</a>\u001b[0m     emb \u001b[39m=\u001b[39m \u001b[39mself\u001b[39;49m\u001b[39m.\u001b[39;49mmodel\u001b[39m.\u001b[39;49mencode_images(image)\u001b[39m.\u001b[39mtolist()\n\u001b[1;32m     <a href='vscode-notebook-cell:/Users/n0tsszzz/hackaton_museum/search.ipynb#Y112sZmlsZQ%3D%3D?line=36'>37</a>\u001b[0m     row \u001b[39m=\u001b[39m row\u001b[39m.\u001b[39mreplace({np\u001b[39m.\u001b[39mnan: \u001b[39mNone\u001b[39;00m})\u001b[39m.\u001b[39mto_dict()\n\u001b[1;32m     <a href='vscode-notebook-cell:/Users/n0tsszzz/hackaton_museum/search.ipynb#Y112sZmlsZQ%3D%3D?line=37'>38</a>\u001b[0m     data\u001b[39m.\u001b[39mappend([row[\u001b[39m'\u001b[39m\u001b[39mobject_id\u001b[39m\u001b[39m'\u001b[39m], row[\u001b[39m'\u001b[39m\u001b[39mimg_name\u001b[39m\u001b[39m'\u001b[39m], row[\u001b[39m'\u001b[39m\u001b[39mname\u001b[39m\u001b[39m'\u001b[39m], row[\u001b[39m'\u001b[39m\u001b[39mdescription\u001b[39m\u001b[39m'\u001b[39m], row[\u001b[39m'\u001b[39m\u001b[39mgroup\u001b[39m\u001b[39m'\u001b[39m], emb])\n",
      "\u001b[1;32m/Users/n0tsszzz/hackaton_museum/search.ipynb Ячейка 33\u001b[0m line \u001b[0;36m1\n\u001b[1;32m      <a href='vscode-notebook-cell:/Users/n0tsszzz/hackaton_museum/search.ipynb#Y112sZmlsZQ%3D%3D?line=8'>9</a>\u001b[0m image \u001b[39m=\u001b[39m \u001b[39mself\u001b[39m\u001b[39m.\u001b[39mpreprocess(img)\u001b[39m.\u001b[39munsqueeze(\u001b[39m0\u001b[39m)\u001b[39m.\u001b[39mto(\u001b[39mself\u001b[39m\u001b[39m.\u001b[39mdevice)\n\u001b[1;32m     <a href='vscode-notebook-cell:/Users/n0tsszzz/hackaton_museum/search.ipynb#Y112sZmlsZQ%3D%3D?line=9'>10</a>\u001b[0m \u001b[39mwith\u001b[39;00m torch\u001b[39m.\u001b[39mno_grad():\n\u001b[0;32m---> <a href='vscode-notebook-cell:/Users/n0tsszzz/hackaton_museum/search.ipynb#Y112sZmlsZQ%3D%3D?line=10'>11</a>\u001b[0m     \u001b[39mreturn\u001b[39;00m \u001b[39mself\u001b[39;49m\u001b[39m.\u001b[39;49mimg_model\u001b[39m.\u001b[39;49mencode_image(image)[\u001b[39m0\u001b[39m]\n",
      "File \u001b[0;32m~/hackaton_museum/venv/lib/python3.12/site-packages/open_clip/model.py:266\u001b[0m, in \u001b[0;36mCLIP.encode_image\u001b[0;34m(self, image, normalize)\u001b[0m\n\u001b[1;32m    265\u001b[0m \u001b[39mdef\u001b[39;00m \u001b[39mencode_image\u001b[39m(\u001b[39mself\u001b[39m, image, normalize: \u001b[39mbool\u001b[39m \u001b[39m=\u001b[39m \u001b[39mFalse\u001b[39;00m):\n\u001b[0;32m--> 266\u001b[0m     features \u001b[39m=\u001b[39m \u001b[39mself\u001b[39;49m\u001b[39m.\u001b[39;49mvisual(image)\n\u001b[1;32m    267\u001b[0m     \u001b[39mreturn\u001b[39;00m F\u001b[39m.\u001b[39mnormalize(features, dim\u001b[39m=\u001b[39m\u001b[39m-\u001b[39m\u001b[39m1\u001b[39m) \u001b[39mif\u001b[39;00m normalize \u001b[39melse\u001b[39;00m features\n",
      "File \u001b[0;32m~/hackaton_museum/venv/lib/python3.12/site-packages/torch/nn/modules/module.py:1511\u001b[0m, in \u001b[0;36mModule._wrapped_call_impl\u001b[0;34m(self, *args, **kwargs)\u001b[0m\n\u001b[1;32m   1509\u001b[0m     \u001b[39mreturn\u001b[39;00m \u001b[39mself\u001b[39m\u001b[39m.\u001b[39m_compiled_call_impl(\u001b[39m*\u001b[39margs, \u001b[39m*\u001b[39m\u001b[39m*\u001b[39mkwargs)  \u001b[39m# type: ignore[misc]\u001b[39;00m\n\u001b[1;32m   1510\u001b[0m \u001b[39melse\u001b[39;00m:\n\u001b[0;32m-> 1511\u001b[0m     \u001b[39mreturn\u001b[39;00m \u001b[39mself\u001b[39;49m\u001b[39m.\u001b[39;49m_call_impl(\u001b[39m*\u001b[39;49margs, \u001b[39m*\u001b[39;49m\u001b[39m*\u001b[39;49mkwargs)\n",
      "File \u001b[0;32m~/hackaton_museum/venv/lib/python3.12/site-packages/torch/nn/modules/module.py:1520\u001b[0m, in \u001b[0;36mModule._call_impl\u001b[0;34m(self, *args, **kwargs)\u001b[0m\n\u001b[1;32m   1515\u001b[0m \u001b[39m# If we don't have any hooks, we want to skip the rest of the logic in\u001b[39;00m\n\u001b[1;32m   1516\u001b[0m \u001b[39m# this function, and just call forward.\u001b[39;00m\n\u001b[1;32m   1517\u001b[0m \u001b[39mif\u001b[39;00m \u001b[39mnot\u001b[39;00m (\u001b[39mself\u001b[39m\u001b[39m.\u001b[39m_backward_hooks \u001b[39mor\u001b[39;00m \u001b[39mself\u001b[39m\u001b[39m.\u001b[39m_backward_pre_hooks \u001b[39mor\u001b[39;00m \u001b[39mself\u001b[39m\u001b[39m.\u001b[39m_forward_hooks \u001b[39mor\u001b[39;00m \u001b[39mself\u001b[39m\u001b[39m.\u001b[39m_forward_pre_hooks\n\u001b[1;32m   1518\u001b[0m         \u001b[39mor\u001b[39;00m _global_backward_pre_hooks \u001b[39mor\u001b[39;00m _global_backward_hooks\n\u001b[1;32m   1519\u001b[0m         \u001b[39mor\u001b[39;00m _global_forward_hooks \u001b[39mor\u001b[39;00m _global_forward_pre_hooks):\n\u001b[0;32m-> 1520\u001b[0m     \u001b[39mreturn\u001b[39;00m forward_call(\u001b[39m*\u001b[39;49margs, \u001b[39m*\u001b[39;49m\u001b[39m*\u001b[39;49mkwargs)\n\u001b[1;32m   1522\u001b[0m \u001b[39mtry\u001b[39;00m:\n\u001b[1;32m   1523\u001b[0m     result \u001b[39m=\u001b[39m \u001b[39mNone\u001b[39;00m\n",
      "File \u001b[0;32m~/hackaton_museum/venv/lib/python3.12/site-packages/open_clip/transformer.py:516\u001b[0m, in \u001b[0;36mVisionTransformer.forward\u001b[0;34m(self, x)\u001b[0m\n\u001b[1;32m    513\u001b[0m x \u001b[39m=\u001b[39m \u001b[39mself\u001b[39m\u001b[39m.\u001b[39mln_pre(x)\n\u001b[1;32m    515\u001b[0m x \u001b[39m=\u001b[39m x\u001b[39m.\u001b[39mpermute(\u001b[39m1\u001b[39m, \u001b[39m0\u001b[39m, \u001b[39m2\u001b[39m)  \u001b[39m# NLD -> LND\u001b[39;00m\n\u001b[0;32m--> 516\u001b[0m x \u001b[39m=\u001b[39m \u001b[39mself\u001b[39;49m\u001b[39m.\u001b[39;49mtransformer(x)\n\u001b[1;32m    517\u001b[0m x \u001b[39m=\u001b[39m x\u001b[39m.\u001b[39mpermute(\u001b[39m1\u001b[39m, \u001b[39m0\u001b[39m, \u001b[39m2\u001b[39m)  \u001b[39m# LND -> NLD\u001b[39;00m\n\u001b[1;32m    519\u001b[0m \u001b[39mif\u001b[39;00m \u001b[39mself\u001b[39m\u001b[39m.\u001b[39mattn_pool \u001b[39mis\u001b[39;00m \u001b[39mnot\u001b[39;00m \u001b[39mNone\u001b[39;00m:\n",
      "File \u001b[0;32m~/hackaton_museum/venv/lib/python3.12/site-packages/torch/nn/modules/module.py:1511\u001b[0m, in \u001b[0;36mModule._wrapped_call_impl\u001b[0;34m(self, *args, **kwargs)\u001b[0m\n\u001b[1;32m   1509\u001b[0m     \u001b[39mreturn\u001b[39;00m \u001b[39mself\u001b[39m\u001b[39m.\u001b[39m_compiled_call_impl(\u001b[39m*\u001b[39margs, \u001b[39m*\u001b[39m\u001b[39m*\u001b[39mkwargs)  \u001b[39m# type: ignore[misc]\u001b[39;00m\n\u001b[1;32m   1510\u001b[0m \u001b[39melse\u001b[39;00m:\n\u001b[0;32m-> 1511\u001b[0m     \u001b[39mreturn\u001b[39;00m \u001b[39mself\u001b[39;49m\u001b[39m.\u001b[39;49m_call_impl(\u001b[39m*\u001b[39;49margs, \u001b[39m*\u001b[39;49m\u001b[39m*\u001b[39;49mkwargs)\n",
      "File \u001b[0;32m~/hackaton_museum/venv/lib/python3.12/site-packages/torch/nn/modules/module.py:1520\u001b[0m, in \u001b[0;36mModule._call_impl\u001b[0;34m(self, *args, **kwargs)\u001b[0m\n\u001b[1;32m   1515\u001b[0m \u001b[39m# If we don't have any hooks, we want to skip the rest of the logic in\u001b[39;00m\n\u001b[1;32m   1516\u001b[0m \u001b[39m# this function, and just call forward.\u001b[39;00m\n\u001b[1;32m   1517\u001b[0m \u001b[39mif\u001b[39;00m \u001b[39mnot\u001b[39;00m (\u001b[39mself\u001b[39m\u001b[39m.\u001b[39m_backward_hooks \u001b[39mor\u001b[39;00m \u001b[39mself\u001b[39m\u001b[39m.\u001b[39m_backward_pre_hooks \u001b[39mor\u001b[39;00m \u001b[39mself\u001b[39m\u001b[39m.\u001b[39m_forward_hooks \u001b[39mor\u001b[39;00m \u001b[39mself\u001b[39m\u001b[39m.\u001b[39m_forward_pre_hooks\n\u001b[1;32m   1518\u001b[0m         \u001b[39mor\u001b[39;00m _global_backward_pre_hooks \u001b[39mor\u001b[39;00m _global_backward_hooks\n\u001b[1;32m   1519\u001b[0m         \u001b[39mor\u001b[39;00m _global_forward_hooks \u001b[39mor\u001b[39;00m _global_forward_pre_hooks):\n\u001b[0;32m-> 1520\u001b[0m     \u001b[39mreturn\u001b[39;00m forward_call(\u001b[39m*\u001b[39;49margs, \u001b[39m*\u001b[39;49m\u001b[39m*\u001b[39;49mkwargs)\n\u001b[1;32m   1522\u001b[0m \u001b[39mtry\u001b[39;00m:\n\u001b[1;32m   1523\u001b[0m     result \u001b[39m=\u001b[39m \u001b[39mNone\u001b[39;00m\n",
      "File \u001b[0;32m~/hackaton_museum/venv/lib/python3.12/site-packages/open_clip/transformer.py:324\u001b[0m, in \u001b[0;36mTransformer.forward\u001b[0;34m(self, x, attn_mask)\u001b[0m\n\u001b[1;32m    322\u001b[0m         x \u001b[39m=\u001b[39m checkpoint(r, x, \u001b[39mNone\u001b[39;00m, \u001b[39mNone\u001b[39;00m, attn_mask)\n\u001b[1;32m    323\u001b[0m     \u001b[39melse\u001b[39;00m:\n\u001b[0;32m--> 324\u001b[0m         x \u001b[39m=\u001b[39m r(x, attn_mask\u001b[39m=\u001b[39;49mattn_mask)\n\u001b[1;32m    325\u001b[0m \u001b[39mreturn\u001b[39;00m x\n",
      "File \u001b[0;32m~/hackaton_museum/venv/lib/python3.12/site-packages/torch/nn/modules/module.py:1511\u001b[0m, in \u001b[0;36mModule._wrapped_call_impl\u001b[0;34m(self, *args, **kwargs)\u001b[0m\n\u001b[1;32m   1509\u001b[0m     \u001b[39mreturn\u001b[39;00m \u001b[39mself\u001b[39m\u001b[39m.\u001b[39m_compiled_call_impl(\u001b[39m*\u001b[39margs, \u001b[39m*\u001b[39m\u001b[39m*\u001b[39mkwargs)  \u001b[39m# type: ignore[misc]\u001b[39;00m\n\u001b[1;32m   1510\u001b[0m \u001b[39melse\u001b[39;00m:\n\u001b[0;32m-> 1511\u001b[0m     \u001b[39mreturn\u001b[39;00m \u001b[39mself\u001b[39;49m\u001b[39m.\u001b[39;49m_call_impl(\u001b[39m*\u001b[39;49margs, \u001b[39m*\u001b[39;49m\u001b[39m*\u001b[39;49mkwargs)\n",
      "File \u001b[0;32m~/hackaton_museum/venv/lib/python3.12/site-packages/torch/nn/modules/module.py:1520\u001b[0m, in \u001b[0;36mModule._call_impl\u001b[0;34m(self, *args, **kwargs)\u001b[0m\n\u001b[1;32m   1515\u001b[0m \u001b[39m# If we don't have any hooks, we want to skip the rest of the logic in\u001b[39;00m\n\u001b[1;32m   1516\u001b[0m \u001b[39m# this function, and just call forward.\u001b[39;00m\n\u001b[1;32m   1517\u001b[0m \u001b[39mif\u001b[39;00m \u001b[39mnot\u001b[39;00m (\u001b[39mself\u001b[39m\u001b[39m.\u001b[39m_backward_hooks \u001b[39mor\u001b[39;00m \u001b[39mself\u001b[39m\u001b[39m.\u001b[39m_backward_pre_hooks \u001b[39mor\u001b[39;00m \u001b[39mself\u001b[39m\u001b[39m.\u001b[39m_forward_hooks \u001b[39mor\u001b[39;00m \u001b[39mself\u001b[39m\u001b[39m.\u001b[39m_forward_pre_hooks\n\u001b[1;32m   1518\u001b[0m         \u001b[39mor\u001b[39;00m _global_backward_pre_hooks \u001b[39mor\u001b[39;00m _global_backward_hooks\n\u001b[1;32m   1519\u001b[0m         \u001b[39mor\u001b[39;00m _global_forward_hooks \u001b[39mor\u001b[39;00m _global_forward_pre_hooks):\n\u001b[0;32m-> 1520\u001b[0m     \u001b[39mreturn\u001b[39;00m forward_call(\u001b[39m*\u001b[39;49margs, \u001b[39m*\u001b[39;49m\u001b[39m*\u001b[39;49mkwargs)\n\u001b[1;32m   1522\u001b[0m \u001b[39mtry\u001b[39;00m:\n\u001b[1;32m   1523\u001b[0m     result \u001b[39m=\u001b[39m \u001b[39mNone\u001b[39;00m\n",
      "File \u001b[0;32m~/hackaton_museum/venv/lib/python3.12/site-packages/open_clip/transformer.py:241\u001b[0m, in \u001b[0;36mResidualAttentionBlock.forward\u001b[0;34m(self, q_x, k_x, v_x, attn_mask)\u001b[0m\n\u001b[1;32m    238\u001b[0m k_x \u001b[39m=\u001b[39m \u001b[39mself\u001b[39m\u001b[39m.\u001b[39mln_1_kv(k_x) \u001b[39mif\u001b[39;00m \u001b[39mhasattr\u001b[39m(\u001b[39mself\u001b[39m, \u001b[39m\"\u001b[39m\u001b[39mln_1_kv\u001b[39m\u001b[39m\"\u001b[39m) \u001b[39mand\u001b[39;00m k_x \u001b[39mis\u001b[39;00m \u001b[39mnot\u001b[39;00m \u001b[39mNone\u001b[39;00m \u001b[39melse\u001b[39;00m \u001b[39mNone\u001b[39;00m\n\u001b[1;32m    239\u001b[0m v_x \u001b[39m=\u001b[39m \u001b[39mself\u001b[39m\u001b[39m.\u001b[39mln_1_kv(v_x) \u001b[39mif\u001b[39;00m \u001b[39mhasattr\u001b[39m(\u001b[39mself\u001b[39m, \u001b[39m\"\u001b[39m\u001b[39mln_1_kv\u001b[39m\u001b[39m\"\u001b[39m) \u001b[39mand\u001b[39;00m v_x \u001b[39mis\u001b[39;00m \u001b[39mnot\u001b[39;00m \u001b[39mNone\u001b[39;00m \u001b[39melse\u001b[39;00m \u001b[39mNone\u001b[39;00m\n\u001b[0;32m--> 241\u001b[0m x \u001b[39m=\u001b[39m q_x \u001b[39m+\u001b[39m \u001b[39mself\u001b[39m\u001b[39m.\u001b[39mls_1(\u001b[39mself\u001b[39;49m\u001b[39m.\u001b[39;49mattention(q_x\u001b[39m=\u001b[39;49m\u001b[39mself\u001b[39;49m\u001b[39m.\u001b[39;49mln_1(q_x), k_x\u001b[39m=\u001b[39;49mk_x, v_x\u001b[39m=\u001b[39;49mv_x, attn_mask\u001b[39m=\u001b[39;49mattn_mask))\n\u001b[1;32m    242\u001b[0m x \u001b[39m=\u001b[39m x \u001b[39m+\u001b[39m \u001b[39mself\u001b[39m\u001b[39m.\u001b[39mls_2(\u001b[39mself\u001b[39m\u001b[39m.\u001b[39mmlp(\u001b[39mself\u001b[39m\u001b[39m.\u001b[39mln_2(x)))\n\u001b[1;32m    243\u001b[0m \u001b[39mreturn\u001b[39;00m x\n",
      "File \u001b[0;32m~/hackaton_museum/venv/lib/python3.12/site-packages/open_clip/transformer.py:227\u001b[0m, in \u001b[0;36mResidualAttentionBlock.attention\u001b[0;34m(self, q_x, k_x, v_x, attn_mask)\u001b[0m\n\u001b[1;32m    224\u001b[0m v_x \u001b[39m=\u001b[39m v_x \u001b[39mif\u001b[39;00m v_x \u001b[39mis\u001b[39;00m \u001b[39mnot\u001b[39;00m \u001b[39mNone\u001b[39;00m \u001b[39melse\u001b[39;00m q_x\n\u001b[1;32m    226\u001b[0m attn_mask \u001b[39m=\u001b[39m attn_mask\u001b[39m.\u001b[39mto(q_x\u001b[39m.\u001b[39mdtype) \u001b[39mif\u001b[39;00m attn_mask \u001b[39mis\u001b[39;00m \u001b[39mnot\u001b[39;00m \u001b[39mNone\u001b[39;00m \u001b[39melse\u001b[39;00m \u001b[39mNone\u001b[39;00m\n\u001b[0;32m--> 227\u001b[0m \u001b[39mreturn\u001b[39;00m \u001b[39mself\u001b[39;49m\u001b[39m.\u001b[39;49mattn(\n\u001b[1;32m    228\u001b[0m     q_x, k_x, v_x, need_weights\u001b[39m=\u001b[39;49m\u001b[39mFalse\u001b[39;49;00m, attn_mask\u001b[39m=\u001b[39;49mattn_mask\n\u001b[1;32m    229\u001b[0m )[\u001b[39m0\u001b[39m]\n",
      "File \u001b[0;32m~/hackaton_museum/venv/lib/python3.12/site-packages/torch/nn/modules/module.py:1511\u001b[0m, in \u001b[0;36mModule._wrapped_call_impl\u001b[0;34m(self, *args, **kwargs)\u001b[0m\n\u001b[1;32m   1509\u001b[0m     \u001b[39mreturn\u001b[39;00m \u001b[39mself\u001b[39m\u001b[39m.\u001b[39m_compiled_call_impl(\u001b[39m*\u001b[39margs, \u001b[39m*\u001b[39m\u001b[39m*\u001b[39mkwargs)  \u001b[39m# type: ignore[misc]\u001b[39;00m\n\u001b[1;32m   1510\u001b[0m \u001b[39melse\u001b[39;00m:\n\u001b[0;32m-> 1511\u001b[0m     \u001b[39mreturn\u001b[39;00m \u001b[39mself\u001b[39;49m\u001b[39m.\u001b[39;49m_call_impl(\u001b[39m*\u001b[39;49margs, \u001b[39m*\u001b[39;49m\u001b[39m*\u001b[39;49mkwargs)\n",
      "File \u001b[0;32m~/hackaton_museum/venv/lib/python3.12/site-packages/torch/nn/modules/module.py:1520\u001b[0m, in \u001b[0;36mModule._call_impl\u001b[0;34m(self, *args, **kwargs)\u001b[0m\n\u001b[1;32m   1515\u001b[0m \u001b[39m# If we don't have any hooks, we want to skip the rest of the logic in\u001b[39;00m\n\u001b[1;32m   1516\u001b[0m \u001b[39m# this function, and just call forward.\u001b[39;00m\n\u001b[1;32m   1517\u001b[0m \u001b[39mif\u001b[39;00m \u001b[39mnot\u001b[39;00m (\u001b[39mself\u001b[39m\u001b[39m.\u001b[39m_backward_hooks \u001b[39mor\u001b[39;00m \u001b[39mself\u001b[39m\u001b[39m.\u001b[39m_backward_pre_hooks \u001b[39mor\u001b[39;00m \u001b[39mself\u001b[39m\u001b[39m.\u001b[39m_forward_hooks \u001b[39mor\u001b[39;00m \u001b[39mself\u001b[39m\u001b[39m.\u001b[39m_forward_pre_hooks\n\u001b[1;32m   1518\u001b[0m         \u001b[39mor\u001b[39;00m _global_backward_pre_hooks \u001b[39mor\u001b[39;00m _global_backward_hooks\n\u001b[1;32m   1519\u001b[0m         \u001b[39mor\u001b[39;00m _global_forward_hooks \u001b[39mor\u001b[39;00m _global_forward_pre_hooks):\n\u001b[0;32m-> 1520\u001b[0m     \u001b[39mreturn\u001b[39;00m forward_call(\u001b[39m*\u001b[39;49margs, \u001b[39m*\u001b[39;49m\u001b[39m*\u001b[39;49mkwargs)\n\u001b[1;32m   1522\u001b[0m \u001b[39mtry\u001b[39;00m:\n\u001b[1;32m   1523\u001b[0m     result \u001b[39m=\u001b[39m \u001b[39mNone\u001b[39;00m\n",
      "File \u001b[0;32m~/hackaton_museum/venv/lib/python3.12/site-packages/torch/nn/modules/activation.py:1241\u001b[0m, in \u001b[0;36mMultiheadAttention.forward\u001b[0;34m(self, query, key, value, key_padding_mask, need_weights, attn_mask, average_attn_weights, is_causal)\u001b[0m\n\u001b[1;32m   1227\u001b[0m     attn_output, attn_output_weights \u001b[39m=\u001b[39m F\u001b[39m.\u001b[39mmulti_head_attention_forward(\n\u001b[1;32m   1228\u001b[0m         query, key, value, \u001b[39mself\u001b[39m\u001b[39m.\u001b[39membed_dim, \u001b[39mself\u001b[39m\u001b[39m.\u001b[39mnum_heads,\n\u001b[1;32m   1229\u001b[0m         \u001b[39mself\u001b[39m\u001b[39m.\u001b[39min_proj_weight, \u001b[39mself\u001b[39m\u001b[39m.\u001b[39min_proj_bias,\n\u001b[0;32m   (...)\u001b[0m\n\u001b[1;32m   1238\u001b[0m         average_attn_weights\u001b[39m=\u001b[39maverage_attn_weights,\n\u001b[1;32m   1239\u001b[0m         is_causal\u001b[39m=\u001b[39mis_causal)\n\u001b[1;32m   1240\u001b[0m \u001b[39melse\u001b[39;00m:\n\u001b[0;32m-> 1241\u001b[0m     attn_output, attn_output_weights \u001b[39m=\u001b[39m F\u001b[39m.\u001b[39;49mmulti_head_attention_forward(\n\u001b[1;32m   1242\u001b[0m         query, key, value, \u001b[39mself\u001b[39;49m\u001b[39m.\u001b[39;49membed_dim, \u001b[39mself\u001b[39;49m\u001b[39m.\u001b[39;49mnum_heads,\n\u001b[1;32m   1243\u001b[0m         \u001b[39mself\u001b[39;49m\u001b[39m.\u001b[39;49min_proj_weight, \u001b[39mself\u001b[39;49m\u001b[39m.\u001b[39;49min_proj_bias,\n\u001b[1;32m   1244\u001b[0m         \u001b[39mself\u001b[39;49m\u001b[39m.\u001b[39;49mbias_k, \u001b[39mself\u001b[39;49m\u001b[39m.\u001b[39;49mbias_v, \u001b[39mself\u001b[39;49m\u001b[39m.\u001b[39;49madd_zero_attn,\n\u001b[1;32m   1245\u001b[0m         \u001b[39mself\u001b[39;49m\u001b[39m.\u001b[39;49mdropout, \u001b[39mself\u001b[39;49m\u001b[39m.\u001b[39;49mout_proj\u001b[39m.\u001b[39;49mweight, \u001b[39mself\u001b[39;49m\u001b[39m.\u001b[39;49mout_proj\u001b[39m.\u001b[39;49mbias,\n\u001b[1;32m   1246\u001b[0m         training\u001b[39m=\u001b[39;49m\u001b[39mself\u001b[39;49m\u001b[39m.\u001b[39;49mtraining,\n\u001b[1;32m   1247\u001b[0m         key_padding_mask\u001b[39m=\u001b[39;49mkey_padding_mask,\n\u001b[1;32m   1248\u001b[0m         need_weights\u001b[39m=\u001b[39;49mneed_weights,\n\u001b[1;32m   1249\u001b[0m         attn_mask\u001b[39m=\u001b[39;49mattn_mask,\n\u001b[1;32m   1250\u001b[0m         average_attn_weights\u001b[39m=\u001b[39;49maverage_attn_weights,\n\u001b[1;32m   1251\u001b[0m         is_causal\u001b[39m=\u001b[39;49mis_causal)\n\u001b[1;32m   1252\u001b[0m \u001b[39mif\u001b[39;00m \u001b[39mself\u001b[39m\u001b[39m.\u001b[39mbatch_first \u001b[39mand\u001b[39;00m is_batched:\n\u001b[1;32m   1253\u001b[0m     \u001b[39mreturn\u001b[39;00m attn_output\u001b[39m.\u001b[39mtranspose(\u001b[39m1\u001b[39m, \u001b[39m0\u001b[39m), attn_output_weights\n",
      "File \u001b[0;32m~/hackaton_museum/venv/lib/python3.12/site-packages/torch/nn/functional.py:5336\u001b[0m, in \u001b[0;36mmulti_head_attention_forward\u001b[0;34m(query, key, value, embed_dim_to_check, num_heads, in_proj_weight, in_proj_bias, bias_k, bias_v, add_zero_attn, dropout_p, out_proj_weight, out_proj_bias, training, key_padding_mask, need_weights, attn_mask, use_separate_proj_weight, q_proj_weight, k_proj_weight, v_proj_weight, static_k, static_v, average_attn_weights, is_causal)\u001b[0m\n\u001b[1;32m   5334\u001b[0m \u001b[39mif\u001b[39;00m \u001b[39mnot\u001b[39;00m use_separate_proj_weight:\n\u001b[1;32m   5335\u001b[0m     \u001b[39massert\u001b[39;00m in_proj_weight \u001b[39mis\u001b[39;00m \u001b[39mnot\u001b[39;00m \u001b[39mNone\u001b[39;00m, \u001b[39m\"\u001b[39m\u001b[39muse_separate_proj_weight is False but in_proj_weight is None\u001b[39m\u001b[39m\"\u001b[39m\n\u001b[0;32m-> 5336\u001b[0m     q, k, v \u001b[39m=\u001b[39m _in_projection_packed(query, key, value, in_proj_weight, in_proj_bias)\n\u001b[1;32m   5337\u001b[0m \u001b[39melse\u001b[39;00m:\n\u001b[1;32m   5338\u001b[0m     \u001b[39massert\u001b[39;00m q_proj_weight \u001b[39mis\u001b[39;00m \u001b[39mnot\u001b[39;00m \u001b[39mNone\u001b[39;00m, \u001b[39m\"\u001b[39m\u001b[39muse_separate_proj_weight is True but q_proj_weight is None\u001b[39m\u001b[39m\"\u001b[39m\n",
      "File \u001b[0;32m~/hackaton_museum/venv/lib/python3.12/site-packages/torch/nn/functional.py:4857\u001b[0m, in \u001b[0;36m_in_projection_packed\u001b[0;34m(q, k, v, w, b)\u001b[0m\n\u001b[1;32m   4854\u001b[0m \u001b[39mif\u001b[39;00m k \u001b[39mis\u001b[39;00m v:\n\u001b[1;32m   4855\u001b[0m     \u001b[39mif\u001b[39;00m q \u001b[39mis\u001b[39;00m k:\n\u001b[1;32m   4856\u001b[0m         \u001b[39m# self-attention\u001b[39;00m\n\u001b[0;32m-> 4857\u001b[0m         proj \u001b[39m=\u001b[39m linear(q, w, b)\n\u001b[1;32m   4858\u001b[0m         \u001b[39m# reshape to 3, E and not E, 3 is deliberate for better memory coalescing and keeping same order as chunk()\u001b[39;00m\n\u001b[1;32m   4859\u001b[0m         proj \u001b[39m=\u001b[39m proj\u001b[39m.\u001b[39munflatten(\u001b[39m-\u001b[39m\u001b[39m1\u001b[39m, (\u001b[39m3\u001b[39m, E))\u001b[39m.\u001b[39munsqueeze(\u001b[39m0\u001b[39m)\u001b[39m.\u001b[39mtranspose(\u001b[39m0\u001b[39m, \u001b[39m-\u001b[39m\u001b[39m2\u001b[39m)\u001b[39m.\u001b[39msqueeze(\u001b[39m-\u001b[39m\u001b[39m2\u001b[39m)\u001b[39m.\u001b[39mcontiguous()\n",
      "\u001b[0;31mKeyboardInterrupt\u001b[0m: "
     ]
    }
   ],
   "source": [
    "db.insert_museum_imgs(full_df[10000:])"
   ]
  },
  {
   "cell_type": "code",
   "execution_count": 44,
   "metadata": {},
   "outputs": [
    {
     "ename": "KeyboardInterrupt",
     "evalue": "",
     "output_type": "error",
     "traceback": [
      "\u001b[0;31m---------------------------------------------------------------------------\u001b[0m",
      "\u001b[0;31mKeyboardInterrupt\u001b[0m                         Traceback (most recent call last)",
      "Cell \u001b[0;32mIn[44], line 5\u001b[0m\n\u001b[1;32m      3\u001b[0m     best \u001b[38;5;241m=\u001b[39m db\u001b[38;5;241m.\u001b[39msearch_similar(path)\n\u001b[1;32m      4\u001b[0m     \u001b[38;5;28;01mreturn\u001b[39;00m best[\u001b[38;5;241m0\u001b[39m][\u001b[38;5;241m1\u001b[39m]\n\u001b[0;32m----> 5\u001b[0m test_df[\u001b[38;5;124m'\u001b[39m\u001b[38;5;124mgroup_pred\u001b[39m\u001b[38;5;124m'\u001b[39m] \u001b[38;5;241m=\u001b[39m \u001b[43mtest_df\u001b[49m\u001b[43m[\u001b[49m\u001b[38;5;124;43m'\u001b[39;49m\u001b[38;5;124;43mpath\u001b[39;49m\u001b[38;5;124;43m'\u001b[39;49m\u001b[43m]\u001b[49m\u001b[38;5;241;43m.\u001b[39;49m\u001b[43mmap\u001b[49m\u001b[43m(\u001b[49m\u001b[43mpredict\u001b[49m\u001b[43m)\u001b[49m\n",
      "File \u001b[0;32m~/image-search/venv/lib/python3.11/site-packages/pandas/core/series.py:4700\u001b[0m, in \u001b[0;36mSeries.map\u001b[0;34m(self, arg, na_action)\u001b[0m\n\u001b[1;32m   4620\u001b[0m \u001b[38;5;28;01mdef\u001b[39;00m \u001b[38;5;21mmap\u001b[39m(\n\u001b[1;32m   4621\u001b[0m     \u001b[38;5;28mself\u001b[39m,\n\u001b[1;32m   4622\u001b[0m     arg: Callable \u001b[38;5;241m|\u001b[39m Mapping \u001b[38;5;241m|\u001b[39m Series,\n\u001b[1;32m   4623\u001b[0m     na_action: Literal[\u001b[38;5;124m\"\u001b[39m\u001b[38;5;124mignore\u001b[39m\u001b[38;5;124m\"\u001b[39m] \u001b[38;5;241m|\u001b[39m \u001b[38;5;28;01mNone\u001b[39;00m \u001b[38;5;241m=\u001b[39m \u001b[38;5;28;01mNone\u001b[39;00m,\n\u001b[1;32m   4624\u001b[0m ) \u001b[38;5;241m-\u001b[39m\u001b[38;5;241m>\u001b[39m Series:\n\u001b[1;32m   4625\u001b[0m \u001b[38;5;250m    \u001b[39m\u001b[38;5;124;03m\"\"\"\u001b[39;00m\n\u001b[1;32m   4626\u001b[0m \u001b[38;5;124;03m    Map values of Series according to an input mapping or function.\u001b[39;00m\n\u001b[1;32m   4627\u001b[0m \n\u001b[0;32m   (...)\u001b[0m\n\u001b[1;32m   4698\u001b[0m \u001b[38;5;124;03m    dtype: object\u001b[39;00m\n\u001b[1;32m   4699\u001b[0m \u001b[38;5;124;03m    \"\"\"\u001b[39;00m\n\u001b[0;32m-> 4700\u001b[0m     new_values \u001b[38;5;241m=\u001b[39m \u001b[38;5;28;43mself\u001b[39;49m\u001b[38;5;241;43m.\u001b[39;49m\u001b[43m_map_values\u001b[49m\u001b[43m(\u001b[49m\u001b[43marg\u001b[49m\u001b[43m,\u001b[49m\u001b[43m \u001b[49m\u001b[43mna_action\u001b[49m\u001b[38;5;241;43m=\u001b[39;49m\u001b[43mna_action\u001b[49m\u001b[43m)\u001b[49m\n\u001b[1;32m   4701\u001b[0m     \u001b[38;5;28;01mreturn\u001b[39;00m \u001b[38;5;28mself\u001b[39m\u001b[38;5;241m.\u001b[39m_constructor(new_values, index\u001b[38;5;241m=\u001b[39m\u001b[38;5;28mself\u001b[39m\u001b[38;5;241m.\u001b[39mindex, copy\u001b[38;5;241m=\u001b[39m\u001b[38;5;28;01mFalse\u001b[39;00m)\u001b[38;5;241m.\u001b[39m__finalize__(\n\u001b[1;32m   4702\u001b[0m         \u001b[38;5;28mself\u001b[39m, method\u001b[38;5;241m=\u001b[39m\u001b[38;5;124m\"\u001b[39m\u001b[38;5;124mmap\u001b[39m\u001b[38;5;124m\"\u001b[39m\n\u001b[1;32m   4703\u001b[0m     )\n",
      "File \u001b[0;32m~/image-search/venv/lib/python3.11/site-packages/pandas/core/base.py:921\u001b[0m, in \u001b[0;36mIndexOpsMixin._map_values\u001b[0;34m(self, mapper, na_action, convert)\u001b[0m\n\u001b[1;32m    918\u001b[0m \u001b[38;5;28;01mif\u001b[39;00m \u001b[38;5;28misinstance\u001b[39m(arr, ExtensionArray):\n\u001b[1;32m    919\u001b[0m     \u001b[38;5;28;01mreturn\u001b[39;00m arr\u001b[38;5;241m.\u001b[39mmap(mapper, na_action\u001b[38;5;241m=\u001b[39mna_action)\n\u001b[0;32m--> 921\u001b[0m \u001b[38;5;28;01mreturn\u001b[39;00m \u001b[43malgorithms\u001b[49m\u001b[38;5;241;43m.\u001b[39;49m\u001b[43mmap_array\u001b[49m\u001b[43m(\u001b[49m\u001b[43marr\u001b[49m\u001b[43m,\u001b[49m\u001b[43m \u001b[49m\u001b[43mmapper\u001b[49m\u001b[43m,\u001b[49m\u001b[43m \u001b[49m\u001b[43mna_action\u001b[49m\u001b[38;5;241;43m=\u001b[39;49m\u001b[43mna_action\u001b[49m\u001b[43m,\u001b[49m\u001b[43m \u001b[49m\u001b[43mconvert\u001b[49m\u001b[38;5;241;43m=\u001b[39;49m\u001b[43mconvert\u001b[49m\u001b[43m)\u001b[49m\n",
      "File \u001b[0;32m~/image-search/venv/lib/python3.11/site-packages/pandas/core/algorithms.py:1743\u001b[0m, in \u001b[0;36mmap_array\u001b[0;34m(arr, mapper, na_action, convert)\u001b[0m\n\u001b[1;32m   1741\u001b[0m values \u001b[38;5;241m=\u001b[39m arr\u001b[38;5;241m.\u001b[39mastype(\u001b[38;5;28mobject\u001b[39m, copy\u001b[38;5;241m=\u001b[39m\u001b[38;5;28;01mFalse\u001b[39;00m)\n\u001b[1;32m   1742\u001b[0m \u001b[38;5;28;01mif\u001b[39;00m na_action \u001b[38;5;129;01mis\u001b[39;00m \u001b[38;5;28;01mNone\u001b[39;00m:\n\u001b[0;32m-> 1743\u001b[0m     \u001b[38;5;28;01mreturn\u001b[39;00m \u001b[43mlib\u001b[49m\u001b[38;5;241;43m.\u001b[39;49m\u001b[43mmap_infer\u001b[49m\u001b[43m(\u001b[49m\u001b[43mvalues\u001b[49m\u001b[43m,\u001b[49m\u001b[43m \u001b[49m\u001b[43mmapper\u001b[49m\u001b[43m,\u001b[49m\u001b[43m \u001b[49m\u001b[43mconvert\u001b[49m\u001b[38;5;241;43m=\u001b[39;49m\u001b[43mconvert\u001b[49m\u001b[43m)\u001b[49m\n\u001b[1;32m   1744\u001b[0m \u001b[38;5;28;01melse\u001b[39;00m:\n\u001b[1;32m   1745\u001b[0m     \u001b[38;5;28;01mreturn\u001b[39;00m lib\u001b[38;5;241m.\u001b[39mmap_infer_mask(\n\u001b[1;32m   1746\u001b[0m         values, mapper, mask\u001b[38;5;241m=\u001b[39misna(values)\u001b[38;5;241m.\u001b[39mview(np\u001b[38;5;241m.\u001b[39muint8), convert\u001b[38;5;241m=\u001b[39mconvert\n\u001b[1;32m   1747\u001b[0m     )\n",
      "File \u001b[0;32mlib.pyx:2972\u001b[0m, in \u001b[0;36mpandas._libs.lib.map_infer\u001b[0;34m()\u001b[0m\n",
      "Cell \u001b[0;32mIn[44], line 3\u001b[0m, in \u001b[0;36mpredict\u001b[0;34m(path)\u001b[0m\n\u001b[1;32m      2\u001b[0m \u001b[38;5;28;01mdef\u001b[39;00m \u001b[38;5;21mpredict\u001b[39m(path): \n\u001b[0;32m----> 3\u001b[0m     best \u001b[38;5;241m=\u001b[39m \u001b[43mdb\u001b[49m\u001b[38;5;241;43m.\u001b[39;49m\u001b[43msearch_similar\u001b[49m\u001b[43m(\u001b[49m\u001b[43mpath\u001b[49m\u001b[43m)\u001b[49m\n\u001b[1;32m      4\u001b[0m     \u001b[38;5;28;01mreturn\u001b[39;00m best[\u001b[38;5;241m0\u001b[39m][\u001b[38;5;241m1\u001b[39m]\n",
      "Cell \u001b[0;32mIn[20], line 102\u001b[0m, in \u001b[0;36mDB.search_similar\u001b[0;34m(self, img)\u001b[0m\n\u001b[1;32m    100\u001b[0m \u001b[38;5;28;01mif\u001b[39;00m \u001b[38;5;28misinstance\u001b[39m(img, \u001b[38;5;28mstr\u001b[39m): \n\u001b[1;32m    101\u001b[0m     img \u001b[38;5;241m=\u001b[39m Image\u001b[38;5;241m.\u001b[39mopen(img) \n\u001b[0;32m--> 102\u001b[0m emb \u001b[38;5;241m=\u001b[39m \u001b[38;5;28;43mself\u001b[39;49m\u001b[38;5;241;43m.\u001b[39;49m\u001b[43mmodel\u001b[49m\u001b[38;5;241;43m.\u001b[39;49m\u001b[43mencode_images\u001b[49m\u001b[43m(\u001b[49m\u001b[43mimg\u001b[49m\u001b[43m)\u001b[49m\u001b[38;5;241m.\u001b[39mtolist()\n\u001b[1;32m    103\u001b[0m \u001b[38;5;28;01mreturn\u001b[39;00m \u001b[38;5;28mself\u001b[39m\u001b[38;5;241m.\u001b[39msearch_similar_emb(emb)\n",
      "Cell \u001b[0;32mIn[13], line 11\u001b[0m, in \u001b[0;36mLargeClipCat.encode_images\u001b[0;34m(self, img)\u001b[0m\n\u001b[1;32m      9\u001b[0m image \u001b[38;5;241m=\u001b[39m \u001b[38;5;28mself\u001b[39m\u001b[38;5;241m.\u001b[39mpreprocess(img)\u001b[38;5;241m.\u001b[39munsqueeze(\u001b[38;5;241m0\u001b[39m)\u001b[38;5;241m.\u001b[39mto(\u001b[38;5;28mself\u001b[39m\u001b[38;5;241m.\u001b[39mdevice)\n\u001b[1;32m     10\u001b[0m \u001b[38;5;28;01mwith\u001b[39;00m torch\u001b[38;5;241m.\u001b[39mno_grad():\n\u001b[0;32m---> 11\u001b[0m     \u001b[38;5;28;01mreturn\u001b[39;00m \u001b[38;5;28;43mself\u001b[39;49m\u001b[38;5;241;43m.\u001b[39;49m\u001b[43mimg_model\u001b[49m\u001b[38;5;241;43m.\u001b[39;49m\u001b[43mencode_image\u001b[49m\u001b[43m(\u001b[49m\u001b[43mimage\u001b[49m\u001b[43m)\u001b[49m[\u001b[38;5;241m0\u001b[39m]\n",
      "File \u001b[0;32m~/image-search/venv/lib/python3.11/site-packages/open_clip/model.py:266\u001b[0m, in \u001b[0;36mCLIP.encode_image\u001b[0;34m(self, image, normalize)\u001b[0m\n\u001b[1;32m    265\u001b[0m \u001b[38;5;28;01mdef\u001b[39;00m \u001b[38;5;21mencode_image\u001b[39m(\u001b[38;5;28mself\u001b[39m, image, normalize: \u001b[38;5;28mbool\u001b[39m \u001b[38;5;241m=\u001b[39m \u001b[38;5;28;01mFalse\u001b[39;00m):\n\u001b[0;32m--> 266\u001b[0m     features \u001b[38;5;241m=\u001b[39m \u001b[38;5;28;43mself\u001b[39;49m\u001b[38;5;241;43m.\u001b[39;49m\u001b[43mvisual\u001b[49m\u001b[43m(\u001b[49m\u001b[43mimage\u001b[49m\u001b[43m)\u001b[49m\n\u001b[1;32m    267\u001b[0m     \u001b[38;5;28;01mreturn\u001b[39;00m F\u001b[38;5;241m.\u001b[39mnormalize(features, dim\u001b[38;5;241m=\u001b[39m\u001b[38;5;241m-\u001b[39m\u001b[38;5;241m1\u001b[39m) \u001b[38;5;28;01mif\u001b[39;00m normalize \u001b[38;5;28;01melse\u001b[39;00m features\n",
      "File \u001b[0;32m~/image-search/venv/lib/python3.11/site-packages/torch/nn/modules/module.py:1501\u001b[0m, in \u001b[0;36mModule._call_impl\u001b[0;34m(self, *args, **kwargs)\u001b[0m\n\u001b[1;32m   1496\u001b[0m \u001b[38;5;66;03m# If we don't have any hooks, we want to skip the rest of the logic in\u001b[39;00m\n\u001b[1;32m   1497\u001b[0m \u001b[38;5;66;03m# this function, and just call forward.\u001b[39;00m\n\u001b[1;32m   1498\u001b[0m \u001b[38;5;28;01mif\u001b[39;00m \u001b[38;5;129;01mnot\u001b[39;00m (\u001b[38;5;28mself\u001b[39m\u001b[38;5;241m.\u001b[39m_backward_hooks \u001b[38;5;129;01mor\u001b[39;00m \u001b[38;5;28mself\u001b[39m\u001b[38;5;241m.\u001b[39m_backward_pre_hooks \u001b[38;5;129;01mor\u001b[39;00m \u001b[38;5;28mself\u001b[39m\u001b[38;5;241m.\u001b[39m_forward_hooks \u001b[38;5;129;01mor\u001b[39;00m \u001b[38;5;28mself\u001b[39m\u001b[38;5;241m.\u001b[39m_forward_pre_hooks\n\u001b[1;32m   1499\u001b[0m         \u001b[38;5;129;01mor\u001b[39;00m _global_backward_pre_hooks \u001b[38;5;129;01mor\u001b[39;00m _global_backward_hooks\n\u001b[1;32m   1500\u001b[0m         \u001b[38;5;129;01mor\u001b[39;00m _global_forward_hooks \u001b[38;5;129;01mor\u001b[39;00m _global_forward_pre_hooks):\n\u001b[0;32m-> 1501\u001b[0m     \u001b[38;5;28;01mreturn\u001b[39;00m \u001b[43mforward_call\u001b[49m\u001b[43m(\u001b[49m\u001b[38;5;241;43m*\u001b[39;49m\u001b[43margs\u001b[49m\u001b[43m,\u001b[49m\u001b[43m \u001b[49m\u001b[38;5;241;43m*\u001b[39;49m\u001b[38;5;241;43m*\u001b[39;49m\u001b[43mkwargs\u001b[49m\u001b[43m)\u001b[49m\n\u001b[1;32m   1502\u001b[0m \u001b[38;5;66;03m# Do not call functions when jit is used\u001b[39;00m\n\u001b[1;32m   1503\u001b[0m full_backward_hooks, non_full_backward_hooks \u001b[38;5;241m=\u001b[39m [], []\n",
      "File \u001b[0;32m~/image-search/venv/lib/python3.11/site-packages/open_clip/transformer.py:516\u001b[0m, in \u001b[0;36mVisionTransformer.forward\u001b[0;34m(self, x)\u001b[0m\n\u001b[1;32m    513\u001b[0m x \u001b[38;5;241m=\u001b[39m \u001b[38;5;28mself\u001b[39m\u001b[38;5;241m.\u001b[39mln_pre(x)\n\u001b[1;32m    515\u001b[0m x \u001b[38;5;241m=\u001b[39m x\u001b[38;5;241m.\u001b[39mpermute(\u001b[38;5;241m1\u001b[39m, \u001b[38;5;241m0\u001b[39m, \u001b[38;5;241m2\u001b[39m)  \u001b[38;5;66;03m# NLD -> LND\u001b[39;00m\n\u001b[0;32m--> 516\u001b[0m x \u001b[38;5;241m=\u001b[39m \u001b[38;5;28;43mself\u001b[39;49m\u001b[38;5;241;43m.\u001b[39;49m\u001b[43mtransformer\u001b[49m\u001b[43m(\u001b[49m\u001b[43mx\u001b[49m\u001b[43m)\u001b[49m\n\u001b[1;32m    517\u001b[0m x \u001b[38;5;241m=\u001b[39m x\u001b[38;5;241m.\u001b[39mpermute(\u001b[38;5;241m1\u001b[39m, \u001b[38;5;241m0\u001b[39m, \u001b[38;5;241m2\u001b[39m)  \u001b[38;5;66;03m# LND -> NLD\u001b[39;00m\n\u001b[1;32m    519\u001b[0m \u001b[38;5;28;01mif\u001b[39;00m \u001b[38;5;28mself\u001b[39m\u001b[38;5;241m.\u001b[39mattn_pool \u001b[38;5;129;01mis\u001b[39;00m \u001b[38;5;129;01mnot\u001b[39;00m \u001b[38;5;28;01mNone\u001b[39;00m:\n",
      "File \u001b[0;32m~/image-search/venv/lib/python3.11/site-packages/torch/nn/modules/module.py:1501\u001b[0m, in \u001b[0;36mModule._call_impl\u001b[0;34m(self, *args, **kwargs)\u001b[0m\n\u001b[1;32m   1496\u001b[0m \u001b[38;5;66;03m# If we don't have any hooks, we want to skip the rest of the logic in\u001b[39;00m\n\u001b[1;32m   1497\u001b[0m \u001b[38;5;66;03m# this function, and just call forward.\u001b[39;00m\n\u001b[1;32m   1498\u001b[0m \u001b[38;5;28;01mif\u001b[39;00m \u001b[38;5;129;01mnot\u001b[39;00m (\u001b[38;5;28mself\u001b[39m\u001b[38;5;241m.\u001b[39m_backward_hooks \u001b[38;5;129;01mor\u001b[39;00m \u001b[38;5;28mself\u001b[39m\u001b[38;5;241m.\u001b[39m_backward_pre_hooks \u001b[38;5;129;01mor\u001b[39;00m \u001b[38;5;28mself\u001b[39m\u001b[38;5;241m.\u001b[39m_forward_hooks \u001b[38;5;129;01mor\u001b[39;00m \u001b[38;5;28mself\u001b[39m\u001b[38;5;241m.\u001b[39m_forward_pre_hooks\n\u001b[1;32m   1499\u001b[0m         \u001b[38;5;129;01mor\u001b[39;00m _global_backward_pre_hooks \u001b[38;5;129;01mor\u001b[39;00m _global_backward_hooks\n\u001b[1;32m   1500\u001b[0m         \u001b[38;5;129;01mor\u001b[39;00m _global_forward_hooks \u001b[38;5;129;01mor\u001b[39;00m _global_forward_pre_hooks):\n\u001b[0;32m-> 1501\u001b[0m     \u001b[38;5;28;01mreturn\u001b[39;00m \u001b[43mforward_call\u001b[49m\u001b[43m(\u001b[49m\u001b[38;5;241;43m*\u001b[39;49m\u001b[43margs\u001b[49m\u001b[43m,\u001b[49m\u001b[43m \u001b[49m\u001b[38;5;241;43m*\u001b[39;49m\u001b[38;5;241;43m*\u001b[39;49m\u001b[43mkwargs\u001b[49m\u001b[43m)\u001b[49m\n\u001b[1;32m   1502\u001b[0m \u001b[38;5;66;03m# Do not call functions when jit is used\u001b[39;00m\n\u001b[1;32m   1503\u001b[0m full_backward_hooks, non_full_backward_hooks \u001b[38;5;241m=\u001b[39m [], []\n",
      "File \u001b[0;32m~/image-search/venv/lib/python3.11/site-packages/open_clip/transformer.py:324\u001b[0m, in \u001b[0;36mTransformer.forward\u001b[0;34m(self, x, attn_mask)\u001b[0m\n\u001b[1;32m    322\u001b[0m         x \u001b[38;5;241m=\u001b[39m checkpoint(r, x, \u001b[38;5;28;01mNone\u001b[39;00m, \u001b[38;5;28;01mNone\u001b[39;00m, attn_mask)\n\u001b[1;32m    323\u001b[0m     \u001b[38;5;28;01melse\u001b[39;00m:\n\u001b[0;32m--> 324\u001b[0m         x \u001b[38;5;241m=\u001b[39m \u001b[43mr\u001b[49m\u001b[43m(\u001b[49m\u001b[43mx\u001b[49m\u001b[43m,\u001b[49m\u001b[43m \u001b[49m\u001b[43mattn_mask\u001b[49m\u001b[38;5;241;43m=\u001b[39;49m\u001b[43mattn_mask\u001b[49m\u001b[43m)\u001b[49m\n\u001b[1;32m    325\u001b[0m \u001b[38;5;28;01mreturn\u001b[39;00m x\n",
      "File \u001b[0;32m~/image-search/venv/lib/python3.11/site-packages/torch/nn/modules/module.py:1501\u001b[0m, in \u001b[0;36mModule._call_impl\u001b[0;34m(self, *args, **kwargs)\u001b[0m\n\u001b[1;32m   1496\u001b[0m \u001b[38;5;66;03m# If we don't have any hooks, we want to skip the rest of the logic in\u001b[39;00m\n\u001b[1;32m   1497\u001b[0m \u001b[38;5;66;03m# this function, and just call forward.\u001b[39;00m\n\u001b[1;32m   1498\u001b[0m \u001b[38;5;28;01mif\u001b[39;00m \u001b[38;5;129;01mnot\u001b[39;00m (\u001b[38;5;28mself\u001b[39m\u001b[38;5;241m.\u001b[39m_backward_hooks \u001b[38;5;129;01mor\u001b[39;00m \u001b[38;5;28mself\u001b[39m\u001b[38;5;241m.\u001b[39m_backward_pre_hooks \u001b[38;5;129;01mor\u001b[39;00m \u001b[38;5;28mself\u001b[39m\u001b[38;5;241m.\u001b[39m_forward_hooks \u001b[38;5;129;01mor\u001b[39;00m \u001b[38;5;28mself\u001b[39m\u001b[38;5;241m.\u001b[39m_forward_pre_hooks\n\u001b[1;32m   1499\u001b[0m         \u001b[38;5;129;01mor\u001b[39;00m _global_backward_pre_hooks \u001b[38;5;129;01mor\u001b[39;00m _global_backward_hooks\n\u001b[1;32m   1500\u001b[0m         \u001b[38;5;129;01mor\u001b[39;00m _global_forward_hooks \u001b[38;5;129;01mor\u001b[39;00m _global_forward_pre_hooks):\n\u001b[0;32m-> 1501\u001b[0m     \u001b[38;5;28;01mreturn\u001b[39;00m \u001b[43mforward_call\u001b[49m\u001b[43m(\u001b[49m\u001b[38;5;241;43m*\u001b[39;49m\u001b[43margs\u001b[49m\u001b[43m,\u001b[49m\u001b[43m \u001b[49m\u001b[38;5;241;43m*\u001b[39;49m\u001b[38;5;241;43m*\u001b[39;49m\u001b[43mkwargs\u001b[49m\u001b[43m)\u001b[49m\n\u001b[1;32m   1502\u001b[0m \u001b[38;5;66;03m# Do not call functions when jit is used\u001b[39;00m\n\u001b[1;32m   1503\u001b[0m full_backward_hooks, non_full_backward_hooks \u001b[38;5;241m=\u001b[39m [], []\n",
      "File \u001b[0;32m~/image-search/venv/lib/python3.11/site-packages/open_clip/transformer.py:241\u001b[0m, in \u001b[0;36mResidualAttentionBlock.forward\u001b[0;34m(self, q_x, k_x, v_x, attn_mask)\u001b[0m\n\u001b[1;32m    238\u001b[0m k_x \u001b[38;5;241m=\u001b[39m \u001b[38;5;28mself\u001b[39m\u001b[38;5;241m.\u001b[39mln_1_kv(k_x) \u001b[38;5;28;01mif\u001b[39;00m \u001b[38;5;28mhasattr\u001b[39m(\u001b[38;5;28mself\u001b[39m, \u001b[38;5;124m\"\u001b[39m\u001b[38;5;124mln_1_kv\u001b[39m\u001b[38;5;124m\"\u001b[39m) \u001b[38;5;129;01mand\u001b[39;00m k_x \u001b[38;5;129;01mis\u001b[39;00m \u001b[38;5;129;01mnot\u001b[39;00m \u001b[38;5;28;01mNone\u001b[39;00m \u001b[38;5;28;01melse\u001b[39;00m \u001b[38;5;28;01mNone\u001b[39;00m\n\u001b[1;32m    239\u001b[0m v_x \u001b[38;5;241m=\u001b[39m \u001b[38;5;28mself\u001b[39m\u001b[38;5;241m.\u001b[39mln_1_kv(v_x) \u001b[38;5;28;01mif\u001b[39;00m \u001b[38;5;28mhasattr\u001b[39m(\u001b[38;5;28mself\u001b[39m, \u001b[38;5;124m\"\u001b[39m\u001b[38;5;124mln_1_kv\u001b[39m\u001b[38;5;124m\"\u001b[39m) \u001b[38;5;129;01mand\u001b[39;00m v_x \u001b[38;5;129;01mis\u001b[39;00m \u001b[38;5;129;01mnot\u001b[39;00m \u001b[38;5;28;01mNone\u001b[39;00m \u001b[38;5;28;01melse\u001b[39;00m \u001b[38;5;28;01mNone\u001b[39;00m\n\u001b[0;32m--> 241\u001b[0m x \u001b[38;5;241m=\u001b[39m q_x \u001b[38;5;241m+\u001b[39m \u001b[38;5;28mself\u001b[39m\u001b[38;5;241m.\u001b[39mls_1(\u001b[38;5;28;43mself\u001b[39;49m\u001b[38;5;241;43m.\u001b[39;49m\u001b[43mattention\u001b[49m\u001b[43m(\u001b[49m\u001b[43mq_x\u001b[49m\u001b[38;5;241;43m=\u001b[39;49m\u001b[38;5;28;43mself\u001b[39;49m\u001b[38;5;241;43m.\u001b[39;49m\u001b[43mln_1\u001b[49m\u001b[43m(\u001b[49m\u001b[43mq_x\u001b[49m\u001b[43m)\u001b[49m\u001b[43m,\u001b[49m\u001b[43m \u001b[49m\u001b[43mk_x\u001b[49m\u001b[38;5;241;43m=\u001b[39;49m\u001b[43mk_x\u001b[49m\u001b[43m,\u001b[49m\u001b[43m \u001b[49m\u001b[43mv_x\u001b[49m\u001b[38;5;241;43m=\u001b[39;49m\u001b[43mv_x\u001b[49m\u001b[43m,\u001b[49m\u001b[43m \u001b[49m\u001b[43mattn_mask\u001b[49m\u001b[38;5;241;43m=\u001b[39;49m\u001b[43mattn_mask\u001b[49m\u001b[43m)\u001b[49m)\n\u001b[1;32m    242\u001b[0m x \u001b[38;5;241m=\u001b[39m x \u001b[38;5;241m+\u001b[39m \u001b[38;5;28mself\u001b[39m\u001b[38;5;241m.\u001b[39mls_2(\u001b[38;5;28mself\u001b[39m\u001b[38;5;241m.\u001b[39mmlp(\u001b[38;5;28mself\u001b[39m\u001b[38;5;241m.\u001b[39mln_2(x)))\n\u001b[1;32m    243\u001b[0m \u001b[38;5;28;01mreturn\u001b[39;00m x\n",
      "File \u001b[0;32m~/image-search/venv/lib/python3.11/site-packages/open_clip/transformer.py:227\u001b[0m, in \u001b[0;36mResidualAttentionBlock.attention\u001b[0;34m(self, q_x, k_x, v_x, attn_mask)\u001b[0m\n\u001b[1;32m    224\u001b[0m v_x \u001b[38;5;241m=\u001b[39m v_x \u001b[38;5;28;01mif\u001b[39;00m v_x \u001b[38;5;129;01mis\u001b[39;00m \u001b[38;5;129;01mnot\u001b[39;00m \u001b[38;5;28;01mNone\u001b[39;00m \u001b[38;5;28;01melse\u001b[39;00m q_x\n\u001b[1;32m    226\u001b[0m attn_mask \u001b[38;5;241m=\u001b[39m attn_mask\u001b[38;5;241m.\u001b[39mto(q_x\u001b[38;5;241m.\u001b[39mdtype) \u001b[38;5;28;01mif\u001b[39;00m attn_mask \u001b[38;5;129;01mis\u001b[39;00m \u001b[38;5;129;01mnot\u001b[39;00m \u001b[38;5;28;01mNone\u001b[39;00m \u001b[38;5;28;01melse\u001b[39;00m \u001b[38;5;28;01mNone\u001b[39;00m\n\u001b[0;32m--> 227\u001b[0m \u001b[38;5;28;01mreturn\u001b[39;00m \u001b[38;5;28;43mself\u001b[39;49m\u001b[38;5;241;43m.\u001b[39;49m\u001b[43mattn\u001b[49m\u001b[43m(\u001b[49m\n\u001b[1;32m    228\u001b[0m \u001b[43m    \u001b[49m\u001b[43mq_x\u001b[49m\u001b[43m,\u001b[49m\u001b[43m \u001b[49m\u001b[43mk_x\u001b[49m\u001b[43m,\u001b[49m\u001b[43m \u001b[49m\u001b[43mv_x\u001b[49m\u001b[43m,\u001b[49m\u001b[43m \u001b[49m\u001b[43mneed_weights\u001b[49m\u001b[38;5;241;43m=\u001b[39;49m\u001b[38;5;28;43;01mFalse\u001b[39;49;00m\u001b[43m,\u001b[49m\u001b[43m \u001b[49m\u001b[43mattn_mask\u001b[49m\u001b[38;5;241;43m=\u001b[39;49m\u001b[43mattn_mask\u001b[49m\n\u001b[1;32m    229\u001b[0m \u001b[43m\u001b[49m\u001b[43m)\u001b[49m[\u001b[38;5;241m0\u001b[39m]\n",
      "File \u001b[0;32m~/image-search/venv/lib/python3.11/site-packages/torch/nn/modules/module.py:1501\u001b[0m, in \u001b[0;36mModule._call_impl\u001b[0;34m(self, *args, **kwargs)\u001b[0m\n\u001b[1;32m   1496\u001b[0m \u001b[38;5;66;03m# If we don't have any hooks, we want to skip the rest of the logic in\u001b[39;00m\n\u001b[1;32m   1497\u001b[0m \u001b[38;5;66;03m# this function, and just call forward.\u001b[39;00m\n\u001b[1;32m   1498\u001b[0m \u001b[38;5;28;01mif\u001b[39;00m \u001b[38;5;129;01mnot\u001b[39;00m (\u001b[38;5;28mself\u001b[39m\u001b[38;5;241m.\u001b[39m_backward_hooks \u001b[38;5;129;01mor\u001b[39;00m \u001b[38;5;28mself\u001b[39m\u001b[38;5;241m.\u001b[39m_backward_pre_hooks \u001b[38;5;129;01mor\u001b[39;00m \u001b[38;5;28mself\u001b[39m\u001b[38;5;241m.\u001b[39m_forward_hooks \u001b[38;5;129;01mor\u001b[39;00m \u001b[38;5;28mself\u001b[39m\u001b[38;5;241m.\u001b[39m_forward_pre_hooks\n\u001b[1;32m   1499\u001b[0m         \u001b[38;5;129;01mor\u001b[39;00m _global_backward_pre_hooks \u001b[38;5;129;01mor\u001b[39;00m _global_backward_hooks\n\u001b[1;32m   1500\u001b[0m         \u001b[38;5;129;01mor\u001b[39;00m _global_forward_hooks \u001b[38;5;129;01mor\u001b[39;00m _global_forward_pre_hooks):\n\u001b[0;32m-> 1501\u001b[0m     \u001b[38;5;28;01mreturn\u001b[39;00m \u001b[43mforward_call\u001b[49m\u001b[43m(\u001b[49m\u001b[38;5;241;43m*\u001b[39;49m\u001b[43margs\u001b[49m\u001b[43m,\u001b[49m\u001b[43m \u001b[49m\u001b[38;5;241;43m*\u001b[39;49m\u001b[38;5;241;43m*\u001b[39;49m\u001b[43mkwargs\u001b[49m\u001b[43m)\u001b[49m\n\u001b[1;32m   1502\u001b[0m \u001b[38;5;66;03m# Do not call functions when jit is used\u001b[39;00m\n\u001b[1;32m   1503\u001b[0m full_backward_hooks, non_full_backward_hooks \u001b[38;5;241m=\u001b[39m [], []\n",
      "File \u001b[0;32m~/image-search/venv/lib/python3.11/site-packages/torch/nn/modules/activation.py:1205\u001b[0m, in \u001b[0;36mMultiheadAttention.forward\u001b[0;34m(self, query, key, value, key_padding_mask, need_weights, attn_mask, average_attn_weights, is_causal)\u001b[0m\n\u001b[1;32m   1191\u001b[0m     attn_output, attn_output_weights \u001b[38;5;241m=\u001b[39m F\u001b[38;5;241m.\u001b[39mmulti_head_attention_forward(\n\u001b[1;32m   1192\u001b[0m         query, key, value, \u001b[38;5;28mself\u001b[39m\u001b[38;5;241m.\u001b[39membed_dim, \u001b[38;5;28mself\u001b[39m\u001b[38;5;241m.\u001b[39mnum_heads,\n\u001b[1;32m   1193\u001b[0m         \u001b[38;5;28mself\u001b[39m\u001b[38;5;241m.\u001b[39min_proj_weight, \u001b[38;5;28mself\u001b[39m\u001b[38;5;241m.\u001b[39min_proj_bias,\n\u001b[0;32m   (...)\u001b[0m\n\u001b[1;32m   1202\u001b[0m         average_attn_weights\u001b[38;5;241m=\u001b[39maverage_attn_weights,\n\u001b[1;32m   1203\u001b[0m         is_causal\u001b[38;5;241m=\u001b[39mis_causal)\n\u001b[1;32m   1204\u001b[0m \u001b[38;5;28;01melse\u001b[39;00m:\n\u001b[0;32m-> 1205\u001b[0m     attn_output, attn_output_weights \u001b[38;5;241m=\u001b[39m \u001b[43mF\u001b[49m\u001b[38;5;241;43m.\u001b[39;49m\u001b[43mmulti_head_attention_forward\u001b[49m\u001b[43m(\u001b[49m\n\u001b[1;32m   1206\u001b[0m \u001b[43m        \u001b[49m\u001b[43mquery\u001b[49m\u001b[43m,\u001b[49m\u001b[43m \u001b[49m\u001b[43mkey\u001b[49m\u001b[43m,\u001b[49m\u001b[43m \u001b[49m\u001b[43mvalue\u001b[49m\u001b[43m,\u001b[49m\u001b[43m \u001b[49m\u001b[38;5;28;43mself\u001b[39;49m\u001b[38;5;241;43m.\u001b[39;49m\u001b[43membed_dim\u001b[49m\u001b[43m,\u001b[49m\u001b[43m \u001b[49m\u001b[38;5;28;43mself\u001b[39;49m\u001b[38;5;241;43m.\u001b[39;49m\u001b[43mnum_heads\u001b[49m\u001b[43m,\u001b[49m\n\u001b[1;32m   1207\u001b[0m \u001b[43m        \u001b[49m\u001b[38;5;28;43mself\u001b[39;49m\u001b[38;5;241;43m.\u001b[39;49m\u001b[43min_proj_weight\u001b[49m\u001b[43m,\u001b[49m\u001b[43m \u001b[49m\u001b[38;5;28;43mself\u001b[39;49m\u001b[38;5;241;43m.\u001b[39;49m\u001b[43min_proj_bias\u001b[49m\u001b[43m,\u001b[49m\n\u001b[1;32m   1208\u001b[0m \u001b[43m        \u001b[49m\u001b[38;5;28;43mself\u001b[39;49m\u001b[38;5;241;43m.\u001b[39;49m\u001b[43mbias_k\u001b[49m\u001b[43m,\u001b[49m\u001b[43m \u001b[49m\u001b[38;5;28;43mself\u001b[39;49m\u001b[38;5;241;43m.\u001b[39;49m\u001b[43mbias_v\u001b[49m\u001b[43m,\u001b[49m\u001b[43m \u001b[49m\u001b[38;5;28;43mself\u001b[39;49m\u001b[38;5;241;43m.\u001b[39;49m\u001b[43madd_zero_attn\u001b[49m\u001b[43m,\u001b[49m\n\u001b[1;32m   1209\u001b[0m \u001b[43m        \u001b[49m\u001b[38;5;28;43mself\u001b[39;49m\u001b[38;5;241;43m.\u001b[39;49m\u001b[43mdropout\u001b[49m\u001b[43m,\u001b[49m\u001b[43m \u001b[49m\u001b[38;5;28;43mself\u001b[39;49m\u001b[38;5;241;43m.\u001b[39;49m\u001b[43mout_proj\u001b[49m\u001b[38;5;241;43m.\u001b[39;49m\u001b[43mweight\u001b[49m\u001b[43m,\u001b[49m\u001b[43m \u001b[49m\u001b[38;5;28;43mself\u001b[39;49m\u001b[38;5;241;43m.\u001b[39;49m\u001b[43mout_proj\u001b[49m\u001b[38;5;241;43m.\u001b[39;49m\u001b[43mbias\u001b[49m\u001b[43m,\u001b[49m\n\u001b[1;32m   1210\u001b[0m \u001b[43m        \u001b[49m\u001b[43mtraining\u001b[49m\u001b[38;5;241;43m=\u001b[39;49m\u001b[38;5;28;43mself\u001b[39;49m\u001b[38;5;241;43m.\u001b[39;49m\u001b[43mtraining\u001b[49m\u001b[43m,\u001b[49m\n\u001b[1;32m   1211\u001b[0m \u001b[43m        \u001b[49m\u001b[43mkey_padding_mask\u001b[49m\u001b[38;5;241;43m=\u001b[39;49m\u001b[43mkey_padding_mask\u001b[49m\u001b[43m,\u001b[49m\n\u001b[1;32m   1212\u001b[0m \u001b[43m        \u001b[49m\u001b[43mneed_weights\u001b[49m\u001b[38;5;241;43m=\u001b[39;49m\u001b[43mneed_weights\u001b[49m\u001b[43m,\u001b[49m\n\u001b[1;32m   1213\u001b[0m \u001b[43m        \u001b[49m\u001b[43mattn_mask\u001b[49m\u001b[38;5;241;43m=\u001b[39;49m\u001b[43mattn_mask\u001b[49m\u001b[43m,\u001b[49m\n\u001b[1;32m   1214\u001b[0m \u001b[43m        \u001b[49m\u001b[43maverage_attn_weights\u001b[49m\u001b[38;5;241;43m=\u001b[39;49m\u001b[43maverage_attn_weights\u001b[49m\u001b[43m,\u001b[49m\n\u001b[1;32m   1215\u001b[0m \u001b[43m        \u001b[49m\u001b[43mis_causal\u001b[49m\u001b[38;5;241;43m=\u001b[39;49m\u001b[43mis_causal\u001b[49m\u001b[43m)\u001b[49m\n\u001b[1;32m   1216\u001b[0m \u001b[38;5;28;01mif\u001b[39;00m \u001b[38;5;28mself\u001b[39m\u001b[38;5;241m.\u001b[39mbatch_first \u001b[38;5;129;01mand\u001b[39;00m is_batched:\n\u001b[1;32m   1217\u001b[0m     \u001b[38;5;28;01mreturn\u001b[39;00m attn_output\u001b[38;5;241m.\u001b[39mtranspose(\u001b[38;5;241m1\u001b[39m, \u001b[38;5;241m0\u001b[39m), attn_output_weights\n",
      "File \u001b[0;32m~/image-search/venv/lib/python3.11/site-packages/torch/nn/functional.py:5373\u001b[0m, in \u001b[0;36mmulti_head_attention_forward\u001b[0;34m(query, key, value, embed_dim_to_check, num_heads, in_proj_weight, in_proj_bias, bias_k, bias_v, add_zero_attn, dropout_p, out_proj_weight, out_proj_bias, training, key_padding_mask, need_weights, attn_mask, use_separate_proj_weight, q_proj_weight, k_proj_weight, v_proj_weight, static_k, static_v, average_attn_weights, is_causal)\u001b[0m\n\u001b[1;32m   5370\u001b[0m k \u001b[38;5;241m=\u001b[39m k\u001b[38;5;241m.\u001b[39mview(bsz, num_heads, src_len, head_dim)\n\u001b[1;32m   5371\u001b[0m v \u001b[38;5;241m=\u001b[39m v\u001b[38;5;241m.\u001b[39mview(bsz, num_heads, src_len, head_dim)\n\u001b[0;32m-> 5373\u001b[0m attn_output \u001b[38;5;241m=\u001b[39m \u001b[43mscaled_dot_product_attention\u001b[49m\u001b[43m(\u001b[49m\u001b[43mq\u001b[49m\u001b[43m,\u001b[49m\u001b[43m \u001b[49m\u001b[43mk\u001b[49m\u001b[43m,\u001b[49m\u001b[43m \u001b[49m\u001b[43mv\u001b[49m\u001b[43m,\u001b[49m\u001b[43m \u001b[49m\u001b[43mattn_mask\u001b[49m\u001b[43m,\u001b[49m\u001b[43m \u001b[49m\u001b[43mdropout_p\u001b[49m\u001b[43m,\u001b[49m\u001b[43m \u001b[49m\u001b[43mis_causal\u001b[49m\u001b[43m)\u001b[49m\n\u001b[1;32m   5374\u001b[0m attn_output \u001b[38;5;241m=\u001b[39m attn_output\u001b[38;5;241m.\u001b[39mpermute(\u001b[38;5;241m2\u001b[39m, \u001b[38;5;241m0\u001b[39m, \u001b[38;5;241m1\u001b[39m, \u001b[38;5;241m3\u001b[39m)\u001b[38;5;241m.\u001b[39mcontiguous()\u001b[38;5;241m.\u001b[39mview(bsz \u001b[38;5;241m*\u001b[39m tgt_len, embed_dim)\n\u001b[1;32m   5376\u001b[0m attn_output \u001b[38;5;241m=\u001b[39m linear(attn_output, out_proj_weight, out_proj_bias)\n",
      "\u001b[0;31mKeyboardInterrupt\u001b[0m: "
     ]
    }
   ],
   "source": [
    "test_df = full_df[10000:].sample(100)\n",
    "def predict(path): \n",
    "    best = db.search_similar(path)\n",
    "    return best[0][1]\n",
    "test_df['group_pred'] = test_df['path'].map(predict)"
   ]
  },
  {
   "cell_type": "code",
   "execution_count": 43,
   "metadata": {},
   "outputs": [
    {
     "name": "stdout",
     "output_type": "stream",
     "text": [
      "0.83\n"
     ]
    }
   ],
   "source": [
    "mistakes = test_df[test_df['group_pred'] != test_df['group']]\n",
    "print(1-len(mistakes)/len(test_df))"
   ]
  },
  {
   "cell_type": "code",
   "execution_count": 79,
   "metadata": {},
   "outputs": [
    {
     "data": {
      "text/html": [
       "<div>\n",
       "<style scoped>\n",
       "    .dataframe tbody tr th:only-of-type {\n",
       "        vertical-align: middle;\n",
       "    }\n",
       "\n",
       "    .dataframe tbody tr th {\n",
       "        vertical-align: top;\n",
       "    }\n",
       "\n",
       "    .dataframe thead th {\n",
       "        text-align: right;\n",
       "    }\n",
       "</style>\n",
       "<table border=\"1\" class=\"dataframe\">\n",
       "  <thead>\n",
       "    <tr style=\"text-align: right;\">\n",
       "      <th></th>\n",
       "      <th>object_id</th>\n",
       "      <th>name</th>\n",
       "      <th>description</th>\n",
       "      <th>group</th>\n",
       "      <th>img_name</th>\n",
       "      <th>path</th>\n",
       "      <th>embedding_path</th>\n",
       "      <th>group_pred</th>\n",
       "    </tr>\n",
       "  </thead>\n",
       "  <tbody>\n",
       "    <tr>\n",
       "      <th>14927</th>\n",
       "      <td>29835132</td>\n",
       "      <td>Щетка, из набора щеток</td>\n",
       "      <td>NaN</td>\n",
       "      <td>Скульптура</td>\n",
       "      <td>34504363.jpg</td>\n",
       "      <td>./mincult-train/train/29835132/34504363.jpg</td>\n",
       "      <td>./mincult-train/train/29835132/34504363.jpg.em...</td>\n",
       "      <td></td>\n",
       "    </tr>\n",
       "    <tr>\n",
       "      <th>19242</th>\n",
       "      <td>19939934</td>\n",
       "      <td>Бочонок №5. Из набора игры настольной \"ЛОТО\"</td>\n",
       "      <td>Цилиндрической формы, сужающейся к основаниям....</td>\n",
       "      <td>ДПИ</td>\n",
       "      <td>51300972.jpg</td>\n",
       "      <td>./mincult-train/train/19939934/51300972.jpg</td>\n",
       "      <td>./mincult-train/train/19939934/51300972.jpg.em...</td>\n",
       "      <td></td>\n",
       "    </tr>\n",
       "    <tr>\n",
       "      <th>10635</th>\n",
       "      <td>19935932</td>\n",
       "      <td>Туристическая карта-схема Крым (сложенная)</td>\n",
       "      <td>NaN</td>\n",
       "      <td>Прочие</td>\n",
       "      <td>20640070.jpg</td>\n",
       "      <td>./mincult-train/train/19935932/20640070.jpg</td>\n",
       "      <td>./mincult-train/train/19935932/20640070.jpg.em...</td>\n",
       "      <td></td>\n",
       "    </tr>\n",
       "    <tr>\n",
       "      <th>10797</th>\n",
       "      <td>21615336</td>\n",
       "      <td>Шпилька костяная для волос, принадлежавшая Л.Ю...</td>\n",
       "      <td>Желто-бежевого цвета, с полукруглой головкой и...</td>\n",
       "      <td>ДПИ</td>\n",
       "      <td>22970322.jpg</td>\n",
       "      <td>./mincult-train/train/21615336/22970322.jpg</td>\n",
       "      <td>./mincult-train/train/21615336/22970322.jpg.em...</td>\n",
       "      <td></td>\n",
       "    </tr>\n",
       "    <tr>\n",
       "      <th>18770</th>\n",
       "      <td>46770795</td>\n",
       "      <td>Фрагмент самолепного сосуда серого цвета прямо...</td>\n",
       "      <td>NaN</td>\n",
       "      <td>Археология</td>\n",
       "      <td>57801041.jpg</td>\n",
       "      <td>./mincult-train/train/46770795/57801041.jpg</td>\n",
       "      <td>./mincult-train/train/46770795/57801041.jpg.em...</td>\n",
       "      <td></td>\n",
       "    </tr>\n",
       "    <tr>\n",
       "      <th>15327</th>\n",
       "      <td>19936689</td>\n",
       "      <td>Браслет женский</td>\n",
       "      <td>NaN</td>\n",
       "      <td>ДПИ</td>\n",
       "      <td>20641703.jpg</td>\n",
       "      <td>./mincult-train/train/19936689/20641703.jpg</td>\n",
       "      <td>./mincult-train/train/19936689/20641703.jpg.em...</td>\n",
       "      <td></td>\n",
       "    </tr>\n",
       "    <tr>\n",
       "      <th>19578</th>\n",
       "      <td>43799107</td>\n",
       "      <td>Журнал «Советская медицина» № 4.</td>\n",
       "      <td>NaN</td>\n",
       "      <td>Документы</td>\n",
       "      <td>53891140.jpg</td>\n",
       "      <td>./mincult-train/train/43799107/53891140.jpg</td>\n",
       "      <td>./mincult-train/train/43799107/53891140.jpg.em...</td>\n",
       "      <td></td>\n",
       "    </tr>\n",
       "    <tr>\n",
       "      <th>11387</th>\n",
       "      <td>46784763</td>\n",
       "      <td>Фотонегатив. Дни газеты «Правда» в Красноярске</td>\n",
       "      <td>Красноярский филиал Центрального музея им. В.И...</td>\n",
       "      <td>Фото, негативы</td>\n",
       "      <td>57818575.jpg</td>\n",
       "      <td>./mincult-train/train/46784763/57818575.jpg</td>\n",
       "      <td>./mincult-train/train/46784763/57818575.jpg.em...</td>\n",
       "      <td></td>\n",
       "    </tr>\n",
       "    <tr>\n",
       "      <th>14578</th>\n",
       "      <td>19928101</td>\n",
       "      <td>А.Б. Палладин. О химическом взаимодействии орг...</td>\n",
       "      <td>С.-Петербург: издательство Панафидиной. 1913 г...</td>\n",
       "      <td>Печатная продукция</td>\n",
       "      <td>20627444.jpg</td>\n",
       "      <td>./mincult-train/train/19928101/20627444.jpg</td>\n",
       "      <td>./mincult-train/train/19928101/20627444.jpg.em...</td>\n",
       "      <td></td>\n",
       "    </tr>\n",
       "    <tr>\n",
       "      <th>15942</th>\n",
       "      <td>10718853</td>\n",
       "      <td>Накидка</td>\n",
       "      <td>Накидка квадратной формы, состоит из 16 малень...</td>\n",
       "      <td>ДПИ</td>\n",
       "      <td>7929457.jpg</td>\n",
       "      <td>./mincult-train/train/10718853/7929457.jpg</td>\n",
       "      <td>./mincult-train/train/10718853/7929457.jpg.emb...</td>\n",
       "      <td></td>\n",
       "    </tr>\n",
       "    <tr>\n",
       "      <th>17855</th>\n",
       "      <td>18406142</td>\n",
       "      <td>открытка. Привет из Рыбинска. Набережная, Прис...</td>\n",
       "      <td>NaN</td>\n",
       "      <td>Печатная продукция</td>\n",
       "      <td>18541043.jpg</td>\n",
       "      <td>./mincult-train/train/18406142/18541043.jpg</td>\n",
       "      <td>./mincult-train/train/18406142/18541043.jpg.em...</td>\n",
       "      <td></td>\n",
       "    </tr>\n",
       "    <tr>\n",
       "      <th>11906</th>\n",
       "      <td>29750130</td>\n",
       "      <td>Книга. Толстой Л. Н. Сочинения графа Льва Нико...</td>\n",
       "      <td>NaN</td>\n",
       "      <td>Редкие книги</td>\n",
       "      <td>35116593.jpg</td>\n",
       "      <td>./mincult-train/train/29750130/35116593.jpg</td>\n",
       "      <td>./mincult-train/train/29750130/35116593.jpg.em...</td>\n",
       "      <td></td>\n",
       "    </tr>\n",
       "    <tr>\n",
       "      <th>17661</th>\n",
       "      <td>41185459</td>\n",
       "      <td>Альбом \"Выпускники - 80\" (Славгородская средня...</td>\n",
       "      <td>Альбом изготовлен типографским способом из лис...</td>\n",
       "      <td>Прочие</td>\n",
       "      <td>50246145.jpg</td>\n",
       "      <td>./mincult-train/train/41185459/50246145.jpg</td>\n",
       "      <td>./mincult-train/train/41185459/50246145.jpg.em...</td>\n",
       "      <td></td>\n",
       "    </tr>\n",
       "    <tr>\n",
       "      <th>14414</th>\n",
       "      <td>10946641</td>\n",
       "      <td>Остров Аникин</td>\n",
       "      <td>NaN</td>\n",
       "      <td>Живопись</td>\n",
       "      <td>8245289.jpg</td>\n",
       "      <td>./mincult-train/train/10946641/8245289.jpg</td>\n",
       "      <td>./mincult-train/train/10946641/8245289.jpg.emb...</td>\n",
       "      <td></td>\n",
       "    </tr>\n",
       "    <tr>\n",
       "      <th>10855</th>\n",
       "      <td>22926453</td>\n",
       "      <td>Нивелир Н-3К.</td>\n",
       "      <td>Нивелир Н-3К, предназначен для определения точ...</td>\n",
       "      <td>Техника</td>\n",
       "      <td>24800390.jpg</td>\n",
       "      <td>./mincult-train/train/22926453/24800390.jpg</td>\n",
       "      <td>./mincult-train/train/22926453/24800390.jpg.em...</td>\n",
       "      <td></td>\n",
       "    </tr>\n",
       "    <tr>\n",
       "      <th>16684</th>\n",
       "      <td>11169677</td>\n",
       "      <td>Газета. \"Красный воин\" № 203 (6075).</td>\n",
       "      <td>Красноармейская газета Московского военного ок...</td>\n",
       "      <td>Печатная продукция</td>\n",
       "      <td>14178138.jpg</td>\n",
       "      <td>./mincult-train/train/11169677/14178138.jpg</td>\n",
       "      <td>./mincult-train/train/11169677/14178138.jpg.em...</td>\n",
       "      <td></td>\n",
       "    </tr>\n",
       "    <tr>\n",
       "      <th>11148</th>\n",
       "      <td>49040016</td>\n",
       "      <td>Гвоздь</td>\n",
       "      <td>Четырехгранный</td>\n",
       "      <td>Археология</td>\n",
       "      <td>61028998.jpg</td>\n",
       "      <td>./mincult-train/train/49040016/61028998.jpg</td>\n",
       "      <td>./mincult-train/train/49040016/61028998.jpg.em...</td>\n",
       "      <td></td>\n",
       "    </tr>\n",
       "    <tr>\n",
       "      <th>10632</th>\n",
       "      <td>29018996</td>\n",
       "      <td>Журнал. Работница.</td>\n",
       "      <td>На верхн. сторонке фотография работницы табачн...</td>\n",
       "      <td>Редкие книги</td>\n",
       "      <td>33382732.jpg</td>\n",
       "      <td>./mincult-train/train/29018996/33382732.jpg</td>\n",
       "      <td>./mincult-train/train/29018996/33382732.jpg.em...</td>\n",
       "      <td></td>\n",
       "    </tr>\n",
       "    <tr>\n",
       "      <th>14065</th>\n",
       "      <td>11861558</td>\n",
       "      <td>Радиола</td>\n",
       "      <td>NaN</td>\n",
       "      <td>Техника</td>\n",
       "      <td>9460492.jpg</td>\n",
       "      <td>./mincult-train/train/11861558/9460492.jpg</td>\n",
       "      <td>./mincult-train/train/11861558/9460492.jpg.emb...</td>\n",
       "      <td></td>\n",
       "    </tr>\n",
       "    <tr>\n",
       "      <th>11269</th>\n",
       "      <td>18595186</td>\n",
       "      <td>Фотовалик</td>\n",
       "      <td>Деревянный цилиндр в резиновой оболочке чёрног...</td>\n",
       "      <td>Техника</td>\n",
       "      <td>18816025.jpg</td>\n",
       "      <td>./mincult-train/train/18595186/18816025.jpg</td>\n",
       "      <td>./mincult-train/train/18595186/18816025.jpg.em...</td>\n",
       "      <td></td>\n",
       "    </tr>\n",
       "    <tr>\n",
       "      <th>19878</th>\n",
       "      <td>9871982</td>\n",
       "      <td>Ложка десертная</td>\n",
       "      <td>NaN</td>\n",
       "      <td>ДПИ</td>\n",
       "      <td>6667515.jpg</td>\n",
       "      <td>./mincult-train/train/9871982/6667515.jpg</td>\n",
       "      <td>./mincult-train/train/9871982/6667515.jpg.embe...</td>\n",
       "      <td></td>\n",
       "    </tr>\n",
       "    <tr>\n",
       "      <th>16127</th>\n",
       "      <td>19945386</td>\n",
       "      <td>Souvenirs d'audience, ou Résumé des plaidoirie...</td>\n",
       "      <td>В составном переплете: сторонки серого картона...</td>\n",
       "      <td>Редкие книги</td>\n",
       "      <td>20653989.jpg</td>\n",
       "      <td>./mincult-train/train/19945386/20653989.jpg</td>\n",
       "      <td>./mincult-train/train/19945386/20653989.jpg.em...</td>\n",
       "      <td></td>\n",
       "    </tr>\n",
       "    <tr>\n",
       "      <th>11179</th>\n",
       "      <td>12542881</td>\n",
       "      <td>Монета, достоинством 3 копейки.</td>\n",
       "      <td>NaN</td>\n",
       "      <td>Нумизматика</td>\n",
       "      <td>14178751.jpg</td>\n",
       "      <td>./mincult-train/train/12542881/14178751.jpg</td>\n",
       "      <td>./mincult-train/train/12542881/14178751.jpg.em...</td>\n",
       "      <td></td>\n",
       "    </tr>\n",
       "    <tr>\n",
       "      <th>13020</th>\n",
       "      <td>10667843</td>\n",
       "      <td>Книга. Alexis, ou la maisonnette dans les bois...</td>\n",
       "      <td>В составном пестром картонном переплете с кожа...</td>\n",
       "      <td>Редкие книги</td>\n",
       "      <td>31838422.jpg</td>\n",
       "      <td>./mincult-train/train/10667843/31838422.jpg</td>\n",
       "      <td>./mincult-train/train/10667843/31838422.jpg.em...</td>\n",
       "      <td></td>\n",
       "    </tr>\n",
       "    <tr>\n",
       "      <th>14394</th>\n",
       "      <td>43799452</td>\n",
       "      <td>Горбунов И.Ф. Записная книжка.</td>\n",
       "      <td>NaN</td>\n",
       "      <td>Документы</td>\n",
       "      <td>53892190.jpg</td>\n",
       "      <td>./mincult-train/train/43799452/53892190.jpg</td>\n",
       "      <td>./mincult-train/train/43799452/53892190.jpg.em...</td>\n",
       "      <td></td>\n",
       "    </tr>\n",
       "    <tr>\n",
       "      <th>10122</th>\n",
       "      <td>7767575</td>\n",
       "      <td>Галенит</td>\n",
       "      <td>Кристалл галенита</td>\n",
       "      <td>Минералогия</td>\n",
       "      <td>3769939.jpg</td>\n",
       "      <td>./mincult-train/train/7767575/3769939.jpg</td>\n",
       "      <td>./mincult-train/train/7767575/3769939.jpg.embe...</td>\n",
       "      <td></td>\n",
       "    </tr>\n",
       "    <tr>\n",
       "      <th>18660</th>\n",
       "      <td>10052280</td>\n",
       "      <td>Книга. Т. 3. Современник, литературный журнал ...</td>\n",
       "      <td>NaN</td>\n",
       "      <td>Редкие книги</td>\n",
       "      <td>6947989.jpg</td>\n",
       "      <td>./mincult-train/train/10052280/6947989.jpg</td>\n",
       "      <td>./mincult-train/train/10052280/6947989.jpg.emb...</td>\n",
       "      <td></td>\n",
       "    </tr>\n",
       "    <tr>\n",
       "      <th>16814</th>\n",
       "      <td>43785787</td>\n",
       "      <td>Образец керамики с ямочно-гребенчатым орнаментом</td>\n",
       "      <td>Коллекция керамики с ямочно-гребенчатым орнаме...</td>\n",
       "      <td>Археология</td>\n",
       "      <td>53869993.jpg</td>\n",
       "      <td>./mincult-train/train/43785787/53869993.jpg</td>\n",
       "      <td>./mincult-train/train/43785787/53869993.jpg.em...</td>\n",
       "      <td></td>\n",
       "    </tr>\n",
       "    <tr>\n",
       "      <th>13132</th>\n",
       "      <td>10397486</td>\n",
       "      <td>Афиша: «Здесь живёт модерн», проектной выставк...</td>\n",
       "      <td>На афише изображено открытое окно, вдали вид з...</td>\n",
       "      <td>Печатная продукция</td>\n",
       "      <td>7491302.jpg</td>\n",
       "      <td>./mincult-train/train/10397486/7491302.jpg</td>\n",
       "      <td>./mincult-train/train/10397486/7491302.jpg.emb...</td>\n",
       "      <td></td>\n",
       "    </tr>\n",
       "    <tr>\n",
       "      <th>19276</th>\n",
       "      <td>10669752</td>\n",
       "      <td>Лопата</td>\n",
       "      <td>деревянная, строганная, со скошенными вверху у...</td>\n",
       "      <td>Археология</td>\n",
       "      <td>7861950.jpg</td>\n",
       "      <td>./mincult-train/train/10669752/7861950.jpg</td>\n",
       "      <td>./mincult-train/train/10669752/7861950.jpg.emb...</td>\n",
       "      <td></td>\n",
       "    </tr>\n",
       "  </tbody>\n",
       "</table>\n",
       "</div>"
      ],
      "text/plain": [
       "       object_id                                               name  \\\n",
       "14927   29835132                             Щетка, из набора щеток   \n",
       "19242   19939934       Бочонок №5. Из набора игры настольной \"ЛОТО\"   \n",
       "10635   19935932         Туристическая карта-схема Крым (сложенная)   \n",
       "10797   21615336  Шпилька костяная для волос, принадлежавшая Л.Ю...   \n",
       "18770   46770795  Фрагмент самолепного сосуда серого цвета прямо...   \n",
       "15327   19936689                                    Браслет женский   \n",
       "19578   43799107                   Журнал «Советская медицина» № 4.   \n",
       "11387   46784763     Фотонегатив. Дни газеты «Правда» в Красноярске   \n",
       "14578   19928101  А.Б. Палладин. О химическом взаимодействии орг...   \n",
       "15942   10718853                                            Накидка   \n",
       "17855   18406142  открытка. Привет из Рыбинска. Набережная, Прис...   \n",
       "11906   29750130  Книга. Толстой Л. Н. Сочинения графа Льва Нико...   \n",
       "17661   41185459  Альбом \"Выпускники - 80\" (Славгородская средня...   \n",
       "14414   10946641                                      Остров Аникин   \n",
       "10855   22926453                                      Нивелир Н-3К.   \n",
       "16684   11169677               Газета. \"Красный воин\" № 203 (6075).   \n",
       "11148   49040016                                             Гвоздь   \n",
       "10632   29018996                                 Журнал. Работница.   \n",
       "14065   11861558                                            Радиола   \n",
       "11269   18595186                                          Фотовалик   \n",
       "19878    9871982                                    Ложка десертная   \n",
       "16127   19945386  Souvenirs d'audience, ou Résumé des plaidoirie...   \n",
       "11179   12542881                    Монета, достоинством 3 копейки.   \n",
       "13020   10667843  Книга. Alexis, ou la maisonnette dans les bois...   \n",
       "14394   43799452                     Горбунов И.Ф. Записная книжка.   \n",
       "10122    7767575                                            Галенит   \n",
       "18660   10052280  Книга. Т. 3. Современник, литературный журнал ...   \n",
       "16814   43785787   Образец керамики с ямочно-гребенчатым орнаментом   \n",
       "13132   10397486  Афиша: «Здесь живёт модерн», проектной выставк...   \n",
       "19276   10669752                                             Лопата   \n",
       "\n",
       "                                             description               group  \\\n",
       "14927                                                NaN          Скульптура   \n",
       "19242  Цилиндрической формы, сужающейся к основаниям....                 ДПИ   \n",
       "10635                                                NaN              Прочие   \n",
       "10797  Желто-бежевого цвета, с полукруглой головкой и...                 ДПИ   \n",
       "18770                                                NaN          Археология   \n",
       "15327                                                NaN                 ДПИ   \n",
       "19578                                                NaN           Документы   \n",
       "11387  Красноярский филиал Центрального музея им. В.И...      Фото, негативы   \n",
       "14578  С.-Петербург: издательство Панафидиной. 1913 г...  Печатная продукция   \n",
       "15942  Накидка квадратной формы, состоит из 16 малень...                 ДПИ   \n",
       "17855                                                NaN  Печатная продукция   \n",
       "11906                                                NaN        Редкие книги   \n",
       "17661  Альбом изготовлен типографским способом из лис...              Прочие   \n",
       "14414                                                NaN            Живопись   \n",
       "10855  Нивелир Н-3К, предназначен для определения точ...             Техника   \n",
       "16684  Красноармейская газета Московского военного ок...  Печатная продукция   \n",
       "11148                                     Четырехгранный          Археология   \n",
       "10632  На верхн. сторонке фотография работницы табачн...        Редкие книги   \n",
       "14065                                                NaN             Техника   \n",
       "11269  Деревянный цилиндр в резиновой оболочке чёрног...             Техника   \n",
       "19878                                                NaN                 ДПИ   \n",
       "16127  В составном переплете: сторонки серого картона...        Редкие книги   \n",
       "11179                                                NaN         Нумизматика   \n",
       "13020  В составном пестром картонном переплете с кожа...        Редкие книги   \n",
       "14394                                                NaN           Документы   \n",
       "10122                                  Кристалл галенита         Минералогия   \n",
       "18660                                                NaN        Редкие книги   \n",
       "16814  Коллекция керамики с ямочно-гребенчатым орнаме...          Археология   \n",
       "13132  На афише изображено открытое окно, вдали вид з...  Печатная продукция   \n",
       "19276  деревянная, строганная, со скошенными вверху у...          Археология   \n",
       "\n",
       "           img_name                                         path  \\\n",
       "14927  34504363.jpg  ./mincult-train/train/29835132/34504363.jpg   \n",
       "19242  51300972.jpg  ./mincult-train/train/19939934/51300972.jpg   \n",
       "10635  20640070.jpg  ./mincult-train/train/19935932/20640070.jpg   \n",
       "10797  22970322.jpg  ./mincult-train/train/21615336/22970322.jpg   \n",
       "18770  57801041.jpg  ./mincult-train/train/46770795/57801041.jpg   \n",
       "15327  20641703.jpg  ./mincult-train/train/19936689/20641703.jpg   \n",
       "19578  53891140.jpg  ./mincult-train/train/43799107/53891140.jpg   \n",
       "11387  57818575.jpg  ./mincult-train/train/46784763/57818575.jpg   \n",
       "14578  20627444.jpg  ./mincult-train/train/19928101/20627444.jpg   \n",
       "15942   7929457.jpg   ./mincult-train/train/10718853/7929457.jpg   \n",
       "17855  18541043.jpg  ./mincult-train/train/18406142/18541043.jpg   \n",
       "11906  35116593.jpg  ./mincult-train/train/29750130/35116593.jpg   \n",
       "17661  50246145.jpg  ./mincult-train/train/41185459/50246145.jpg   \n",
       "14414   8245289.jpg   ./mincult-train/train/10946641/8245289.jpg   \n",
       "10855  24800390.jpg  ./mincult-train/train/22926453/24800390.jpg   \n",
       "16684  14178138.jpg  ./mincult-train/train/11169677/14178138.jpg   \n",
       "11148  61028998.jpg  ./mincult-train/train/49040016/61028998.jpg   \n",
       "10632  33382732.jpg  ./mincult-train/train/29018996/33382732.jpg   \n",
       "14065   9460492.jpg   ./mincult-train/train/11861558/9460492.jpg   \n",
       "11269  18816025.jpg  ./mincult-train/train/18595186/18816025.jpg   \n",
       "19878   6667515.jpg    ./mincult-train/train/9871982/6667515.jpg   \n",
       "16127  20653989.jpg  ./mincult-train/train/19945386/20653989.jpg   \n",
       "11179  14178751.jpg  ./mincult-train/train/12542881/14178751.jpg   \n",
       "13020  31838422.jpg  ./mincult-train/train/10667843/31838422.jpg   \n",
       "14394  53892190.jpg  ./mincult-train/train/43799452/53892190.jpg   \n",
       "10122   3769939.jpg    ./mincult-train/train/7767575/3769939.jpg   \n",
       "18660   6947989.jpg   ./mincult-train/train/10052280/6947989.jpg   \n",
       "16814  53869993.jpg  ./mincult-train/train/43785787/53869993.jpg   \n",
       "13132   7491302.jpg   ./mincult-train/train/10397486/7491302.jpg   \n",
       "19276   7861950.jpg   ./mincult-train/train/10669752/7861950.jpg   \n",
       "\n",
       "                                          embedding_path group_pred  \n",
       "14927  ./mincult-train/train/29835132/34504363.jpg.em...             \n",
       "19242  ./mincult-train/train/19939934/51300972.jpg.em...             \n",
       "10635  ./mincult-train/train/19935932/20640070.jpg.em...             \n",
       "10797  ./mincult-train/train/21615336/22970322.jpg.em...             \n",
       "18770  ./mincult-train/train/46770795/57801041.jpg.em...             \n",
       "15327  ./mincult-train/train/19936689/20641703.jpg.em...             \n",
       "19578  ./mincult-train/train/43799107/53891140.jpg.em...             \n",
       "11387  ./mincult-train/train/46784763/57818575.jpg.em...             \n",
       "14578  ./mincult-train/train/19928101/20627444.jpg.em...             \n",
       "15942  ./mincult-train/train/10718853/7929457.jpg.emb...             \n",
       "17855  ./mincult-train/train/18406142/18541043.jpg.em...             \n",
       "11906  ./mincult-train/train/29750130/35116593.jpg.em...             \n",
       "17661  ./mincult-train/train/41185459/50246145.jpg.em...             \n",
       "14414  ./mincult-train/train/10946641/8245289.jpg.emb...             \n",
       "10855  ./mincult-train/train/22926453/24800390.jpg.em...             \n",
       "16684  ./mincult-train/train/11169677/14178138.jpg.em...             \n",
       "11148  ./mincult-train/train/49040016/61028998.jpg.em...             \n",
       "10632  ./mincult-train/train/29018996/33382732.jpg.em...             \n",
       "14065  ./mincult-train/train/11861558/9460492.jpg.emb...             \n",
       "11269  ./mincult-train/train/18595186/18816025.jpg.em...             \n",
       "19878  ./mincult-train/train/9871982/6667515.jpg.embe...             \n",
       "16127  ./mincult-train/train/19945386/20653989.jpg.em...             \n",
       "11179  ./mincult-train/train/12542881/14178751.jpg.em...             \n",
       "13020  ./mincult-train/train/10667843/31838422.jpg.em...             \n",
       "14394  ./mincult-train/train/43799452/53892190.jpg.em...             \n",
       "10122  ./mincult-train/train/7767575/3769939.jpg.embe...             \n",
       "18660  ./mincult-train/train/10052280/6947989.jpg.emb...             \n",
       "16814  ./mincult-train/train/43785787/53869993.jpg.em...             \n",
       "13132  ./mincult-train/train/10397486/7491302.jpg.emb...             \n",
       "19276  ./mincult-train/train/10669752/7861950.jpg.emb...             "
      ]
     },
     "execution_count": 79,
     "metadata": {},
     "output_type": "execute_result"
    }
   ],
   "source": [
    "mistakes"
   ]
  },
  {
   "cell_type": "code",
   "execution_count": 28,
   "metadata": {},
   "outputs": [],
   "source": [
    "import json\n",
    "response = json.load(open('response3.json')) \n",
    "resp_df = pandas.DataFrame.from_dict(response['objects'])\n",
    "resp_df['group'] = resp_df['typologyId'].map(lambda g: categories.get(g, ''))"
   ]
  },
  {
   "cell_type": "code",
   "execution_count": 29,
   "metadata": {},
   "outputs": [
    {
     "data": {
      "text/plain": [
       "group\n",
       "Естественнонауч.коллекция    5094\n",
       "Археология                   2491\n",
       "Графика                      2302\n",
       "Печатная продукция           2201\n",
       "Фото, негативы               1922\n",
       "                             1834\n",
       "Документы                    1432\n",
       "Минералогия                   733\n",
       "Живопись                      474\n",
       "Редкие книги                  441\n",
       "Прочие                        394\n",
       "Нумизматика                   340\n",
       "Техника                       226\n",
       "Скульптура                     86\n",
       "Оружие                         30\n",
       "Name: count, dtype: int64"
      ]
     },
     "execution_count": 29,
     "metadata": {},
     "output_type": "execute_result"
    }
   ],
   "source": [
    "resp_df['group'].value_counts()"
   ]
  },
  {
   "cell_type": "code",
   "execution_count": 32,
   "metadata": {},
   "outputs": [
    {
     "data": {
      "text/plain": [
       "group\n",
       "Естественнонауч.коллекция    3861\n",
       "Археология                   3172\n",
       "Оружие                       3171\n",
       "Графика                      1782\n",
       "                             1689\n",
       "Документы                    1428\n",
       "Прочие                       1264\n",
       "Фото, негативы               1224\n",
       "Печатная продукция            797\n",
       "Живопись                      796\n",
       "Редкие книги                  380\n",
       "Техника                       307\n",
       "Скульптура                     63\n",
       "Минералогия                    57\n",
       "Нумизматика                     9\n",
       "Name: count, dtype: int64"
      ]
     },
     "execution_count": 32,
     "metadata": {},
     "output_type": "execute_result"
    }
   ],
   "source": [
    "response4 = json.load(open('response4.json')) \n",
    "resp_df4 = pandas.DataFrame.from_dict(response4['objects'])\n",
    "resp_df4['group'] = resp_df4['typologyId'].map(lambda g: categories.get(g, ''))\n",
    "resp_df4['group'].value_counts()"
   ]
  },
  {
   "cell_type": "code",
   "execution_count": 35,
   "metadata": {},
   "outputs": [
    {
     "name": "stderr",
     "output_type": "stream",
     "text": [
      "6541it [58:41,  1.86it/s]\n"
     ]
    },
    {
     "ename": "KeyboardInterrupt",
     "evalue": "",
     "output_type": "error",
     "traceback": [
      "\u001b[0;31m---------------------------------------------------------------------------\u001b[0m",
      "\u001b[0;31mKeyboardInterrupt\u001b[0m                         Traceback (most recent call last)",
      "Cell \u001b[0;32mIn[35], line 1\u001b[0m\n\u001b[0;32m----> 1\u001b[0m \u001b[43mdb\u001b[49m\u001b[38;5;241;43m.\u001b[39;49m\u001b[43minsert_parsed\u001b[49m\u001b[43m(\u001b[49m\u001b[43mresp_df4\u001b[49m\u001b[43m[\u001b[49m\u001b[38;5;241;43m400\u001b[39;49m\u001b[43m:\u001b[49m\u001b[43m]\u001b[49m\u001b[43m)\u001b[49m\n",
      "Cell \u001b[0;32mIn[20], line 80\u001b[0m, in \u001b[0;36mDB.insert_parsed\u001b[0;34m(self, df)\u001b[0m\n\u001b[1;32m     78\u001b[0m \u001b[38;5;28;01mfor\u001b[39;00m img \u001b[38;5;129;01min\u001b[39;00m row\u001b[38;5;241m.\u001b[39mimages: \n\u001b[1;32m     79\u001b[0m     \u001b[38;5;28;01mtry\u001b[39;00m:\n\u001b[0;32m---> 80\u001b[0m         resp \u001b[38;5;241m=\u001b[39m \u001b[43mrequests\u001b[49m\u001b[38;5;241;43m.\u001b[39;49m\u001b[43mget\u001b[49m\u001b[43m(\u001b[49m\u001b[38;5;124;43mf\u001b[39;49m\u001b[38;5;124;43m\"\u001b[39;49m\u001b[38;5;124;43mhttps://goskatalog.ru/muzfo-imaginator/rest/images/public/350/\u001b[39;49m\u001b[38;5;132;43;01m{\u001b[39;49;00m\u001b[43mimg\u001b[49m\u001b[43m[\u001b[49m\u001b[38;5;124;43m'\u001b[39;49m\u001b[38;5;124;43mid\u001b[39;49m\u001b[38;5;124;43m'\u001b[39;49m\u001b[43m]\u001b[49m\u001b[38;5;132;43;01m}\u001b[39;49;00m\u001b[38;5;124;43m/\u001b[39;49m\u001b[38;5;132;43;01m{\u001b[39;49;00m\u001b[43mimg\u001b[49m\u001b[43m[\u001b[49m\u001b[38;5;124;43m'\u001b[39;49m\u001b[38;5;124;43mid\u001b[39;49m\u001b[38;5;124;43m'\u001b[39;49m\u001b[43m]\u001b[49m\u001b[38;5;132;43;01m}\u001b[39;49;00m\u001b[38;5;124;43m.jpg\u001b[39;49m\u001b[38;5;124;43m\"\u001b[39;49m\u001b[43m)\u001b[49m\n\u001b[1;32m     81\u001b[0m         image \u001b[38;5;241m=\u001b[39m Image\u001b[38;5;241m.\u001b[39mopen(BytesIO(resp\u001b[38;5;241m.\u001b[39mcontent))\n\u001b[1;32m     82\u001b[0m         \u001b[38;5;66;03m# print(row['name'])\u001b[39;00m\n\u001b[1;32m     83\u001b[0m         \u001b[38;5;66;03m# res.append([row.id, img['id'], row['name'], row.typologyId, img['description'],])\u001b[39;00m\n",
      "File \u001b[0;32m~/image-search/venv/lib/python3.11/site-packages/requests/api.py:73\u001b[0m, in \u001b[0;36mget\u001b[0;34m(url, params, **kwargs)\u001b[0m\n\u001b[1;32m     62\u001b[0m \u001b[38;5;28;01mdef\u001b[39;00m \u001b[38;5;21mget\u001b[39m(url, params\u001b[38;5;241m=\u001b[39m\u001b[38;5;28;01mNone\u001b[39;00m, \u001b[38;5;241m*\u001b[39m\u001b[38;5;241m*\u001b[39mkwargs):\n\u001b[1;32m     63\u001b[0m \u001b[38;5;250m    \u001b[39m\u001b[38;5;124mr\u001b[39m\u001b[38;5;124;03m\"\"\"Sends a GET request.\u001b[39;00m\n\u001b[1;32m     64\u001b[0m \n\u001b[1;32m     65\u001b[0m \u001b[38;5;124;03m    :param url: URL for the new :class:`Request` object.\u001b[39;00m\n\u001b[0;32m   (...)\u001b[0m\n\u001b[1;32m     70\u001b[0m \u001b[38;5;124;03m    :rtype: requests.Response\u001b[39;00m\n\u001b[1;32m     71\u001b[0m \u001b[38;5;124;03m    \"\"\"\u001b[39;00m\n\u001b[0;32m---> 73\u001b[0m     \u001b[38;5;28;01mreturn\u001b[39;00m \u001b[43mrequest\u001b[49m\u001b[43m(\u001b[49m\u001b[38;5;124;43m\"\u001b[39;49m\u001b[38;5;124;43mget\u001b[39;49m\u001b[38;5;124;43m\"\u001b[39;49m\u001b[43m,\u001b[49m\u001b[43m \u001b[49m\u001b[43murl\u001b[49m\u001b[43m,\u001b[49m\u001b[43m \u001b[49m\u001b[43mparams\u001b[49m\u001b[38;5;241;43m=\u001b[39;49m\u001b[43mparams\u001b[49m\u001b[43m,\u001b[49m\u001b[43m \u001b[49m\u001b[38;5;241;43m*\u001b[39;49m\u001b[38;5;241;43m*\u001b[39;49m\u001b[43mkwargs\u001b[49m\u001b[43m)\u001b[49m\n",
      "File \u001b[0;32m~/image-search/venv/lib/python3.11/site-packages/requests/api.py:59\u001b[0m, in \u001b[0;36mrequest\u001b[0;34m(method, url, **kwargs)\u001b[0m\n\u001b[1;32m     55\u001b[0m \u001b[38;5;66;03m# By using the 'with' statement we are sure the session is closed, thus we\u001b[39;00m\n\u001b[1;32m     56\u001b[0m \u001b[38;5;66;03m# avoid leaving sockets open which can trigger a ResourceWarning in some\u001b[39;00m\n\u001b[1;32m     57\u001b[0m \u001b[38;5;66;03m# cases, and look like a memory leak in others.\u001b[39;00m\n\u001b[1;32m     58\u001b[0m \u001b[38;5;28;01mwith\u001b[39;00m sessions\u001b[38;5;241m.\u001b[39mSession() \u001b[38;5;28;01mas\u001b[39;00m session:\n\u001b[0;32m---> 59\u001b[0m     \u001b[38;5;28;01mreturn\u001b[39;00m \u001b[43msession\u001b[49m\u001b[38;5;241;43m.\u001b[39;49m\u001b[43mrequest\u001b[49m\u001b[43m(\u001b[49m\u001b[43mmethod\u001b[49m\u001b[38;5;241;43m=\u001b[39;49m\u001b[43mmethod\u001b[49m\u001b[43m,\u001b[49m\u001b[43m \u001b[49m\u001b[43murl\u001b[49m\u001b[38;5;241;43m=\u001b[39;49m\u001b[43murl\u001b[49m\u001b[43m,\u001b[49m\u001b[43m \u001b[49m\u001b[38;5;241;43m*\u001b[39;49m\u001b[38;5;241;43m*\u001b[39;49m\u001b[43mkwargs\u001b[49m\u001b[43m)\u001b[49m\n",
      "File \u001b[0;32m~/image-search/venv/lib/python3.11/site-packages/requests/sessions.py:589\u001b[0m, in \u001b[0;36mSession.request\u001b[0;34m(self, method, url, params, data, headers, cookies, files, auth, timeout, allow_redirects, proxies, hooks, stream, verify, cert, json)\u001b[0m\n\u001b[1;32m    584\u001b[0m send_kwargs \u001b[38;5;241m=\u001b[39m {\n\u001b[1;32m    585\u001b[0m     \u001b[38;5;124m\"\u001b[39m\u001b[38;5;124mtimeout\u001b[39m\u001b[38;5;124m\"\u001b[39m: timeout,\n\u001b[1;32m    586\u001b[0m     \u001b[38;5;124m\"\u001b[39m\u001b[38;5;124mallow_redirects\u001b[39m\u001b[38;5;124m\"\u001b[39m: allow_redirects,\n\u001b[1;32m    587\u001b[0m }\n\u001b[1;32m    588\u001b[0m send_kwargs\u001b[38;5;241m.\u001b[39mupdate(settings)\n\u001b[0;32m--> 589\u001b[0m resp \u001b[38;5;241m=\u001b[39m \u001b[38;5;28;43mself\u001b[39;49m\u001b[38;5;241;43m.\u001b[39;49m\u001b[43msend\u001b[49m\u001b[43m(\u001b[49m\u001b[43mprep\u001b[49m\u001b[43m,\u001b[49m\u001b[43m \u001b[49m\u001b[38;5;241;43m*\u001b[39;49m\u001b[38;5;241;43m*\u001b[39;49m\u001b[43msend_kwargs\u001b[49m\u001b[43m)\u001b[49m\n\u001b[1;32m    591\u001b[0m \u001b[38;5;28;01mreturn\u001b[39;00m resp\n",
      "File \u001b[0;32m~/image-search/venv/lib/python3.11/site-packages/requests/sessions.py:703\u001b[0m, in \u001b[0;36mSession.send\u001b[0;34m(self, request, **kwargs)\u001b[0m\n\u001b[1;32m    700\u001b[0m start \u001b[38;5;241m=\u001b[39m preferred_clock()\n\u001b[1;32m    702\u001b[0m \u001b[38;5;66;03m# Send the request\u001b[39;00m\n\u001b[0;32m--> 703\u001b[0m r \u001b[38;5;241m=\u001b[39m \u001b[43madapter\u001b[49m\u001b[38;5;241;43m.\u001b[39;49m\u001b[43msend\u001b[49m\u001b[43m(\u001b[49m\u001b[43mrequest\u001b[49m\u001b[43m,\u001b[49m\u001b[43m \u001b[49m\u001b[38;5;241;43m*\u001b[39;49m\u001b[38;5;241;43m*\u001b[39;49m\u001b[43mkwargs\u001b[49m\u001b[43m)\u001b[49m\n\u001b[1;32m    705\u001b[0m \u001b[38;5;66;03m# Total elapsed time of the request (approximately)\u001b[39;00m\n\u001b[1;32m    706\u001b[0m elapsed \u001b[38;5;241m=\u001b[39m preferred_clock() \u001b[38;5;241m-\u001b[39m start\n",
      "File \u001b[0;32m~/image-search/venv/lib/python3.11/site-packages/requests/adapters.py:486\u001b[0m, in \u001b[0;36mHTTPAdapter.send\u001b[0;34m(self, request, stream, timeout, verify, cert, proxies)\u001b[0m\n\u001b[1;32m    483\u001b[0m     timeout \u001b[38;5;241m=\u001b[39m TimeoutSauce(connect\u001b[38;5;241m=\u001b[39mtimeout, read\u001b[38;5;241m=\u001b[39mtimeout)\n\u001b[1;32m    485\u001b[0m \u001b[38;5;28;01mtry\u001b[39;00m:\n\u001b[0;32m--> 486\u001b[0m     resp \u001b[38;5;241m=\u001b[39m \u001b[43mconn\u001b[49m\u001b[38;5;241;43m.\u001b[39;49m\u001b[43murlopen\u001b[49m\u001b[43m(\u001b[49m\n\u001b[1;32m    487\u001b[0m \u001b[43m        \u001b[49m\u001b[43mmethod\u001b[49m\u001b[38;5;241;43m=\u001b[39;49m\u001b[43mrequest\u001b[49m\u001b[38;5;241;43m.\u001b[39;49m\u001b[43mmethod\u001b[49m\u001b[43m,\u001b[49m\n\u001b[1;32m    488\u001b[0m \u001b[43m        \u001b[49m\u001b[43murl\u001b[49m\u001b[38;5;241;43m=\u001b[39;49m\u001b[43murl\u001b[49m\u001b[43m,\u001b[49m\n\u001b[1;32m    489\u001b[0m \u001b[43m        \u001b[49m\u001b[43mbody\u001b[49m\u001b[38;5;241;43m=\u001b[39;49m\u001b[43mrequest\u001b[49m\u001b[38;5;241;43m.\u001b[39;49m\u001b[43mbody\u001b[49m\u001b[43m,\u001b[49m\n\u001b[1;32m    490\u001b[0m \u001b[43m        \u001b[49m\u001b[43mheaders\u001b[49m\u001b[38;5;241;43m=\u001b[39;49m\u001b[43mrequest\u001b[49m\u001b[38;5;241;43m.\u001b[39;49m\u001b[43mheaders\u001b[49m\u001b[43m,\u001b[49m\n\u001b[1;32m    491\u001b[0m \u001b[43m        \u001b[49m\u001b[43mredirect\u001b[49m\u001b[38;5;241;43m=\u001b[39;49m\u001b[38;5;28;43;01mFalse\u001b[39;49;00m\u001b[43m,\u001b[49m\n\u001b[1;32m    492\u001b[0m \u001b[43m        \u001b[49m\u001b[43massert_same_host\u001b[49m\u001b[38;5;241;43m=\u001b[39;49m\u001b[38;5;28;43;01mFalse\u001b[39;49;00m\u001b[43m,\u001b[49m\n\u001b[1;32m    493\u001b[0m \u001b[43m        \u001b[49m\u001b[43mpreload_content\u001b[49m\u001b[38;5;241;43m=\u001b[39;49m\u001b[38;5;28;43;01mFalse\u001b[39;49;00m\u001b[43m,\u001b[49m\n\u001b[1;32m    494\u001b[0m \u001b[43m        \u001b[49m\u001b[43mdecode_content\u001b[49m\u001b[38;5;241;43m=\u001b[39;49m\u001b[38;5;28;43;01mFalse\u001b[39;49;00m\u001b[43m,\u001b[49m\n\u001b[1;32m    495\u001b[0m \u001b[43m        \u001b[49m\u001b[43mretries\u001b[49m\u001b[38;5;241;43m=\u001b[39;49m\u001b[38;5;28;43mself\u001b[39;49m\u001b[38;5;241;43m.\u001b[39;49m\u001b[43mmax_retries\u001b[49m\u001b[43m,\u001b[49m\n\u001b[1;32m    496\u001b[0m \u001b[43m        \u001b[49m\u001b[43mtimeout\u001b[49m\u001b[38;5;241;43m=\u001b[39;49m\u001b[43mtimeout\u001b[49m\u001b[43m,\u001b[49m\n\u001b[1;32m    497\u001b[0m \u001b[43m        \u001b[49m\u001b[43mchunked\u001b[49m\u001b[38;5;241;43m=\u001b[39;49m\u001b[43mchunked\u001b[49m\u001b[43m,\u001b[49m\n\u001b[1;32m    498\u001b[0m \u001b[43m    \u001b[49m\u001b[43m)\u001b[49m\n\u001b[1;32m    500\u001b[0m \u001b[38;5;28;01mexcept\u001b[39;00m (ProtocolError, \u001b[38;5;167;01mOSError\u001b[39;00m) \u001b[38;5;28;01mas\u001b[39;00m err:\n\u001b[1;32m    501\u001b[0m     \u001b[38;5;28;01mraise\u001b[39;00m \u001b[38;5;167;01mConnectionError\u001b[39;00m(err, request\u001b[38;5;241m=\u001b[39mrequest)\n",
      "File \u001b[0;32m~/image-search/venv/lib/python3.11/site-packages/urllib3/connectionpool.py:793\u001b[0m, in \u001b[0;36mHTTPConnectionPool.urlopen\u001b[0;34m(self, method, url, body, headers, retries, redirect, assert_same_host, timeout, pool_timeout, release_conn, chunked, body_pos, preload_content, decode_content, **response_kw)\u001b[0m\n\u001b[1;32m    790\u001b[0m response_conn \u001b[38;5;241m=\u001b[39m conn \u001b[38;5;28;01mif\u001b[39;00m \u001b[38;5;129;01mnot\u001b[39;00m release_conn \u001b[38;5;28;01melse\u001b[39;00m \u001b[38;5;28;01mNone\u001b[39;00m\n\u001b[1;32m    792\u001b[0m \u001b[38;5;66;03m# Make the request on the HTTPConnection object\u001b[39;00m\n\u001b[0;32m--> 793\u001b[0m response \u001b[38;5;241m=\u001b[39m \u001b[38;5;28;43mself\u001b[39;49m\u001b[38;5;241;43m.\u001b[39;49m\u001b[43m_make_request\u001b[49m\u001b[43m(\u001b[49m\n\u001b[1;32m    794\u001b[0m \u001b[43m    \u001b[49m\u001b[43mconn\u001b[49m\u001b[43m,\u001b[49m\n\u001b[1;32m    795\u001b[0m \u001b[43m    \u001b[49m\u001b[43mmethod\u001b[49m\u001b[43m,\u001b[49m\n\u001b[1;32m    796\u001b[0m \u001b[43m    \u001b[49m\u001b[43murl\u001b[49m\u001b[43m,\u001b[49m\n\u001b[1;32m    797\u001b[0m \u001b[43m    \u001b[49m\u001b[43mtimeout\u001b[49m\u001b[38;5;241;43m=\u001b[39;49m\u001b[43mtimeout_obj\u001b[49m\u001b[43m,\u001b[49m\n\u001b[1;32m    798\u001b[0m \u001b[43m    \u001b[49m\u001b[43mbody\u001b[49m\u001b[38;5;241;43m=\u001b[39;49m\u001b[43mbody\u001b[49m\u001b[43m,\u001b[49m\n\u001b[1;32m    799\u001b[0m \u001b[43m    \u001b[49m\u001b[43mheaders\u001b[49m\u001b[38;5;241;43m=\u001b[39;49m\u001b[43mheaders\u001b[49m\u001b[43m,\u001b[49m\n\u001b[1;32m    800\u001b[0m \u001b[43m    \u001b[49m\u001b[43mchunked\u001b[49m\u001b[38;5;241;43m=\u001b[39;49m\u001b[43mchunked\u001b[49m\u001b[43m,\u001b[49m\n\u001b[1;32m    801\u001b[0m \u001b[43m    \u001b[49m\u001b[43mretries\u001b[49m\u001b[38;5;241;43m=\u001b[39;49m\u001b[43mretries\u001b[49m\u001b[43m,\u001b[49m\n\u001b[1;32m    802\u001b[0m \u001b[43m    \u001b[49m\u001b[43mresponse_conn\u001b[49m\u001b[38;5;241;43m=\u001b[39;49m\u001b[43mresponse_conn\u001b[49m\u001b[43m,\u001b[49m\n\u001b[1;32m    803\u001b[0m \u001b[43m    \u001b[49m\u001b[43mpreload_content\u001b[49m\u001b[38;5;241;43m=\u001b[39;49m\u001b[43mpreload_content\u001b[49m\u001b[43m,\u001b[49m\n\u001b[1;32m    804\u001b[0m \u001b[43m    \u001b[49m\u001b[43mdecode_content\u001b[49m\u001b[38;5;241;43m=\u001b[39;49m\u001b[43mdecode_content\u001b[49m\u001b[43m,\u001b[49m\n\u001b[1;32m    805\u001b[0m \u001b[43m    \u001b[49m\u001b[38;5;241;43m*\u001b[39;49m\u001b[38;5;241;43m*\u001b[39;49m\u001b[43mresponse_kw\u001b[49m\u001b[43m,\u001b[49m\n\u001b[1;32m    806\u001b[0m \u001b[43m\u001b[49m\u001b[43m)\u001b[49m\n\u001b[1;32m    808\u001b[0m \u001b[38;5;66;03m# Everything went great!\u001b[39;00m\n\u001b[1;32m    809\u001b[0m clean_exit \u001b[38;5;241m=\u001b[39m \u001b[38;5;28;01mTrue\u001b[39;00m\n",
      "File \u001b[0;32m~/image-search/venv/lib/python3.11/site-packages/urllib3/connectionpool.py:537\u001b[0m, in \u001b[0;36mHTTPConnectionPool._make_request\u001b[0;34m(self, conn, method, url, body, headers, retries, timeout, chunked, response_conn, preload_content, decode_content, enforce_content_length)\u001b[0m\n\u001b[1;32m    535\u001b[0m \u001b[38;5;66;03m# Receive the response from the server\u001b[39;00m\n\u001b[1;32m    536\u001b[0m \u001b[38;5;28;01mtry\u001b[39;00m:\n\u001b[0;32m--> 537\u001b[0m     response \u001b[38;5;241m=\u001b[39m \u001b[43mconn\u001b[49m\u001b[38;5;241;43m.\u001b[39;49m\u001b[43mgetresponse\u001b[49m\u001b[43m(\u001b[49m\u001b[43m)\u001b[49m\n\u001b[1;32m    538\u001b[0m \u001b[38;5;28;01mexcept\u001b[39;00m (BaseSSLError, \u001b[38;5;167;01mOSError\u001b[39;00m) \u001b[38;5;28;01mas\u001b[39;00m e:\n\u001b[1;32m    539\u001b[0m     \u001b[38;5;28mself\u001b[39m\u001b[38;5;241m.\u001b[39m_raise_timeout(err\u001b[38;5;241m=\u001b[39me, url\u001b[38;5;241m=\u001b[39murl, timeout_value\u001b[38;5;241m=\u001b[39mread_timeout)\n",
      "File \u001b[0;32m~/image-search/venv/lib/python3.11/site-packages/urllib3/connection.py:466\u001b[0m, in \u001b[0;36mHTTPConnection.getresponse\u001b[0;34m(self)\u001b[0m\n\u001b[1;32m    463\u001b[0m \u001b[38;5;28;01mfrom\u001b[39;00m \u001b[38;5;21;01m.\u001b[39;00m\u001b[38;5;21;01mresponse\u001b[39;00m \u001b[38;5;28;01mimport\u001b[39;00m HTTPResponse\n\u001b[1;32m    465\u001b[0m \u001b[38;5;66;03m# Get the response from http.client.HTTPConnection\u001b[39;00m\n\u001b[0;32m--> 466\u001b[0m httplib_response \u001b[38;5;241m=\u001b[39m \u001b[38;5;28;43msuper\u001b[39;49m\u001b[43m(\u001b[49m\u001b[43m)\u001b[49m\u001b[38;5;241;43m.\u001b[39;49m\u001b[43mgetresponse\u001b[49m\u001b[43m(\u001b[49m\u001b[43m)\u001b[49m\n\u001b[1;32m    468\u001b[0m \u001b[38;5;28;01mtry\u001b[39;00m:\n\u001b[1;32m    469\u001b[0m     assert_header_parsing(httplib_response\u001b[38;5;241m.\u001b[39mmsg)\n",
      "File \u001b[0;32m/opt/homebrew/Cellar/python@3.11/3.11.6/Frameworks/Python.framework/Versions/3.11/lib/python3.11/http/client.py:1378\u001b[0m, in \u001b[0;36mHTTPConnection.getresponse\u001b[0;34m(self)\u001b[0m\n\u001b[1;32m   1376\u001b[0m \u001b[38;5;28;01mtry\u001b[39;00m:\n\u001b[1;32m   1377\u001b[0m     \u001b[38;5;28;01mtry\u001b[39;00m:\n\u001b[0;32m-> 1378\u001b[0m         \u001b[43mresponse\u001b[49m\u001b[38;5;241;43m.\u001b[39;49m\u001b[43mbegin\u001b[49m\u001b[43m(\u001b[49m\u001b[43m)\u001b[49m\n\u001b[1;32m   1379\u001b[0m     \u001b[38;5;28;01mexcept\u001b[39;00m \u001b[38;5;167;01mConnectionError\u001b[39;00m:\n\u001b[1;32m   1380\u001b[0m         \u001b[38;5;28mself\u001b[39m\u001b[38;5;241m.\u001b[39mclose()\n",
      "File \u001b[0;32m/opt/homebrew/Cellar/python@3.11/3.11.6/Frameworks/Python.framework/Versions/3.11/lib/python3.11/http/client.py:318\u001b[0m, in \u001b[0;36mHTTPResponse.begin\u001b[0;34m(self)\u001b[0m\n\u001b[1;32m    316\u001b[0m \u001b[38;5;66;03m# read until we get a non-100 response\u001b[39;00m\n\u001b[1;32m    317\u001b[0m \u001b[38;5;28;01mwhile\u001b[39;00m \u001b[38;5;28;01mTrue\u001b[39;00m:\n\u001b[0;32m--> 318\u001b[0m     version, status, reason \u001b[38;5;241m=\u001b[39m \u001b[38;5;28;43mself\u001b[39;49m\u001b[38;5;241;43m.\u001b[39;49m\u001b[43m_read_status\u001b[49m\u001b[43m(\u001b[49m\u001b[43m)\u001b[49m\n\u001b[1;32m    319\u001b[0m     \u001b[38;5;28;01mif\u001b[39;00m status \u001b[38;5;241m!=\u001b[39m CONTINUE:\n\u001b[1;32m    320\u001b[0m         \u001b[38;5;28;01mbreak\u001b[39;00m\n",
      "File \u001b[0;32m/opt/homebrew/Cellar/python@3.11/3.11.6/Frameworks/Python.framework/Versions/3.11/lib/python3.11/http/client.py:279\u001b[0m, in \u001b[0;36mHTTPResponse._read_status\u001b[0;34m(self)\u001b[0m\n\u001b[1;32m    278\u001b[0m \u001b[38;5;28;01mdef\u001b[39;00m \u001b[38;5;21m_read_status\u001b[39m(\u001b[38;5;28mself\u001b[39m):\n\u001b[0;32m--> 279\u001b[0m     line \u001b[38;5;241m=\u001b[39m \u001b[38;5;28mstr\u001b[39m(\u001b[38;5;28mself\u001b[39m\u001b[38;5;241m.\u001b[39mfp\u001b[38;5;241m.\u001b[39mreadline(_MAXLINE \u001b[38;5;241m+\u001b[39m \u001b[38;5;241m1\u001b[39m), \u001b[38;5;124m\"\u001b[39m\u001b[38;5;124miso-8859-1\u001b[39m\u001b[38;5;124m\"\u001b[39m)\n\u001b[1;32m    280\u001b[0m     \u001b[38;5;28;01mif\u001b[39;00m \u001b[38;5;28mlen\u001b[39m(line) \u001b[38;5;241m>\u001b[39m _MAXLINE:\n\u001b[1;32m    281\u001b[0m         \u001b[38;5;28;01mraise\u001b[39;00m LineTooLong(\u001b[38;5;124m\"\u001b[39m\u001b[38;5;124mstatus line\u001b[39m\u001b[38;5;124m\"\u001b[39m)\n",
      "File \u001b[0;32m/opt/homebrew/Cellar/python@3.11/3.11.6/Frameworks/Python.framework/Versions/3.11/lib/python3.11/socket.py:706\u001b[0m, in \u001b[0;36mSocketIO.readinto\u001b[0;34m(self, b)\u001b[0m\n\u001b[1;32m    704\u001b[0m \u001b[38;5;28;01mwhile\u001b[39;00m \u001b[38;5;28;01mTrue\u001b[39;00m:\n\u001b[1;32m    705\u001b[0m     \u001b[38;5;28;01mtry\u001b[39;00m:\n\u001b[0;32m--> 706\u001b[0m         \u001b[38;5;28;01mreturn\u001b[39;00m \u001b[38;5;28;43mself\u001b[39;49m\u001b[38;5;241;43m.\u001b[39;49m\u001b[43m_sock\u001b[49m\u001b[38;5;241;43m.\u001b[39;49m\u001b[43mrecv_into\u001b[49m\u001b[43m(\u001b[49m\u001b[43mb\u001b[49m\u001b[43m)\u001b[49m\n\u001b[1;32m    707\u001b[0m     \u001b[38;5;28;01mexcept\u001b[39;00m timeout:\n\u001b[1;32m    708\u001b[0m         \u001b[38;5;28mself\u001b[39m\u001b[38;5;241m.\u001b[39m_timeout_occurred \u001b[38;5;241m=\u001b[39m \u001b[38;5;28;01mTrue\u001b[39;00m\n",
      "File \u001b[0;32m/opt/homebrew/Cellar/python@3.11/3.11.6/Frameworks/Python.framework/Versions/3.11/lib/python3.11/ssl.py:1311\u001b[0m, in \u001b[0;36mSSLSocket.recv_into\u001b[0;34m(self, buffer, nbytes, flags)\u001b[0m\n\u001b[1;32m   1307\u001b[0m     \u001b[38;5;28;01mif\u001b[39;00m flags \u001b[38;5;241m!=\u001b[39m \u001b[38;5;241m0\u001b[39m:\n\u001b[1;32m   1308\u001b[0m         \u001b[38;5;28;01mraise\u001b[39;00m \u001b[38;5;167;01mValueError\u001b[39;00m(\n\u001b[1;32m   1309\u001b[0m           \u001b[38;5;124m\"\u001b[39m\u001b[38;5;124mnon-zero flags not allowed in calls to recv_into() on \u001b[39m\u001b[38;5;132;01m%s\u001b[39;00m\u001b[38;5;124m\"\u001b[39m \u001b[38;5;241m%\u001b[39m\n\u001b[1;32m   1310\u001b[0m           \u001b[38;5;28mself\u001b[39m\u001b[38;5;241m.\u001b[39m\u001b[38;5;18m__class__\u001b[39m)\n\u001b[0;32m-> 1311\u001b[0m     \u001b[38;5;28;01mreturn\u001b[39;00m \u001b[38;5;28;43mself\u001b[39;49m\u001b[38;5;241;43m.\u001b[39;49m\u001b[43mread\u001b[49m\u001b[43m(\u001b[49m\u001b[43mnbytes\u001b[49m\u001b[43m,\u001b[49m\u001b[43m \u001b[49m\u001b[43mbuffer\u001b[49m\u001b[43m)\u001b[49m\n\u001b[1;32m   1312\u001b[0m \u001b[38;5;28;01melse\u001b[39;00m:\n\u001b[1;32m   1313\u001b[0m     \u001b[38;5;28;01mreturn\u001b[39;00m \u001b[38;5;28msuper\u001b[39m()\u001b[38;5;241m.\u001b[39mrecv_into(buffer, nbytes, flags)\n",
      "File \u001b[0;32m/opt/homebrew/Cellar/python@3.11/3.11.6/Frameworks/Python.framework/Versions/3.11/lib/python3.11/ssl.py:1167\u001b[0m, in \u001b[0;36mSSLSocket.read\u001b[0;34m(self, len, buffer)\u001b[0m\n\u001b[1;32m   1165\u001b[0m \u001b[38;5;28;01mtry\u001b[39;00m:\n\u001b[1;32m   1166\u001b[0m     \u001b[38;5;28;01mif\u001b[39;00m buffer \u001b[38;5;129;01mis\u001b[39;00m \u001b[38;5;129;01mnot\u001b[39;00m \u001b[38;5;28;01mNone\u001b[39;00m:\n\u001b[0;32m-> 1167\u001b[0m         \u001b[38;5;28;01mreturn\u001b[39;00m \u001b[38;5;28;43mself\u001b[39;49m\u001b[38;5;241;43m.\u001b[39;49m\u001b[43m_sslobj\u001b[49m\u001b[38;5;241;43m.\u001b[39;49m\u001b[43mread\u001b[49m\u001b[43m(\u001b[49m\u001b[38;5;28;43mlen\u001b[39;49m\u001b[43m,\u001b[49m\u001b[43m \u001b[49m\u001b[43mbuffer\u001b[49m\u001b[43m)\u001b[49m\n\u001b[1;32m   1168\u001b[0m     \u001b[38;5;28;01melse\u001b[39;00m:\n\u001b[1;32m   1169\u001b[0m         \u001b[38;5;28;01mreturn\u001b[39;00m \u001b[38;5;28mself\u001b[39m\u001b[38;5;241m.\u001b[39m_sslobj\u001b[38;5;241m.\u001b[39mread(\u001b[38;5;28mlen\u001b[39m)\n",
      "\u001b[0;31mKeyboardInterrupt\u001b[0m: "
     ]
    }
   ],
   "source": [
    "db.insert_parsed(resp_df4[400:])"
   ]
  },
  {
   "cell_type": "code",
   "execution_count": 37,
   "metadata": {},
   "outputs": [
    {
     "data": {
      "text/html": [
       "<div>\n",
       "<style scoped>\n",
       "    .dataframe tbody tr th:only-of-type {\n",
       "        vertical-align: middle;\n",
       "    }\n",
       "\n",
       "    .dataframe tbody tr th {\n",
       "        vertical-align: top;\n",
       "    }\n",
       "\n",
       "    .dataframe thead th {\n",
       "        text-align: right;\n",
       "    }\n",
       "</style>\n",
       "<table border=\"1\" class=\"dataframe\">\n",
       "  <thead>\n",
       "    <tr style=\"text-align: right;\">\n",
       "      <th></th>\n",
       "      <th>object_id</th>\n",
       "      <th>name</th>\n",
       "      <th>description</th>\n",
       "      <th>group</th>\n",
       "      <th>img_name</th>\n",
       "      <th>path</th>\n",
       "      <th>embedding_path</th>\n",
       "    </tr>\n",
       "  </thead>\n",
       "  <tbody>\n",
       "    <tr>\n",
       "      <th>0</th>\n",
       "      <td>10669820</td>\n",
       "      <td>Водолей - коник (фрагмент - голова)</td>\n",
       "      <td>сероглиняный, лепной, со сплошным белым ангобо...</td>\n",
       "      <td>Археология</td>\n",
       "      <td>7862029.jpg</td>\n",
       "      <td>./mincult-train/train/10669820/7862029.jpg</td>\n",
       "      <td>./mincult-train/train/10669820/7862029.jpg.emb...</td>\n",
       "    </tr>\n",
       "    <tr>\n",
       "      <th>1</th>\n",
       "      <td>4489444</td>\n",
       "      <td>Винтовка «Самозарядная винтовка Токарева» (мет...</td>\n",
       "      <td>На стволе имеется надульник, на  торце которог...</td>\n",
       "      <td>Оружие</td>\n",
       "      <td>9461061.jpg</td>\n",
       "      <td>./mincult-train/train/4489444/9461061.jpg</td>\n",
       "      <td>./mincult-train/train/4489444/9461061.jpg.embe...</td>\n",
       "    </tr>\n",
       "    <tr>\n",
       "      <th>2</th>\n",
       "      <td>8722586</td>\n",
       "      <td>Инструмент. Калибр-скоба</td>\n",
       "      <td>Прямоугольная пластина с усечёнными углами и д...</td>\n",
       "      <td>Прочие</td>\n",
       "      <td>5095122.jpg</td>\n",
       "      <td>./mincult-train/train/8722586/5095122.jpg</td>\n",
       "      <td>./mincult-train/train/8722586/5095122.jpg.embe...</td>\n",
       "    </tr>\n",
       "    <tr>\n",
       "      <th>3</th>\n",
       "      <td>3712248</td>\n",
       "      <td>Судомодель. НИС \"Космонавт  Виктор Пацаев\".</td>\n",
       "      <td>Корпус модели, надстройки, шлюпки выполнены и...</td>\n",
       "      <td>Прочие</td>\n",
       "      <td>551422.jpg</td>\n",
       "      <td>./mincult-train/train/3712248/551422.jpg</td>\n",
       "      <td>./mincult-train/train/3712248/551422.jpg.embed...</td>\n",
       "    </tr>\n",
       "    <tr>\n",
       "      <th>4</th>\n",
       "      <td>6339754</td>\n",
       "      <td>Сабля.</td>\n",
       "      <td>NaN</td>\n",
       "      <td>Оружие</td>\n",
       "      <td>2592073.jpg</td>\n",
       "      <td>./mincult-train/train/6339754/2592073.jpg</td>\n",
       "      <td>./mincult-train/train/6339754/2592073.jpg.embe...</td>\n",
       "    </tr>\n",
       "  </tbody>\n",
       "</table>\n",
       "</div>"
      ],
      "text/plain": [
       "   object_id                                               name  \\\n",
       "0   10669820                Водолей - коник (фрагмент - голова)   \n",
       "1    4489444  Винтовка «Самозарядная винтовка Токарева» (мет...   \n",
       "2    8722586                           Инструмент. Калибр-скоба   \n",
       "3    3712248        Судомодель. НИС \"Космонавт  Виктор Пацаев\".   \n",
       "4    6339754                                             Сабля.   \n",
       "\n",
       "                                         description       group     img_name  \\\n",
       "0  сероглиняный, лепной, со сплошным белым ангобо...  Археология  7862029.jpg   \n",
       "1  На стволе имеется надульник, на  торце которог...      Оружие  9461061.jpg   \n",
       "2  Прямоугольная пластина с усечёнными углами и д...      Прочие  5095122.jpg   \n",
       "3   Корпус модели, надстройки, шлюпки выполнены и...      Прочие   551422.jpg   \n",
       "4                                                NaN      Оружие  2592073.jpg   \n",
       "\n",
       "                                         path  \\\n",
       "0  ./mincult-train/train/10669820/7862029.jpg   \n",
       "1   ./mincult-train/train/4489444/9461061.jpg   \n",
       "2   ./mincult-train/train/8722586/5095122.jpg   \n",
       "3    ./mincult-train/train/3712248/551422.jpg   \n",
       "4   ./mincult-train/train/6339754/2592073.jpg   \n",
       "\n",
       "                                      embedding_path  \n",
       "0  ./mincult-train/train/10669820/7862029.jpg.emb...  \n",
       "1  ./mincult-train/train/4489444/9461061.jpg.embe...  \n",
       "2  ./mincult-train/train/8722586/5095122.jpg.embe...  \n",
       "3  ./mincult-train/train/3712248/551422.jpg.embed...  \n",
       "4  ./mincult-train/train/6339754/2592073.jpg.embe...  "
      ]
     },
     "execution_count": 37,
     "metadata": {},
     "output_type": "execute_result"
    }
   ],
   "source": [
    "df.head()"
   ]
  },
  {
   "cell_type": "code",
   "execution_count": 43,
   "metadata": {},
   "outputs": [
    {
     "data": {
      "text/plain": [
       "Index(['id', 'name', 'regNumber', 'type', 'statusId', 'museumId', 'typologyId',\n",
       "       'actionTypeId', 'revisionId', 'regReasonId', 'orderNumber',\n",
       "       'orderExclusionNumber', 'invNumber', 'gikNumber', 'gikCodePart',\n",
       "       'gikNumPart', 'specNumber', 'imported', 'museumCode', 'regDate',\n",
       "       'orderDate', 'createDate', 'extExhibitId', 'extSystemId', 'mainImage',\n",
       "       'taskId', 'messageId', 'dealId', 'dealSubtypeId', 'rentDateFrom',\n",
       "       'rentDateTo', 'readOnly', 'authors', 'technologies', 'images'],\n",
       "      dtype='object')"
      ]
     },
     "execution_count": 43,
     "metadata": {},
     "output_type": "execute_result"
    }
   ],
   "source": [
    "resp_df.columns"
   ]
  },
  {
   "cell_type": "code",
   "execution_count": null,
   "metadata": {},
   "outputs": [],
   "source": []
  },
  {
   "cell_type": "code",
   "execution_count": 58,
   "metadata": {},
   "outputs": [
    {
     "name": "stdout",
     "output_type": "stream",
     "text": [
      "ꓲꓦ зал экспозиции ГИКМ \"Великая Отечественная война\". 27 августа 1981 г. Экспозиционер Федотова Н.К., художник-оформитель Шальнов Ю.Н., член Союза художников СССР.\n",
      "[[43205806, 53092028, 'ꓲꓦ зал экспозиции ГИКМ \"Великая Отечественная война\". 27 августа 1981 г. Экспозиционер Федотова Н.К., художник-оформитель Шальнов Ю.Н., член Союза художников СССР.', 17, None]]\n",
      "ꓲꓦ зал экспозиции ГИКМ \"Великая Отечественная война\". 27 августа 1981 г. экспозиционер Федотова Н.К., художник-оформитель Шальнов Ю.Н., член Союза художников СССР.\n",
      "[[43205883, 53092084, 'ꓲꓦ зал экспозиции ГИКМ \"Великая Отечественная война\". 27 августа 1981 г. экспозиционер Федотова Н.К., художник-оформитель Шальнов Ю.Н., член Союза художников СССР.', 17, None]]\n",
      "შერჩეული პედაგოგიური ესეები (Избранные педагогические сочинения).\n",
      "[[40999930, 49897296, 'შერჩეული პედაგოგიური ესეები (Избранные педагогические сочинения).', 14, None]]\n",
      "აბესაძე ნია. მზე მუდამ ამოდის.- Тбилиси: Издательство \"Мерани\", 1975.- 51, [1]c., портр. Абесадзе Ния Георгиевна. Всегда восходит солнце.- [На грузинском языке], 1975.- 51, [1]c., портр.\n",
      "[[42456540, 52025547, 'აბესაძე ნია. მზე მუდამ ამოდის.- Тбилиси: Издательство \"Мерани\", 1975.- 51, [1]c., портр. Абесадзе Ния Георгиевна. Всегда восходит солнце.- [На грузинском языке], 1975.- 51, [1]c., портр.', 14, None]]\n",
      "[]\n"
     ]
    }
   ],
   "source": [
    "import requests \n",
    "from PIL import Image \n",
    "from io import BytesIO \n",
    "\n",
    "categories = {\n",
    "    1: 'Живопись',\n",
    "    2: 'Графика',\n",
    "    3: 'Скульптура',\n",
    "    4: 'ДПИ',\n",
    "    5: 'Нумизматика',\n",
    "    6: 'Археология',\n",
    "    8: 'Оружие',\n",
    "    10: 'Естественнонауч.коллекция',\n",
    "    11: 'Техника',\n",
    "    12: 'Прочие',\n",
    "    14: 'Редкие книги',\n",
    "    15: 'Документы',\n",
    "    16: 'Печатная продукция',\n",
    "    17: 'Фото, негативы',\n",
    "    18: 'Минералогия'\n",
    "}\n",
    "for _, row in resp_df.iterrows():\n",
    "    res = [] \n",
    "    # print(row)\n",
    "    # imgs = json.loads(row.images) \n",
    "    for img in row.images: \n",
    "        resp = requests.get(f'https://goskatalog.ru/muzfo-imaginator/rest/images/public/350/{img['id']}/{img['id']}.jpg')\n",
    "        img = Image.open(BytesIO(resp.content))\n",
    "        print(row['name'])\n",
    "        res.append([row.id, img['id'], row['name'], row.typologyId, img['description'],])\n",
    "    print(res)\n"
   ]
  },
  {
   "cell_type": "code",
   "execution_count": 42,
   "metadata": {},
   "outputs": [
    {
     "data": {
      "text/plain": [
       "[{'id': 53092028,\n",
       "  'code': '53092028',\n",
       "  'fileName': None,\n",
       "  'description': None,\n",
       "  'mimeType': None,\n",
       "  'imageType': None,\n",
       "  'imageNumber': None,\n",
       "  'imageDate': None,\n",
       "  'crc': None,\n",
       "  'location': 'public',\n",
       "  'status': None,\n",
       "  'lastError': None,\n",
       "  'deleted': False,\n",
       "  'main': True}]"
      ]
     },
     "execution_count": 42,
     "metadata": {},
     "output_type": "execute_result"
    }
   ],
   "source": [
    "resp_df.images[0]"
   ]
  },
  {
   "cell_type": "code",
   "execution_count": 51,
   "metadata": {},
   "outputs": [
    {
     "data": {
      "text/html": [
       "<div>\n",
       "<style scoped>\n",
       "    .dataframe tbody tr th:only-of-type {\n",
       "        vertical-align: middle;\n",
       "    }\n",
       "\n",
       "    .dataframe tbody tr th {\n",
       "        vertical-align: top;\n",
       "    }\n",
       "\n",
       "    .dataframe thead th {\n",
       "        text-align: right;\n",
       "    }\n",
       "</style>\n",
       "<table border=\"1\" class=\"dataframe\">\n",
       "  <thead>\n",
       "    <tr style=\"text-align: right;\">\n",
       "      <th></th>\n",
       "      <th>object_id</th>\n",
       "      <th>name</th>\n",
       "      <th>description</th>\n",
       "      <th>group</th>\n",
       "      <th>img_name</th>\n",
       "      <th>path</th>\n",
       "      <th>embedding_path</th>\n",
       "    </tr>\n",
       "  </thead>\n",
       "  <tbody>\n",
       "    <tr>\n",
       "      <th>0</th>\n",
       "      <td>10669820</td>\n",
       "      <td>Водолей - коник (фрагмент - голова)</td>\n",
       "      <td>сероглиняный, лепной, со сплошным белым ангобо...</td>\n",
       "      <td>Археология</td>\n",
       "      <td>7862029.jpg</td>\n",
       "      <td>../mincult-train/train/10669820/7862029.jpg</td>\n",
       "      <td>../mincult-train/train/10669820/7862029.jpg.em...</td>\n",
       "    </tr>\n",
       "    <tr>\n",
       "      <th>1</th>\n",
       "      <td>4489444</td>\n",
       "      <td>Винтовка «Самозарядная винтовка Токарева» (мет...</td>\n",
       "      <td>На стволе имеется надульник, на  торце которог...</td>\n",
       "      <td>Оружие</td>\n",
       "      <td>9461061.jpg</td>\n",
       "      <td>../mincult-train/train/4489444/9461061.jpg</td>\n",
       "      <td>../mincult-train/train/4489444/9461061.jpg.emb...</td>\n",
       "    </tr>\n",
       "    <tr>\n",
       "      <th>2</th>\n",
       "      <td>8722586</td>\n",
       "      <td>Инструмент. Калибр-скоба</td>\n",
       "      <td>Прямоугольная пластина с усечёнными углами и д...</td>\n",
       "      <td>Прочие</td>\n",
       "      <td>5095122.jpg</td>\n",
       "      <td>../mincult-train/train/8722586/5095122.jpg</td>\n",
       "      <td>../mincult-train/train/8722586/5095122.jpg.emb...</td>\n",
       "    </tr>\n",
       "    <tr>\n",
       "      <th>3</th>\n",
       "      <td>3712248</td>\n",
       "      <td>Судомодель. НИС \"Космонавт  Виктор Пацаев\".</td>\n",
       "      <td>Корпус модели, надстройки, шлюпки выполнены и...</td>\n",
       "      <td>Прочие</td>\n",
       "      <td>551422.jpg</td>\n",
       "      <td>../mincult-train/train/3712248/551422.jpg</td>\n",
       "      <td>../mincult-train/train/3712248/551422.jpg.embe...</td>\n",
       "    </tr>\n",
       "    <tr>\n",
       "      <th>4</th>\n",
       "      <td>6339754</td>\n",
       "      <td>Сабля.</td>\n",
       "      <td>NaN</td>\n",
       "      <td>Оружие</td>\n",
       "      <td>2592073.jpg</td>\n",
       "      <td>../mincult-train/train/6339754/2592073.jpg</td>\n",
       "      <td>../mincult-train/train/6339754/2592073.jpg.emb...</td>\n",
       "    </tr>\n",
       "  </tbody>\n",
       "</table>\n",
       "</div>"
      ],
      "text/plain": [
       "   object_id                                               name  \\\n",
       "0   10669820                Водолей - коник (фрагмент - голова)   \n",
       "1    4489444  Винтовка «Самозарядная винтовка Токарева» (мет...   \n",
       "2    8722586                           Инструмент. Калибр-скоба   \n",
       "3    3712248        Судомодель. НИС \"Космонавт  Виктор Пацаев\".   \n",
       "4    6339754                                             Сабля.   \n",
       "\n",
       "                                         description       group     img_name  \\\n",
       "0  сероглиняный, лепной, со сплошным белым ангобо...  Археология  7862029.jpg   \n",
       "1  На стволе имеется надульник, на  торце которог...      Оружие  9461061.jpg   \n",
       "2  Прямоугольная пластина с усечёнными углами и д...      Прочие  5095122.jpg   \n",
       "3   Корпус модели, надстройки, шлюпки выполнены и...      Прочие   551422.jpg   \n",
       "4                                                NaN      Оружие  2592073.jpg   \n",
       "\n",
       "                                          path  \\\n",
       "0  ../mincult-train/train/10669820/7862029.jpg   \n",
       "1   ../mincult-train/train/4489444/9461061.jpg   \n",
       "2   ../mincult-train/train/8722586/5095122.jpg   \n",
       "3    ../mincult-train/train/3712248/551422.jpg   \n",
       "4   ../mincult-train/train/6339754/2592073.jpg   \n",
       "\n",
       "                                      embedding_path  \n",
       "0  ../mincult-train/train/10669820/7862029.jpg.em...  \n",
       "1  ../mincult-train/train/4489444/9461061.jpg.emb...  \n",
       "2  ../mincult-train/train/8722586/5095122.jpg.emb...  \n",
       "3  ../mincult-train/train/3712248/551422.jpg.embe...  \n",
       "4  ../mincult-train/train/6339754/2592073.jpg.emb...  "
      ]
     },
     "execution_count": 51,
     "metadata": {},
     "output_type": "execute_result"
    }
   ],
   "source": [
    "df.head()"
   ]
  },
  {
   "cell_type": "code",
   "execution_count": 67,
   "metadata": {},
   "outputs": [],
   "source": [
    "def get_pred(base_dataset_path, images_dir, csv_name): \n",
    "    df = pandas.read_csv(os.path.join(base_dataset_path, csv_name), sep=';')[:10]\n",
    "    data = [] \n",
    "    for _, row in df.iterrows():\n",
    "        obj_id, img_name = str(row['object_id']), row['img_name']\n",
    "        path = os.path.join(base_dataset_path, images_dir, obj_id, img_name)\n",
    "        best = db.search_similar(path)\n",
    "        cat = best[0][1]\n",
    "        data.append([obj_id, img_name, cat])\n",
    "    return data"
   ]
  },
  {
   "cell_type": "code",
   "execution_count": 77,
   "metadata": {},
   "outputs": [],
   "source": [
    "import time\n",
    "def submit(data): \n",
    "    with open(f'submission-{time.time()}.csv', 'w') as f: \n",
    "        f.write('object_id;img_name;group\\n') \n",
    "        for id, img, group in data: \n",
    "            f.write(f'{id};{img};{group}\\n')\n"
   ]
  },
  {
   "cell_type": "code",
   "execution_count": 79,
   "metadata": {},
   "outputs": [],
   "source": [
    "pred = get_pred('../mincult-train/', 'train', 'train.csv') \n",
    "submit(pred)"
   ]
  }
 ],
 "metadata": {
  "kernelspec": {
   "display_name": "venv",
   "language": "python",
   "name": "python3"
  },
  "language_info": {
   "codemirror_mode": {
    "name": "ipython",
    "version": 3
   },
   "file_extension": ".py",
   "mimetype": "text/x-python",
   "name": "python",
   "nbconvert_exporter": "python",
   "pygments_lexer": "ipython3",
   "version": "3.11.6"
  }
 },
 "nbformat": 4,
 "nbformat_minor": 2
}
