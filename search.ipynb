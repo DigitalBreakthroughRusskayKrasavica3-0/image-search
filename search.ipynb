{
 "cells": [
  {
   "cell_type": "code",
   "execution_count": 1,
   "metadata": {},
   "outputs": [
    {
     "name": "stdout",
     "output_type": "stream",
     "text": [
      "Collecting clip@ git+https://github.com/openai/CLIP.git@a1d071733d7111c9c014f024669f959182114e33 (from -r requirements.txt (line 3))\n",
      "  Using cached clip-1.0-py3-none-any.whl\n",
      "Requirement already satisfied: appnope==0.1.4 in ./venv/lib/python3.11/site-packages (from -r requirements.txt (line 1)) (0.1.4)\n",
      "Requirement already satisfied: asttokens==2.4.1 in ./venv/lib/python3.11/site-packages (from -r requirements.txt (line 2)) (2.4.1)\n",
      "Requirement already satisfied: comm==0.2.2 in ./venv/lib/python3.11/site-packages (from -r requirements.txt (line 4)) (0.2.2)\n",
      "Requirement already satisfied: debugpy==1.8.1 in ./venv/lib/python3.11/site-packages (from -r requirements.txt (line 5)) (1.8.1)\n",
      "Requirement already satisfied: decorator==5.1.1 in ./venv/lib/python3.11/site-packages (from -r requirements.txt (line 6)) (5.1.1)\n",
      "Requirement already satisfied: executing==2.0.1 in ./venv/lib/python3.11/site-packages (from -r requirements.txt (line 7)) (2.0.1)\n",
      "Requirement already satisfied: filelock==3.13.4 in ./venv/lib/python3.11/site-packages (from -r requirements.txt (line 8)) (3.13.4)\n",
      "Requirement already satisfied: fsspec==2024.3.1 in ./venv/lib/python3.11/site-packages (from -r requirements.txt (line 9)) (2024.3.1)\n",
      "Requirement already satisfied: ftfy==6.2.0 in ./venv/lib/python3.11/site-packages (from -r requirements.txt (line 10)) (6.2.0)\n",
      "Requirement already satisfied: ipykernel==6.29.4 in ./venv/lib/python3.11/site-packages (from -r requirements.txt (line 11)) (6.29.4)\n",
      "Requirement already satisfied: ipython==8.23.0 in ./venv/lib/python3.11/site-packages (from -r requirements.txt (line 12)) (8.23.0)\n",
      "Requirement already satisfied: jedi==0.19.1 in ./venv/lib/python3.11/site-packages (from -r requirements.txt (line 13)) (0.19.1)\n",
      "Requirement already satisfied: Jinja2==3.1.3 in ./venv/lib/python3.11/site-packages (from -r requirements.txt (line 14)) (3.1.3)\n",
      "Requirement already satisfied: jupyter_client==8.6.1 in ./venv/lib/python3.11/site-packages (from -r requirements.txt (line 15)) (8.6.1)\n",
      "Requirement already satisfied: jupyter_core==5.7.2 in ./venv/lib/python3.11/site-packages (from -r requirements.txt (line 16)) (5.7.2)\n",
      "Requirement already satisfied: MarkupSafe==2.1.5 in ./venv/lib/python3.11/site-packages (from -r requirements.txt (line 17)) (2.1.5)\n",
      "Requirement already satisfied: matplotlib-inline==0.1.6 in ./venv/lib/python3.11/site-packages (from -r requirements.txt (line 18)) (0.1.6)\n",
      "Requirement already satisfied: mpmath==1.3.0 in ./venv/lib/python3.11/site-packages (from -r requirements.txt (line 19)) (1.3.0)\n",
      "Requirement already satisfied: nest-asyncio==1.6.0 in ./venv/lib/python3.11/site-packages (from -r requirements.txt (line 20)) (1.6.0)\n",
      "Requirement already satisfied: networkx==3.3 in ./venv/lib/python3.11/site-packages (from -r requirements.txt (line 21)) (3.3)\n",
      "Requirement already satisfied: numpy==1.26.4 in ./venv/lib/python3.11/site-packages (from -r requirements.txt (line 22)) (1.26.4)\n",
      "Requirement already satisfied: packaging==24.0 in ./venv/lib/python3.11/site-packages (from -r requirements.txt (line 23)) (24.0)\n",
      "Requirement already satisfied: pandas==2.2.2 in ./venv/lib/python3.11/site-packages (from -r requirements.txt (line 24)) (2.2.2)\n",
      "Requirement already satisfied: parso==0.8.4 in ./venv/lib/python3.11/site-packages (from -r requirements.txt (line 25)) (0.8.4)\n",
      "Requirement already satisfied: pexpect==4.9.0 in ./venv/lib/python3.11/site-packages (from -r requirements.txt (line 26)) (4.9.0)\n",
      "Requirement already satisfied: pillow==10.3.0 in ./venv/lib/python3.11/site-packages (from -r requirements.txt (line 27)) (10.3.0)\n",
      "Requirement already satisfied: platformdirs==4.2.0 in ./venv/lib/python3.11/site-packages (from -r requirements.txt (line 28)) (4.2.0)\n",
      "Requirement already satisfied: prompt-toolkit==3.0.43 in ./venv/lib/python3.11/site-packages (from -r requirements.txt (line 29)) (3.0.43)\n",
      "Requirement already satisfied: psutil==5.9.8 in ./venv/lib/python3.11/site-packages (from -r requirements.txt (line 30)) (5.9.8)\n",
      "Requirement already satisfied: ptyprocess==0.7.0 in ./venv/lib/python3.11/site-packages (from -r requirements.txt (line 31)) (0.7.0)\n",
      "Requirement already satisfied: pure-eval==0.2.2 in ./venv/lib/python3.11/site-packages (from -r requirements.txt (line 32)) (0.2.2)\n",
      "Requirement already satisfied: Pygments==2.17.2 in ./venv/lib/python3.11/site-packages (from -r requirements.txt (line 33)) (2.17.2)\n",
      "Requirement already satisfied: python-dateutil==2.9.0.post0 in ./venv/lib/python3.11/site-packages (from -r requirements.txt (line 34)) (2.9.0.post0)\n",
      "Requirement already satisfied: pytz==2024.1 in ./venv/lib/python3.11/site-packages (from -r requirements.txt (line 35)) (2024.1)\n",
      "Requirement already satisfied: pyzmq==25.1.2 in ./venv/lib/python3.11/site-packages (from -r requirements.txt (line 36)) (25.1.2)\n",
      "Requirement already satisfied: regex==2023.12.25 in ./venv/lib/python3.11/site-packages (from -r requirements.txt (line 37)) (2023.12.25)\n",
      "Requirement already satisfied: scipy==1.13.0 in ./venv/lib/python3.11/site-packages (from -r requirements.txt (line 38)) (1.13.0)\n",
      "Requirement already satisfied: six==1.16.0 in ./venv/lib/python3.11/site-packages (from -r requirements.txt (line 39)) (1.16.0)\n",
      "Requirement already satisfied: stack-data==0.6.3 in ./venv/lib/python3.11/site-packages (from -r requirements.txt (line 40)) (0.6.3)\n",
      "Requirement already satisfied: sympy==1.12 in ./venv/lib/python3.11/site-packages (from -r requirements.txt (line 41)) (1.12)\n",
      "Requirement already satisfied: torch==2.2.2 in ./venv/lib/python3.11/site-packages (from -r requirements.txt (line 42)) (2.2.2)\n",
      "Requirement already satisfied: torchvision==0.17.2 in ./venv/lib/python3.11/site-packages (from -r requirements.txt (line 43)) (0.17.2)\n",
      "Requirement already satisfied: tornado==6.4 in ./venv/lib/python3.11/site-packages (from -r requirements.txt (line 44)) (6.4)\n",
      "Requirement already satisfied: tqdm==4.66.2 in ./venv/lib/python3.11/site-packages (from -r requirements.txt (line 45)) (4.66.2)\n",
      "Requirement already satisfied: traitlets==5.14.2 in ./venv/lib/python3.11/site-packages (from -r requirements.txt (line 46)) (5.14.2)\n",
      "Requirement already satisfied: typing_extensions==4.11.0 in ./venv/lib/python3.11/site-packages (from -r requirements.txt (line 47)) (4.11.0)\n",
      "Requirement already satisfied: tzdata==2024.1 in ./venv/lib/python3.11/site-packages (from -r requirements.txt (line 48)) (2024.1)\n",
      "Requirement already satisfied: wcwidth==0.2.13 in ./venv/lib/python3.11/site-packages (from -r requirements.txt (line 49)) (0.2.13)\n",
      "\n",
      "\u001b[1m[\u001b[0m\u001b[34;49mnotice\u001b[0m\u001b[1;39;49m]\u001b[0m\u001b[39;49m A new release of pip is available: \u001b[0m\u001b[31;49m23.2.1\u001b[0m\u001b[39;49m -> \u001b[0m\u001b[32;49m24.0\u001b[0m\n",
      "\u001b[1m[\u001b[0m\u001b[34;49mnotice\u001b[0m\u001b[1;39;49m]\u001b[0m\u001b[39;49m To update, run: \u001b[0m\u001b[32;49mpip install --upgrade pip\u001b[0m\n",
      "Note: you may need to restart the kernel to use updated packages.\n"
     ]
    }
   ],
   "source": [
    "%pip install -r requirements.txt"
   ]
  },
  {
   "cell_type": "code",
   "execution_count": 4,
   "metadata": {},
   "outputs": [],
   "source": [
    "import pandas \n",
    "from PIL import Image\n",
    "full_df = pandas.read_csv('./mincult-train/train.csv', sep=';')\n",
    "full_df['path'] = './mincult-train/train/'+ full_df['object_id'].astype(str) + '/' + full_df['img_name']\n",
    "full_df['embedding_path'] = full_df['path']+'.embedding'\n",
    "N = 100\n",
    "df = full_df[:N].copy()"
   ]
  },
  {
   "cell_type": "code",
   "execution_count": 5,
   "metadata": {},
   "outputs": [
    {
     "data": {
      "text/html": [
       "<div>\n",
       "<style scoped>\n",
       "    .dataframe tbody tr th:only-of-type {\n",
       "        vertical-align: middle;\n",
       "    }\n",
       "\n",
       "    .dataframe tbody tr th {\n",
       "        vertical-align: top;\n",
       "    }\n",
       "\n",
       "    .dataframe thead th {\n",
       "        text-align: right;\n",
       "    }\n",
       "</style>\n",
       "<table border=\"1\" class=\"dataframe\">\n",
       "  <thead>\n",
       "    <tr style=\"text-align: right;\">\n",
       "      <th></th>\n",
       "      <th>object_id</th>\n",
       "      <th>name</th>\n",
       "      <th>description</th>\n",
       "      <th>group</th>\n",
       "      <th>img_name</th>\n",
       "      <th>path</th>\n",
       "      <th>embedding_path</th>\n",
       "    </tr>\n",
       "  </thead>\n",
       "  <tbody>\n",
       "  </tbody>\n",
       "</table>\n",
       "</div>"
      ],
      "text/plain": [
       "Empty DataFrame\n",
       "Columns: [object_id, name, description, group, img_name, path, embedding_path]\n",
       "Index: []"
      ]
     },
     "execution_count": 5,
     "metadata": {},
     "output_type": "execute_result"
    }
   ],
   "source": [
    "full_df['group'] = full_df['group'].replace('ДПИ',  'Декоративно-прикладное искусство')\n",
    "full_df[full_df['group'] == 'ДПИ'] "
   ]
  },
  {
   "cell_type": "code",
   "execution_count": 7,
   "metadata": {},
   "outputs": [],
   "source": [
    "from PIL import Image\n",
    "import clip\n",
    "import torch\n",
    "# device = \"cuda\" if torch.cuda.is_available() else \"cpu\"\n",
    "# print(f\"using {device}\")\n",
    "# device = torch.device(device)\n",
    "# model, preprocess = clip.load(\"ViT-L/14\")\n",
    "# model.to(device)\n",
    "\n",
    "# from sentence_transformers import SentenceTransformer, util\n",
    "\n",
    "# # We use the original clip-ViT-B-32 for encoding images\n",
    "# img_model = SentenceTransformer('clip-ViT-B-32')"
   ]
  },
  {
   "cell_type": "code",
   "execution_count": 16,
   "metadata": {},
   "outputs": [
    {
     "ename": "AttributeError",
     "evalue": "'int' object has no attribute 'isnan'",
     "output_type": "error",
     "traceback": [
      "\u001b[0;31m---------------------------------------------------------------------------\u001b[0m",
      "\u001b[0;31mAttributeError\u001b[0m                            Traceback (most recent call last)",
      "Cell \u001b[0;32mIn[16], line 2\u001b[0m\n\u001b[1;32m      1\u001b[0m \u001b[38;5;28;01mfor\u001b[39;00m _, row \u001b[38;5;129;01min\u001b[39;00m df\u001b[38;5;241m.\u001b[39miterrows(): \n\u001b[0;32m----> 2\u001b[0m     \u001b[38;5;28;01mif\u001b[39;00m \u001b[43mrow\u001b[49m\u001b[38;5;241;43m.\u001b[39;49m\u001b[43mname\u001b[49m\u001b[38;5;241;43m.\u001b[39;49m\u001b[43misnan\u001b[49m(): \n\u001b[1;32m      3\u001b[0m         \u001b[38;5;28mprint\u001b[39m(row\u001b[38;5;241m.\u001b[39mto_dict())\n\u001b[1;32m      4\u001b[0m     \u001b[38;5;28;01mbreak\u001b[39;00m\n",
      "\u001b[0;31mAttributeError\u001b[0m: 'int' object has no attribute 'isnan'"
     ]
    }
   ],
   "source": [
    "for _, row in df.iterrows(): \n",
    "    if row.name.isnan(): \n",
    "        print(row.to_dict())\n",
    "    break"
   ]
  },
  {
   "cell_type": "code",
   "execution_count": 54,
   "metadata": {},
   "outputs": [],
   "source": [
    "import json\n",
    "GEN_EMBEDDING = True\n",
    "if GEN_EMBEDDING: # if we need to generate embeddings from scratch\n",
    "    for index, row in df.iterrows(): \n",
    "        image = Image.open(row.path)\n",
    "        image = preprocess(image).unsqueeze(0).to(device)\n",
    "        with torch.no_grad():\n",
    "            embedding = model.encode_image(image)[0]\n",
    "        with open(row.embedding_path, 'w') as f:\n",
    "            f.write(json.dumps(embedding.tolist()))\n",
    "# import json\n",
    "# GEN_EMBEDDING = True\n",
    "# if GEN_EMBEDDING: # if we need to generate embeddings from scratch\n",
    "#     for index, row in df.iterrows(): \n",
    "#         embedding = model.encode(Image.open(row.path))\n",
    "#         with open(row.embedding_path, 'w') as f:\n",
    "#             f.write(json.dumps(embedding.tolist()))"
   ]
  },
  {
   "cell_type": "code",
   "execution_count": null,
   "metadata": {},
   "outputs": [],
   "source": []
  },
  {
   "cell_type": "code",
   "execution_count": 55,
   "metadata": {},
   "outputs": [],
   "source": [
    "from scipy.spatial import distance\n",
    "\n",
    "def find_best(image_path): \n",
    "    emb = model.encode([Image.open(image_path)])[0].tolist()\n",
    "    distances = {} \n",
    "    for index, row in df.iterrows(): \n",
    "        with open(row.embedding_path, 'r') as f:\n",
    "            other_emb = json.loads(f.readline())\n",
    "            dist = distance.cosine(emb, other_emb)\n",
    "            distances[index] = dist\n",
    "    dists = sorted(list(distances.items()), key=lambda a: a[1])[:10] \n",
    "    for i, dist in dists: \n",
    "        print(df.loc[[i]].path)"
   ]
  },
  {
   "cell_type": "code",
   "execution_count": 56,
   "metadata": {},
   "outputs": [
    {
     "name": "stderr",
     "output_type": "stream",
     "text": [
      "Unused or unrecognized kwargs: padding.\n"
     ]
    },
    {
     "ename": "ValueError",
     "evalue": "shapes (512,) and (768,) not aligned: 512 (dim 0) != 768 (dim 0)",
     "output_type": "error",
     "traceback": [
      "\u001b[0;31m---------------------------------------------------------------------------\u001b[0m",
      "\u001b[0;31mValueError\u001b[0m                                Traceback (most recent call last)",
      "Cell \u001b[0;32mIn[56], line 1\u001b[0m\n\u001b[0;32m----> 1\u001b[0m \u001b[43mfind_best\u001b[49m\u001b[43m(\u001b[49m\u001b[38;5;124;43m'\u001b[39;49m\u001b[38;5;124;43msword.jpg\u001b[39;49m\u001b[38;5;124;43m'\u001b[39;49m\u001b[43m)\u001b[49m\n",
      "Cell \u001b[0;32mIn[55], line 9\u001b[0m, in \u001b[0;36mfind_best\u001b[0;34m(image_path)\u001b[0m\n\u001b[1;32m      7\u001b[0m     \u001b[38;5;28;01mwith\u001b[39;00m \u001b[38;5;28mopen\u001b[39m(row\u001b[38;5;241m.\u001b[39membedding_path, \u001b[38;5;124m'\u001b[39m\u001b[38;5;124mr\u001b[39m\u001b[38;5;124m'\u001b[39m) \u001b[38;5;28;01mas\u001b[39;00m f:\n\u001b[1;32m      8\u001b[0m         other_emb \u001b[38;5;241m=\u001b[39m json\u001b[38;5;241m.\u001b[39mloads(f\u001b[38;5;241m.\u001b[39mreadline())\n\u001b[0;32m----> 9\u001b[0m         dist \u001b[38;5;241m=\u001b[39m \u001b[43mdistance\u001b[49m\u001b[38;5;241;43m.\u001b[39;49m\u001b[43mcosine\u001b[49m\u001b[43m(\u001b[49m\u001b[43memb\u001b[49m\u001b[43m,\u001b[49m\u001b[43m \u001b[49m\u001b[43mother_emb\u001b[49m\u001b[43m)\u001b[49m\n\u001b[1;32m     10\u001b[0m         distances[index] \u001b[38;5;241m=\u001b[39m dist\n\u001b[1;32m     11\u001b[0m dists \u001b[38;5;241m=\u001b[39m \u001b[38;5;28msorted\u001b[39m(\u001b[38;5;28mlist\u001b[39m(distances\u001b[38;5;241m.\u001b[39mitems()), key\u001b[38;5;241m=\u001b[39m\u001b[38;5;28;01mlambda\u001b[39;00m a: a[\u001b[38;5;241m1\u001b[39m])[:\u001b[38;5;241m10\u001b[39m] \n",
      "File \u001b[0;32m~/image-search/venv/lib/python3.11/site-packages/scipy/spatial/distance.py:694\u001b[0m, in \u001b[0;36mcosine\u001b[0;34m(u, v, w)\u001b[0m\n\u001b[1;32m    653\u001b[0m \u001b[38;5;250m\u001b[39m\u001b[38;5;124;03m\"\"\"\u001b[39;00m\n\u001b[1;32m    654\u001b[0m \u001b[38;5;124;03mCompute the Cosine distance between 1-D arrays.\u001b[39;00m\n\u001b[1;32m    655\u001b[0m \n\u001b[0;32m   (...)\u001b[0m\n\u001b[1;32m    690\u001b[0m \n\u001b[1;32m    691\u001b[0m \u001b[38;5;124;03m\"\"\"\u001b[39;00m\n\u001b[1;32m    692\u001b[0m \u001b[38;5;66;03m# cosine distance is also referred to as 'uncentered correlation',\u001b[39;00m\n\u001b[1;32m    693\u001b[0m \u001b[38;5;66;03m#   or 'reflective correlation'\u001b[39;00m\n\u001b[0;32m--> 694\u001b[0m \u001b[38;5;28;01mreturn\u001b[39;00m \u001b[43mcorrelation\u001b[49m\u001b[43m(\u001b[49m\u001b[43mu\u001b[49m\u001b[43m,\u001b[49m\u001b[43m \u001b[49m\u001b[43mv\u001b[49m\u001b[43m,\u001b[49m\u001b[43m \u001b[49m\u001b[43mw\u001b[49m\u001b[38;5;241;43m=\u001b[39;49m\u001b[43mw\u001b[49m\u001b[43m,\u001b[49m\u001b[43m \u001b[49m\u001b[43mcentered\u001b[49m\u001b[38;5;241;43m=\u001b[39;49m\u001b[38;5;28;43;01mFalse\u001b[39;49;00m\u001b[43m)\u001b[49m\n",
      "File \u001b[0;32m~/image-search/venv/lib/python3.11/site-packages/scipy/spatial/distance.py:644\u001b[0m, in \u001b[0;36mcorrelation\u001b[0;34m(u, v, w, centered)\u001b[0m\n\u001b[1;32m    642\u001b[0m \u001b[38;5;28;01melse\u001b[39;00m:\n\u001b[1;32m    643\u001b[0m     vw, uw \u001b[38;5;241m=\u001b[39m v, u\n\u001b[0;32m--> 644\u001b[0m uv \u001b[38;5;241m=\u001b[39m \u001b[43mnp\u001b[49m\u001b[38;5;241;43m.\u001b[39;49m\u001b[43mdot\u001b[49m\u001b[43m(\u001b[49m\u001b[43mu\u001b[49m\u001b[43m,\u001b[49m\u001b[43m \u001b[49m\u001b[43mvw\u001b[49m\u001b[43m)\u001b[49m\n\u001b[1;32m    645\u001b[0m uu \u001b[38;5;241m=\u001b[39m np\u001b[38;5;241m.\u001b[39mdot(u, uw)\n\u001b[1;32m    646\u001b[0m vv \u001b[38;5;241m=\u001b[39m np\u001b[38;5;241m.\u001b[39mdot(v, vw)\n",
      "\u001b[0;31mValueError\u001b[0m: shapes (512,) and (768,) not aligned: 512 (dim 0) != 768 (dim 0)"
     ]
    }
   ],
   "source": [
    "find_best('sword.jpg')"
   ]
  },
  {
   "cell_type": "code",
   "execution_count": null,
   "metadata": {},
   "outputs": [],
   "source": [
    "# import ruclip.model as ruclip_model \n",
    "# import ruclip.processor as ruclip_processor\n",
    "# import ruclip.predictor as ruclip_predictor\n",
    "# ru_clip_model = ruclip_model.CLIP.from_pretrained('./ruclip').eval()\n",
    "# tokenizer = ruclip_processor.RuCLIPProcessor.from_pretrained('./ruclip')\n",
    "# ru_predictor = ruclip_predictor.Predictor(ru_clip_model, tokenizer, device)"
   ]
  },
  {
   "cell_type": "code",
   "execution_count": null,
   "metadata": {},
   "outputs": [
    {
     "data": {
      "text/plain": [
       "tensor([[-0.0166,  0.0004, -0.0030,  ...,  0.0460, -0.0296, -0.0237],\n",
       "        [-0.0431, -0.0181, -0.0073,  ...,  0.0496, -0.0511,  0.0209],\n",
       "        [-0.0248, -0.0026, -0.0176,  ...,  0.0443, -0.0488, -0.0087],\n",
       "        [-0.0248, -0.0026, -0.0176,  ...,  0.0443, -0.0488, -0.0087],\n",
       "        [-0.0196, -0.0098, -0.0140,  ...,  0.0447, -0.0737, -0.0166]],\n",
       "       grad_fn=<DivBackward0>)"
      ]
     },
     "execution_count": 38,
     "metadata": {},
     "output_type": "execute_result"
    }
   ],
   "source": [
    "# ru_predictor.get_text_latents('hello')"
   ]
  },
  {
   "cell_type": "code",
   "execution_count": 7,
   "metadata": {},
   "outputs": [
    {
     "name": "stderr",
     "output_type": "stream",
     "text": [
      "/Users/roshi/image-search/venv/lib/python3.11/site-packages/tqdm/auto.py:21: TqdmWarning: IProgress not found. Please update jupyter and ipywidgets. See https://ipywidgets.readthedocs.io/en/stable/user_install.html\n",
      "  from .autonotebook import tqdm as notebook_tqdm\n"
     ]
    }
   ],
   "source": [
    "from sentence_transformers import SentenceTransformer, util\n",
    "\n",
    "# We use the original clip-ViT-B-32 for encoding images\n",
    "img_model = SentenceTransformer('clip-ViT-B-32')\n",
    "\n",
    "# Our text embedding model is aligned to the img_model and maps 50+\n",
    "# languages to the same vector space\n",
    "text_model = SentenceTransformer('sentence-transformers/clip-ViT-B-32-multilingual-v1')"
   ]
  },
  {
   "cell_type": "code",
   "execution_count": null,
   "metadata": {},
   "outputs": [
    {
     "name": "stderr",
     "output_type": "stream",
     "text": [
      "Unused or unrecognized kwargs: padding.\n"
     ]
    },
    {
     "name": "stdout",
     "output_type": "stream",
     "text": [
      "Text: high tech\n",
      "Score: tensor(0.2404)\n",
      "Path: test_headphones.jpg \n",
      "\n",
      "Text: weapon\n",
      "Score: tensor(0.2538)\n",
      "Path: sword.jpg \n",
      "\n",
      "Text: document\n",
      "Score: tensor(0.2272)\n",
      "Path: test_image.jpg \n",
      "\n"
     ]
    }
   ],
   "source": [
    "# # Now we load and encode the images\n",
    "# def load_image(url_or_path):\n",
    "#     if url_or_path.startswith(\"http://\") or url_or_path.startswith(\"https://\"):\n",
    "#         return Image.open(requests.get(url_or_path, stream=True).raw)\n",
    "#     else:\n",
    "#         return Image.open(url_or_path)\n",
    "\n",
    "# # We load 3 images. You can either pass URLs or\n",
    "# # a path on your disc\n",
    "# img_paths = [\n",
    "#     # Dog image\n",
    "#     \"sword.jpg\",\n",
    "\n",
    "#     # Cat image\n",
    "#     \"test_image.jpg\",\n",
    "\n",
    "#     # Beach image\n",
    "#     \"test_headphones.jpg\",\n",
    "# ]\n",
    "\n",
    "# images = [load_image(img) for img in img_paths]\n",
    "\n",
    "# # Map images to the vector space\n",
    "# img_embeddings = img_model.encode(images)\n",
    "\n",
    "# # Now we encode our text:\n",
    "# texts = [\n",
    "#     \"high tech\",\n",
    "#     \"weapon\",  # German: A cat\n",
    "#     \"document\"  # Spanish: a beach with palm trees\n",
    "# ]\n",
    "\n",
    "# text_embeddings = text_model.encode(texts)\n",
    "\n",
    "# # Compute cosine similarities:\n",
    "# cos_sim = util.cos_sim(text_embeddings, img_embeddings)\n",
    "\n",
    "# for text, scores in zip(texts, cos_sim):\n",
    "#     max_img_idx = torch.argmax(scores)\n",
    "#     print(\"Text:\", text)\n",
    "#     print(\"Score:\", scores[max_img_idx] )\n",
    "#     print(\"Path:\", img_paths[max_img_idx], \"\\n\")"
   ]
  },
  {
   "cell_type": "code",
   "execution_count": 38,
   "metadata": {},
   "outputs": [
    {
     "name": "stderr",
     "output_type": "stream",
     "text": [
      "Unused or unrecognized kwargs: padding.\n"
     ]
    },
    {
     "data": {
      "text/plain": [
       "tensor([ 1.5409e-01, -2.2904e-02,  6.9008e-03,  1.2680e-01,  1.6344e-02,\n",
       "        -1.4147e-01, -7.7042e-02,  7.3074e-01,  1.6849e-01,  5.4354e-01,\n",
       "         1.0815e-01, -5.7672e-02,  4.2591e-01, -9.4751e-02, -4.2239e-01,\n",
       "        -2.6485e-01,  9.0035e-01,  1.5985e-01,  7.9928e-02, -5.4122e-01,\n",
       "        -2.9139e-01,  7.8322e-01,  9.7382e-03, -1.0502e-01,  2.4995e-01,\n",
       "         2.9194e-01,  1.2068e-02, -3.7704e-01, -1.5563e-01,  1.5817e-01,\n",
       "         3.9409e-01, -2.3272e-02, -8.4087e-02, -4.2884e-01,  3.0473e-01,\n",
       "        -2.0148e-01, -5.6921e-01, -4.3657e-01,  4.4646e-01,  6.9191e-01,\n",
       "        -2.5500e-01,  1.3101e-01,  4.1107e-01, -1.1264e-01, -2.5681e-02,\n",
       "        -5.5188e-01,  6.4148e-01, -9.2202e-02, -4.0493e-01, -3.2854e-02,\n",
       "        -4.1640e-01, -7.8461e-02,  6.6770e-01, -3.2876e-01, -2.1588e-01,\n",
       "         1.1558e-01, -4.3977e-02,  3.6046e-01,  3.2168e-02,  9.5473e-02,\n",
       "         6.5722e-01, -4.0861e-01,  2.7235e-01,  2.9029e-02, -3.1615e-04,\n",
       "         3.4944e-01, -3.7970e-02,  9.1480e-02,  5.9314e-02, -4.0292e-02,\n",
       "        -3.8045e-01,  1.1950e-01,  1.9743e-01,  2.8008e-01,  5.6735e-03,\n",
       "        -4.7009e-01,  1.9486e-01, -2.2288e-01,  1.1545e+00, -2.5995e-01,\n",
       "        -1.7136e-01, -2.0174e-01, -2.2443e-02, -8.3014e-01,  4.4398e-03,\n",
       "         4.0553e-01,  2.8467e-01, -2.1293e-01,  6.6095e-01,  2.0034e-01,\n",
       "         3.2472e-01,  1.4533e-01, -6.8310e+00,  1.2265e+00,  3.7275e-01,\n",
       "         5.1529e-01,  3.6344e-01,  6.1161e-01, -3.0402e-01,  4.8215e-01,\n",
       "        -2.7091e-02,  4.0420e-01, -5.4207e-01, -7.7580e-01, -1.5124e-03,\n",
       "         5.3982e-01, -2.2788e+00, -2.2817e-01,  1.1673e-01, -9.2022e-02,\n",
       "         6.8295e-02,  4.6946e-02,  1.2201e-01,  4.0755e-01,  3.1166e-01,\n",
       "        -3.4503e-01, -3.4207e-02,  3.6289e-03, -1.9588e-01, -2.4886e-01,\n",
       "         1.3668e-01, -9.6937e-02,  3.6102e-01, -2.1905e-01,  8.5879e-02,\n",
       "        -5.4377e-03, -2.1566e-01,  2.7641e-01,  2.1839e-02,  3.2059e-02,\n",
       "         2.3218e-02,  2.0800e-01,  1.2368e-01,  9.5347e-01,  4.1712e-01,\n",
       "        -1.0061e-01,  4.9089e-03,  1.4084e-01,  4.8465e-01, -3.9977e-01,\n",
       "         6.0738e-02,  8.4442e-01, -8.4284e-01, -3.0984e-02, -4.3982e-01,\n",
       "         2.4386e-01,  1.8241e-01, -1.6307e-01, -3.3115e-01, -8.0524e-02,\n",
       "        -2.3957e-01, -1.2865e-01,  4.4334e-01, -2.0620e-01, -1.3577e-01,\n",
       "        -9.4369e-02,  2.9331e-01, -1.1617e-01,  1.2075e-01,  4.2645e-01,\n",
       "        -5.4967e-01, -1.6766e-01,  1.2037e-01, -7.0735e-01, -3.0932e-01,\n",
       "         4.7230e-03,  3.4881e-01,  4.4079e-01,  1.1958e-01,  1.6616e-01,\n",
       "        -2.4993e-01, -6.8738e-02, -2.8848e-01,  7.5496e-02,  1.8267e-01,\n",
       "        -6.9759e-01,  3.0304e-01,  4.6492e-01,  8.3476e-01, -3.6653e-01,\n",
       "         1.4678e-01,  7.3197e-02,  7.2034e-02, -5.0362e-01,  5.0829e-02,\n",
       "         2.5397e-02,  2.5040e-01, -2.0660e-01,  3.9481e-01, -8.4525e-02,\n",
       "         1.5418e-01, -4.7477e-01,  4.6142e-02,  3.6815e-02,  4.9832e-01,\n",
       "        -3.6891e-01,  2.3752e-01,  1.0026e-01, -5.0920e-01, -9.3856e-02,\n",
       "         1.9504e-01,  1.4238e-01, -1.3340e-01, -3.9918e-01,  9.2084e-02,\n",
       "        -1.9281e-01,  3.0186e-02, -1.6534e-01,  3.0619e-01, -3.3961e-01,\n",
       "        -2.2221e-01,  7.0697e-01,  2.5890e-01, -4.9814e-01,  1.3967e-01,\n",
       "        -7.4650e-01,  2.5936e-01, -2.4569e-01, -5.0524e-01,  1.6318e-01,\n",
       "         2.1370e-01,  5.3716e-01, -2.5375e-01, -2.2125e-01,  1.9343e-01,\n",
       "        -2.5146e-01, -1.0055e-02, -1.4172e-01,  2.7516e-01, -1.3861e-02,\n",
       "        -5.2484e-01,  1.1767e-01, -1.8357e-01,  9.5716e-02, -3.1109e-02,\n",
       "        -5.8877e-02,  2.1173e-01,  4.9653e-01, -1.9009e-01,  3.7547e-01,\n",
       "        -3.2840e-02, -4.1820e-02,  5.5874e-01,  2.3277e-02, -4.3331e-01,\n",
       "        -8.2407e-01,  4.1945e-01,  5.0123e-01, -2.3693e-01,  1.8737e-01,\n",
       "         5.5085e-02,  3.4518e-02,  2.7010e-01,  6.2065e-01,  3.2481e-01,\n",
       "         1.6802e-01, -7.9641e-02, -1.1731e-01, -2.9403e-01, -2.3305e-01,\n",
       "        -3.4463e-02,  4.3834e-01,  1.0919e-01, -2.0252e-01, -3.3612e-02,\n",
       "        -4.8516e-01, -2.1329e-01,  1.6836e-01,  4.1069e-01,  1.4373e-01,\n",
       "        -3.9903e-01, -3.2453e-01, -1.1742e-01, -2.2088e-01, -1.2298e-01,\n",
       "        -1.3508e-01,  1.4475e-01,  7.5067e-02, -2.0067e-02, -4.8786e-01,\n",
       "         3.8741e-01,  3.8287e-02,  1.2097e-01,  4.5761e-01, -1.2149e-01,\n",
       "        -1.4788e-03, -4.8081e-01,  3.3049e-01, -1.3102e-01, -3.1503e-01,\n",
       "         6.1517e-01,  9.5743e-02, -5.9261e-01,  4.0461e-02, -1.4403e-01,\n",
       "         2.1482e-01, -1.4584e-01, -8.4162e-02,  3.9620e-01, -3.7458e-01,\n",
       "         4.4816e-01, -3.1035e-01, -1.8367e-01,  6.6993e-02,  5.8254e-02,\n",
       "        -4.8950e-01, -5.4023e-01, -2.7418e-02,  2.0071e-01, -1.1531e-01,\n",
       "         4.6177e-02,  2.3433e-01,  9.5344e-01, -1.5774e-01,  5.7029e-02,\n",
       "         3.3931e-01,  6.4169e-01, -3.3629e-01,  6.3679e-03, -6.4492e-01,\n",
       "         4.2267e-01,  2.1305e+00, -5.4044e-02, -2.6042e-01, -3.6947e-01,\n",
       "         1.5962e-01,  2.8114e-01,  3.9337e-01, -3.6260e-01,  3.0420e-01,\n",
       "         6.9782e-02, -1.2693e-01,  1.3784e-01,  3.1331e-02,  1.1501e-01,\n",
       "         1.8574e-01, -3.8791e-02,  3.8165e-02,  3.3741e-01,  2.0959e-01,\n",
       "         2.6658e-01, -5.0528e-01,  1.8568e-01,  5.9485e-02,  1.6621e-01,\n",
       "         3.6431e-01,  3.4660e-01, -1.8414e-01, -1.6457e-01, -4.2384e-01,\n",
       "         5.5097e-01,  5.2181e-02,  1.6874e-01, -1.5235e-02, -3.6764e-01,\n",
       "        -4.3741e-01,  2.7993e-01, -1.0336e+00, -5.8226e-03,  1.3139e-01,\n",
       "         2.9533e-02,  2.7092e-02,  5.7986e-01,  1.1020e-01, -4.5806e-01,\n",
       "        -3.9751e-01, -1.2995e-02, -3.8379e-01,  1.8301e-01,  2.8991e-01,\n",
       "         2.9667e-01, -2.0252e-01,  5.6726e-01, -3.6063e-01, -2.3811e-01,\n",
       "        -4.3480e-01,  3.3214e-01, -1.4033e-01, -2.5359e-01, -1.3747e-01,\n",
       "        -6.4404e-01, -7.8903e-01,  3.2929e-01, -9.7241e-02,  1.8120e-02,\n",
       "         3.9219e-01,  1.0397e-01, -2.9702e-01,  2.4358e-01, -1.5825e-01,\n",
       "        -3.0868e-01,  1.4201e-02,  5.6819e-01, -1.0323e-01, -3.9183e-01,\n",
       "         3.6377e-03,  3.6429e-01, -1.9456e-01,  6.6339e-01, -8.1041e-02,\n",
       "        -9.9610e-02, -9.9082e-02,  5.3245e-01, -1.7797e-01,  4.2284e-01,\n",
       "        -1.9256e-01,  9.0371e-02,  4.5196e-01,  4.5828e-01, -5.1329e-01,\n",
       "         5.3126e-02, -2.4886e-01,  3.1172e-01,  3.2613e-01, -6.3537e-02,\n",
       "        -7.6062e-03, -1.6620e-01,  1.7097e-01,  1.6027e-02,  4.6656e-01,\n",
       "         2.4653e-01, -1.6401e-01, -2.8271e-01,  4.5926e-01, -4.9907e-02,\n",
       "        -4.0076e-01, -3.2496e-01, -1.4865e-01, -9.7039e-02,  3.9454e-01,\n",
       "        -7.3785e-02,  1.7753e-02,  1.1639e+00, -1.7652e-02,  3.1304e-02,\n",
       "        -1.0473e-01, -1.0431e-01, -4.8629e-01, -1.6098e-01,  4.0637e-01,\n",
       "        -2.2273e-02,  1.0262e-01, -1.8434e-01,  3.6306e-01, -5.8092e-02,\n",
       "         8.5000e-02,  2.8545e-01, -8.8316e-02, -2.0336e-01, -1.4147e-01,\n",
       "         2.7751e-01,  5.9503e-01,  4.1688e-01, -4.0604e-01,  7.5383e-02,\n",
       "        -8.4282e-02,  1.9446e-01, -1.5895e-01,  2.3315e-01,  3.7507e-01,\n",
       "         4.9461e-01, -1.1878e-01,  1.2866e-01,  2.3390e-01,  2.0119e-01,\n",
       "         7.7019e-02,  2.3951e-01, -3.1683e-01, -1.6625e-01, -5.4228e-01,\n",
       "        -1.5992e-01, -2.0798e-01,  5.7619e-02, -4.8560e-01,  1.3573e-01,\n",
       "        -1.8846e-01,  1.5961e-01,  2.1109e-03,  3.5285e-01, -6.6099e-02,\n",
       "         5.1343e-02,  1.2977e-02,  1.4752e-01, -2.4378e-01,  5.2605e-02,\n",
       "        -1.6316e-01, -1.1641e-02,  5.1439e-01,  2.6351e-02, -4.8600e-01,\n",
       "         1.3145e-01, -2.1750e-01,  2.9477e-01, -1.9218e-01,  5.9722e-02,\n",
       "        -1.6417e-01,  1.2708e-01,  6.7110e-01, -2.6632e-01,  6.1227e-02,\n",
       "         6.2277e-02,  1.8491e-02,  2.4959e-01,  1.8869e-01,  1.2649e-01,\n",
       "        -3.7689e-01, -5.4272e-02, -4.5318e-01, -1.8727e-01,  9.3872e-01,\n",
       "         6.6465e-02,  8.7583e-02])"
      ]
     },
     "execution_count": 38,
     "metadata": {},
     "output_type": "execute_result"
    }
   ],
   "source": [
    "from PIL import Image\n",
    "torch.Tensor(img_model.encode([Image.open(\"sword.jpg\")])[0])"
   ]
  },
  {
   "cell_type": "code",
   "execution_count": 27,
   "metadata": {},
   "outputs": [],
   "source": [
    "import abc\n",
    "import torch\n",
    "class CategoryModel(abc.ABC): \n",
    "    @abc.abstractmethod\n",
    "    def encode_image(self, img) -> torch.Tensor: \n",
    "        pass\n",
    "    @abc.abstractmethod\n",
    "    def encode_texts(self, texts) -> torch.Tensor: \n",
    "        pass \n",
    "\n",
    "class CategoryGetter: \n",
    "    def __init__(self, full_df, pref, model: CategoryModel): \n",
    "        self.model = model\n",
    "        self.categories = full_df['group'].unique().tolist()\n",
    "        self.categories.remove('Прочие')\n",
    "        self.pref = pref\n",
    "        self.texts = [pref+c for c in self.categories]\n",
    "        self.text_features = self.model.encode_texts(self.texts)\n",
    "        self.text_features /= self.text_features.norm(dim=-1, keepdim=True)\n",
    "\n",
    "    def get_categories(self, img: str | Image.Image):\n",
    "        if isinstance(img, str): \n",
    "            img = Image.open(img)\n",
    "        image_features = self.model.encode_image(img)\n",
    "        # Pick the top 5 most similar labels for the image\n",
    "        image_features /= image_features.norm(dim=-1, keepdim=True)\n",
    "        similarity = enumerate((100.0 * image_features @ self.text_features.T).softmax(dim=-1).tolist())\n",
    "        # print(similarity)\n",
    "        res = [[self.categories[i], conf] for i, conf in sorted(similarity, key=lambda a: a[1], reverse=True)]\n",
    "        # if res[0][1] < 0.2:\n",
    "        #     res[0][0] = 'Прочие'\n",
    "        if res[0][0] == 'Печатная продукция': \n",
    "            res = res[1:]\n",
    "        return res"
   ]
  },
  {
   "cell_type": "code",
   "execution_count": 4,
   "metadata": {},
   "outputs": [],
   "source": [
    "class MultilingClipCat(CategoryModel):\n",
    "    def __init__(self): \n",
    "        self.img_model = SentenceTransformer('clip-ViT-B-32')\n",
    "        self.text_model = SentenceTransformer('sentence-transformers/clip-ViT-B-32-multilingual-v1')\n",
    "    def encode_image(self, img): \n",
    "        return torch.Tensor(self.img_model.encode([img])[0]) \n",
    "    def encode_texts(self, texts): \n",
    "        return torch.Tensor(self.text_model.encode(texts))"
   ]
  },
  {
   "cell_type": "code",
   "execution_count": 111,
   "metadata": {},
   "outputs": [],
   "source": [
    "# import numpy.linalg\n",
    "# from scipy.special import softmax \n",
    "# import torch\n",
    "\n",
    "# categories = full_df['group'].unique().tolist()\n",
    "# categories.remove('Прочие')\n",
    "# # categories = categories.remove('ДПИ')\n",
    "# # categories.append('Декоративно-прикладное искусство')\n",
    "# pref = \"это музейный экспонат категории \"\n",
    "# texts = [pref+c for c in categories]\n",
    "# text_features = torch.Tensor(text_model.encode(texts))\n",
    "# text_features /= text_features.norm(dim=-1, keepdim=True)\n",
    "# def get_categories(img: str | Image.Image):\n",
    "#     if isinstance(img, str): \n",
    "#         img = Image.open(img)\n",
    "#     # Download the dataset\n",
    "#     # data_path = 'data/train.csv'\n",
    "#     # image_path = 'data/3850376.jpg'\n",
    "\n",
    "\n",
    "#     # Vectors creating\n",
    "#     # image_input = preprocess(img).unsqueeze(0).to(device)\n",
    "#     # text_inputs = torch.cat([clip.tokenize(f\"a photo of a {c}\") for c in categories]).to(device)\n",
    "\n",
    "#     image_features = torch.Tensor(img_model.encode([img])[0])\n",
    "#     # dists = []\n",
    "#     # for i, t in enumerate(texts): \n",
    "#     #     dists.append(distance.cosine(text_features[i], image_features))\n",
    "\n",
    "#     # dists = {categories[i]: dist for i, dist in enumerate(dists)}\n",
    "#     # best = sorted(list(dists.items()),key=lambda a: a[1])[:5]\n",
    "#     # print(best)\n",
    "#     # return best\n",
    "\n",
    "#     # Pick the top 5 most similar labels for the image\n",
    "#     image_features /= image_features.norm(dim=-1, keepdim=True)\n",
    "#     similarity = enumerate((100.0 * image_features @ text_features.T).softmax(dim=-1).tolist())\n",
    "#     # print(similarity)\n",
    "#     res = [[categories[i], conf] for i, conf in sorted(similarity, key=lambda a: a[1], reverse=True)]\n",
    "#     # if res[0][1] < 0.2:\n",
    "#     #     res[0][0] = 'Прочие'\n",
    "#     # if res[0][0] == 'Печатная продукция': \n",
    "#     #     res = res[1:]\n",
    "#     return res"
   ]
  },
  {
   "cell_type": "code",
   "execution_count": 43,
   "metadata": {},
   "outputs": [],
   "source": [
    "import sys, io \n",
    "def eval_model(cat_model, test_df): \n",
    "    # text_trap = io.StringIO()\n",
    "    # sys.stdout = text_trap\n",
    "    test_df['pred'] = test_df['path'].map(lambda path: cat_model.get_categories(path)[0])\n",
    "    test_df[['group_pred', 'pred_conf']] = pandas.DataFrame(test_df['pred'].tolist(), index=test_df.index)\n",
    "    # sys.stdout = sys.__stdout__\n",
    "    correct = (test_df['group'] == test_df['group_pred']).sum() \n",
    "    mistakes = test_df[test_df['group'] != test_df['group_pred']]\n",
    "    return mistakes"
   ]
  },
  {
   "cell_type": "code",
   "execution_count": 3,
   "metadata": {},
   "outputs": [
    {
     "ename": "NameError",
     "evalue": "name 'MultilingClipCat' is not defined",
     "output_type": "error",
     "traceback": [
      "\u001b[0;31m---------------------------------------------------------------------------\u001b[0m",
      "\u001b[0;31mNameError\u001b[0m                                 Traceback (most recent call last)",
      "Cell \u001b[0;32mIn[3], line 2\u001b[0m\n\u001b[1;32m      1\u001b[0m TEST_N \u001b[38;5;241m=\u001b[39m \u001b[38;5;241m100\u001b[39m\n\u001b[0;32m----> 2\u001b[0m model \u001b[38;5;241m=\u001b[39m \u001b[43mMultilingClipCat\u001b[49m() \n\u001b[1;32m      3\u001b[0m classifiers \u001b[38;5;241m=\u001b[39m [CategoryGetter(full_df, \u001b[38;5;124m'\u001b[39m\u001b[38;5;124mэкспонат категории \u001b[39m\u001b[38;5;124m'\u001b[39m, model)]\n\u001b[1;32m      4\u001b[0m test_df \u001b[38;5;241m=\u001b[39m full_df\u001b[38;5;241m.\u001b[39msample(TEST_N)\n",
      "\u001b[0;31mNameError\u001b[0m: name 'MultilingClipCat' is not defined"
     ]
    }
   ],
   "source": [
    "TEST_N = 100\n",
    "model = MultilingClipCat() \n",
    "classifiers = [CategoryGetter(full_df, 'экспонат категории ', model)]\n",
    "test_df = full_df.sample(TEST_N)\n",
    "results = {} \n",
    "for c in classifiers: \n",
    "    mistakes = eval_model(c, test_df) \n",
    "    results[c.pref] = mistakes"
   ]
  },
  {
   "cell_type": "code",
   "execution_count": 45,
   "metadata": {},
   "outputs": [
    {
     "name": "stdout",
     "output_type": "stream",
     "text": [
      "экспонат категории \n",
      "0.31999999999999995\n"
     ]
    }
   ],
   "source": [
    "for pref, mistakes in results.items(): \n",
    "    print(pref)\n",
    "    print((1- len(mistakes) / TEST_N))"
   ]
  },
  {
   "cell_type": "code",
   "execution_count": 46,
   "metadata": {},
   "outputs": [
    {
     "data": {
      "text/plain": [
       "Text(0, 0.5, 'Кол-во ошибок на 100')"
      ]
     },
     "execution_count": 46,
     "metadata": {},
     "output_type": "execute_result"
    },
    {
     "data": {
      "image/png": "[encoded data removed]",
      "text/plain": [
       "<Figure size 640x480 with 1 Axes>"
      ]
     },
     "metadata": {},
     "output_type": "display_data"
    }
   ],
   "source": [
    "plt = results[classifiers[0].pref].group.hist(xrot=90, bins=15, rwidth=0.8)\n",
    "plt.set_ylabel(f'Кол-во ошибок на {TEST_N}')"
   ]
  },
  {
   "cell_type": "code",
   "execution_count": 38,
   "metadata": {},
   "outputs": [
    {
     "data": {
      "text/plain": [
       "Text(0, 0.5, 'Кол-во ошибок на 100')"
      ]
     },
     "execution_count": 38,
     "metadata": {},
     "output_type": "execute_result"
    },
    {
     "data": {
      "image/png": "[encoded data removed]",
      "text/plain": [
       "<Figure size 640x480 with 1 Axes>"
      ]
     },
     "metadata": {},
     "output_type": "display_data"
    }
   ],
   "source": [
    "plt = results[classifiers[0].pref].group_pred.hist(xrot=90, bins=15, rwidth=0.8)\n",
    "plt.set_ylabel(f'Кол-во ошибок на {TEST_N}')"
   ]
  },
  {
   "cell_type": "code",
   "execution_count": 47,
   "metadata": {},
   "outputs": [
    {
     "data": {
      "text/html": [
       "<div>\n",
       "<style scoped>\n",
       "    .dataframe tbody tr th:only-of-type {\n",
       "        vertical-align: middle;\n",
       "    }\n",
       "\n",
       "    .dataframe tbody tr th {\n",
       "        vertical-align: top;\n",
       "    }\n",
       "\n",
       "    .dataframe thead th {\n",
       "        text-align: right;\n",
       "    }\n",
       "</style>\n",
       "<table border=\"1\" class=\"dataframe\">\n",
       "  <thead>\n",
       "    <tr style=\"text-align: right;\">\n",
       "      <th></th>\n",
       "      <th>object_id</th>\n",
       "      <th>name</th>\n",
       "      <th>description</th>\n",
       "      <th>group</th>\n",
       "      <th>img_name</th>\n",
       "      <th>path</th>\n",
       "      <th>embedding_path</th>\n",
       "      <th>pred</th>\n",
       "      <th>group_pred</th>\n",
       "      <th>pred_conf</th>\n",
       "    </tr>\n",
       "  </thead>\n",
       "  <tbody>\n",
       "    <tr>\n",
       "      <th>16663</th>\n",
       "      <td>10778820</td>\n",
       "      <td>Клише типографское</td>\n",
       "      <td>на тонкой металлической пластине, с вырезами п...</td>\n",
       "      <td>Прочие</td>\n",
       "      <td>8010000.jpg</td>\n",
       "      <td>./mincult-train/train/10778820/8010000.jpg</td>\n",
       "      <td>./mincult-train/train/10778820/8010000.jpg.emb...</td>\n",
       "      <td>[Техника, 0.08880012482404709]</td>\n",
       "      <td>Техника</td>\n",
       "      <td>0.088800</td>\n",
       "    </tr>\n",
       "    <tr>\n",
       "      <th>2148</th>\n",
       "      <td>4337028</td>\n",
       "      <td>Негатив. Работа гидрологов на малой лебедке \"О...</td>\n",
       "      <td>В непогоду запечатлена работа 2 гидрологов на ...</td>\n",
       "      <td>Фото, негативы</td>\n",
       "      <td>35407104.jpg</td>\n",
       "      <td>./mincult-train/train/4337028/35407104.jpg</td>\n",
       "      <td>./mincult-train/train/4337028/35407104.jpg.emb...</td>\n",
       "      <td>[Естественнонауч.коллекция, 0.11442886292934418]</td>\n",
       "      <td>Естественнонауч.коллекция</td>\n",
       "      <td>0.114429</td>\n",
       "    </tr>\n",
       "    <tr>\n",
       "      <th>18078</th>\n",
       "      <td>9622521</td>\n",
       "      <td>Антимонит</td>\n",
       "      <td>Антимонит. Радиально-лучистые сферолиты в поло...</td>\n",
       "      <td>Минералогия</td>\n",
       "      <td>6305204.jpg</td>\n",
       "      <td>./mincult-train/train/9622521/6305204.jpg</td>\n",
       "      <td>./mincult-train/train/9622521/6305204.jpg.embe...</td>\n",
       "      <td>[Археология, 0.30742523074150085]</td>\n",
       "      <td>Археология</td>\n",
       "      <td>0.307425</td>\n",
       "    </tr>\n",
       "    <tr>\n",
       "      <th>5922</th>\n",
       "      <td>11784261</td>\n",
       "      <td>Л. 26  . Русский орнамент XII-XIII веков. (Из ...</td>\n",
       "      <td>NaN</td>\n",
       "      <td>Редкие книги</td>\n",
       "      <td>9359843.jpg</td>\n",
       "      <td>./mincult-train/train/11784261/9359843.jpg</td>\n",
       "      <td>./mincult-train/train/11784261/9359843.jpg.emb...</td>\n",
       "      <td>[Декоративно-прикладное искусство, 0.104924291...</td>\n",
       "      <td>Декоративно-прикладное искусство</td>\n",
       "      <td>0.104924</td>\n",
       "    </tr>\n",
       "    <tr>\n",
       "      <th>10026</th>\n",
       "      <td>19939893</td>\n",
       "      <td>Бочонок №70. Из набора игры настольной \"ЛОТО\".</td>\n",
       "      <td>Цилиндрической формы, сужающейся к основаниям....</td>\n",
       "      <td>Декоративно-прикладное искусство</td>\n",
       "      <td>51301650.jpg</td>\n",
       "      <td>./mincult-train/train/19939893/51301650.jpg</td>\n",
       "      <td>./mincult-train/train/19939893/51301650.jpg.em...</td>\n",
       "      <td>[Археология, 0.4964650571346283]</td>\n",
       "      <td>Археология</td>\n",
       "      <td>0.496465</td>\n",
       "    </tr>\n",
       "  </tbody>\n",
       "</table>\n",
       "</div>"
      ],
      "text/plain": [
       "       object_id                                               name  \\\n",
       "16663   10778820                                 Клише типографское   \n",
       "2148     4337028  Негатив. Работа гидрологов на малой лебедке \"О...   \n",
       "18078    9622521                                          Антимонит   \n",
       "5922    11784261  Л. 26  . Русский орнамент XII-XIII веков. (Из ...   \n",
       "10026   19939893     Бочонок №70. Из набора игры настольной \"ЛОТО\".   \n",
       "\n",
       "                                             description  \\\n",
       "16663  на тонкой металлической пластине, с вырезами п...   \n",
       "2148   В непогоду запечатлена работа 2 гидрологов на ...   \n",
       "18078  Антимонит. Радиально-лучистые сферолиты в поло...   \n",
       "5922                                                 NaN   \n",
       "10026  Цилиндрической формы, сужающейся к основаниям....   \n",
       "\n",
       "                                  group      img_name  \\\n",
       "16663                            Прочие   8010000.jpg   \n",
       "2148                     Фото, негативы  35407104.jpg   \n",
       "18078                       Минералогия   6305204.jpg   \n",
       "5922                       Редкие книги   9359843.jpg   \n",
       "10026  Декоративно-прикладное искусство  51301650.jpg   \n",
       "\n",
       "                                              path  \\\n",
       "16663   ./mincult-train/train/10778820/8010000.jpg   \n",
       "2148    ./mincult-train/train/4337028/35407104.jpg   \n",
       "18078    ./mincult-train/train/9622521/6305204.jpg   \n",
       "5922    ./mincult-train/train/11784261/9359843.jpg   \n",
       "10026  ./mincult-train/train/19939893/51301650.jpg   \n",
       "\n",
       "                                          embedding_path  \\\n",
       "16663  ./mincult-train/train/10778820/8010000.jpg.emb...   \n",
       "2148   ./mincult-train/train/4337028/35407104.jpg.emb...   \n",
       "18078  ./mincult-train/train/9622521/6305204.jpg.embe...   \n",
       "5922   ./mincult-train/train/11784261/9359843.jpg.emb...   \n",
       "10026  ./mincult-train/train/19939893/51301650.jpg.em...   \n",
       "\n",
       "                                                    pred  \\\n",
       "16663                     [Техника, 0.08880012482404709]   \n",
       "2148    [Естественнонауч.коллекция, 0.11442886292934418]   \n",
       "18078                  [Археология, 0.30742523074150085]   \n",
       "5922   [Декоративно-прикладное искусство, 0.104924291...   \n",
       "10026                   [Археология, 0.4964650571346283]   \n",
       "\n",
       "                             group_pred  pred_conf  \n",
       "16663                           Техника   0.088800  \n",
       "2148          Естественнонауч.коллекция   0.114429  \n",
       "18078                        Археология   0.307425  \n",
       "5922   Декоративно-прикладное искусство   0.104924  \n",
       "10026                        Археология   0.496465  "
      ]
     },
     "execution_count": 47,
     "metadata": {},
     "output_type": "execute_result"
    }
   ],
   "source": [
    "results[classifiers[0].pref].head()"
   ]
  }
 ],
 "metadata": {
  "kernelspec": {
   "display_name": "venv",
   "language": "python",
   "name": "python3"
  },
  "language_info": {
   "codemirror_mode": {
    "name": "ipython",
    "version": 3
   },
   "file_extension": ".py",
   "mimetype": "text/x-python",
   "name": "python",
   "nbconvert_exporter": "python",
   "pygments_lexer": "ipython3",
   "version": "3.11.6"
  }
 },
 "nbformat": 4,
 "nbformat_minor": 2
}
