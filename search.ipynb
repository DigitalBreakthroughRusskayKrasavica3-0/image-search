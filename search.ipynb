{
 "cells": [
  {
   "cell_type": "code",
   "execution_count": 2,
   "metadata": {},
   "outputs": [
    {
     "name": "stdout",
     "output_type": "stream",
     "text": [
      "Collecting clip@ git+https://github.com/openai/CLIP.git@a1d071733d7111c9c014f024669f959182114e33 (from -r requirements.txt (line 1))\n",
      "  Cloning https://github.com/openai/CLIP.git (to revision a1d071733d7111c9c014f024669f959182114e33) to /private/var/folders/4_/051f5l115s33r4zvqhcsst0r0000gn/T/pip-install-_8jc7wb7/clip_31378a0dad594d179af4de51c841b944\n",
      "  Running command git clone --filter=blob:none --quiet https://github.com/openai/CLIP.git /private/var/folders/4_/051f5l115s33r4zvqhcsst0r0000gn/T/pip-install-_8jc7wb7/clip_31378a0dad594d179af4de51c841b944\n",
      "  Running command git rev-parse -q --verify 'sha^a1d071733d7111c9c014f024669f959182114e33'\n",
      "  Running command git fetch -q https://github.com/openai/CLIP.git a1d071733d7111c9c014f024669f959182114e33\n",
      "  Resolved https://github.com/openai/CLIP.git to commit a1d071733d7111c9c014f024669f959182114e33\n",
      "  Installing build dependencies ... \u001b[?25ldone\n",
      "\u001b[?25h  Getting requirements to build wheel ... \u001b[?25ldone\n",
      "\u001b[?25h  Preparing metadata (pyproject.toml) ... \u001b[?25ldone\n",
      "\u001b[?25hRequirement already satisfied: filelock==3.13.4 in ./venv/lib/python3.11/site-packages (from -r requirements.txt (line 2)) (3.13.4)\n",
      "Requirement already satisfied: fsspec==2024.3.1 in ./venv/lib/python3.11/site-packages (from -r requirements.txt (line 3)) (2024.3.1)\n",
      "Requirement already satisfied: ftfy==6.2.0 in ./venv/lib/python3.11/site-packages (from -r requirements.txt (line 4)) (6.2.0)\n",
      "Requirement already satisfied: Jinja2==3.1.3 in ./venv/lib/python3.11/site-packages (from -r requirements.txt (line 5)) (3.1.3)\n",
      "Requirement already satisfied: MarkupSafe==2.1.5 in ./venv/lib/python3.11/site-packages (from -r requirements.txt (line 6)) (2.1.5)\n",
      "Requirement already satisfied: mpmath==1.3.0 in ./venv/lib/python3.11/site-packages (from -r requirements.txt (line 7)) (1.3.0)\n",
      "Requirement already satisfied: networkx==3.3 in ./venv/lib/python3.11/site-packages (from -r requirements.txt (line 8)) (3.3)\n",
      "Requirement already satisfied: numpy==1.26.4 in ./venv/lib/python3.11/site-packages (from -r requirements.txt (line 9)) (1.26.4)\n",
      "Requirement already satisfied: pillow==10.3.0 in ./venv/lib/python3.11/site-packages (from -r requirements.txt (line 10)) (10.3.0)\n",
      "Requirement already satisfied: regex==2023.12.25 in ./venv/lib/python3.11/site-packages (from -r requirements.txt (line 11)) (2023.12.25)\n",
      "Requirement already satisfied: sympy==1.12 in ./venv/lib/python3.11/site-packages (from -r requirements.txt (line 12)) (1.12)\n",
      "Requirement already satisfied: torch==2.2.2 in ./venv/lib/python3.11/site-packages (from -r requirements.txt (line 13)) (2.2.2)\n",
      "Requirement already satisfied: torchvision==0.17.2 in ./venv/lib/python3.11/site-packages (from -r requirements.txt (line 14)) (0.17.2)\n",
      "Requirement already satisfied: tqdm==4.66.2 in ./venv/lib/python3.11/site-packages (from -r requirements.txt (line 15)) (4.66.2)\n",
      "Requirement already satisfied: typing_extensions==4.11.0 in ./venv/lib/python3.11/site-packages (from -r requirements.txt (line 16)) (4.11.0)\n",
      "Requirement already satisfied: wcwidth==0.2.13 in ./venv/lib/python3.11/site-packages (from -r requirements.txt (line 17)) (0.2.13)\n",
      "\n",
      "\u001b[1m[\u001b[0m\u001b[34;49mnotice\u001b[0m\u001b[1;39;49m]\u001b[0m\u001b[39;49m A new release of pip is available: \u001b[0m\u001b[31;49m23.2.1\u001b[0m\u001b[39;49m -> \u001b[0m\u001b[32;49m24.0\u001b[0m\n",
      "\u001b[1m[\u001b[0m\u001b[34;49mnotice\u001b[0m\u001b[1;39;49m]\u001b[0m\u001b[39;49m To update, run: \u001b[0m\u001b[32;49mpip install --upgrade pip\u001b[0m\n",
      "Note: you may need to restart the kernel to use updated packages.\n"
     ]
    }
   ],
   "source": [
    "%pip install -r requirements.txt"
   ]
  },
  {
   "cell_type": "code",
   "execution_count": 34,
   "metadata": {},
   "outputs": [],
   "source": [
    "import pandas \n",
    "\n",
    "df = pandas.read_csv('./mincult-train/train.csv', sep=';')\n",
    "df = df[:30]\n",
    "df['path'] = './mincult-train/train/'+ df['object_id'].astype(str) + '/' + df['img_name']\n",
    "df['embedding_path'] = df['path']+'.embedding'"
   ]
  },
  {
   "cell_type": "code",
   "execution_count": 26,
   "metadata": {},
   "outputs": [
    {
     "data": {
      "text/html": [
       "<div>\n",
       "<style scoped>\n",
       "    .dataframe tbody tr th:only-of-type {\n",
       "        vertical-align: middle;\n",
       "    }\n",
       "\n",
       "    .dataframe tbody tr th {\n",
       "        vertical-align: top;\n",
       "    }\n",
       "\n",
       "    .dataframe thead th {\n",
       "        text-align: right;\n",
       "    }\n",
       "</style>\n",
       "<table border=\"1\" class=\"dataframe\">\n",
       "  <thead>\n",
       "    <tr style=\"text-align: right;\">\n",
       "      <th></th>\n",
       "      <th>object_id</th>\n",
       "      <th>name</th>\n",
       "      <th>description</th>\n",
       "      <th>group</th>\n",
       "      <th>img_name</th>\n",
       "      <th>./mincult-train/train/4782780/31762267.jpg</th>\n",
       "    </tr>\n",
       "  </thead>\n",
       "  <tbody>\n",
       "    <tr>\n",
       "      <th>0</th>\n",
       "      <td>10669820</td>\n",
       "      <td>Водолей - коник (фрагмент - голова)</td>\n",
       "      <td>сероглиняный, лепной, со сплошным белым ангобо...</td>\n",
       "      <td>Археология</td>\n",
       "      <td>7862029.jpg</td>\n",
       "      <td>./mincult-train/train/10669820/7862029.jpg</td>\n",
       "    </tr>\n",
       "    <tr>\n",
       "      <th>1</th>\n",
       "      <td>4489444</td>\n",
       "      <td>Винтовка «Самозарядная винтовка Токарева» (мет...</td>\n",
       "      <td>На стволе имеется надульник, на  торце которог...</td>\n",
       "      <td>Оружие</td>\n",
       "      <td>9461061.jpg</td>\n",
       "      <td>./mincult-train/train/4489444/9461061.jpg</td>\n",
       "    </tr>\n",
       "    <tr>\n",
       "      <th>2</th>\n",
       "      <td>8722586</td>\n",
       "      <td>Инструмент. Калибр-скоба</td>\n",
       "      <td>Прямоугольная пластина с усечёнными углами и д...</td>\n",
       "      <td>Прочие</td>\n",
       "      <td>5095122.jpg</td>\n",
       "      <td>./mincult-train/train/8722586/5095122.jpg</td>\n",
       "    </tr>\n",
       "    <tr>\n",
       "      <th>3</th>\n",
       "      <td>3712248</td>\n",
       "      <td>Судомодель. НИС \"Космонавт  Виктор Пацаев\".</td>\n",
       "      <td>Корпус модели, надстройки, шлюпки выполнены и...</td>\n",
       "      <td>Прочие</td>\n",
       "      <td>551422.jpg</td>\n",
       "      <td>./mincult-train/train/3712248/551422.jpg</td>\n",
       "    </tr>\n",
       "    <tr>\n",
       "      <th>4</th>\n",
       "      <td>6339754</td>\n",
       "      <td>Сабля.</td>\n",
       "      <td>NaN</td>\n",
       "      <td>Оружие</td>\n",
       "      <td>2592073.jpg</td>\n",
       "      <td>./mincult-train/train/6339754/2592073.jpg</td>\n",
       "    </tr>\n",
       "  </tbody>\n",
       "</table>\n",
       "</div>"
      ],
      "text/plain": [
       "   object_id                                               name  \\\n",
       "0   10669820                Водолей - коник (фрагмент - голова)   \n",
       "1    4489444  Винтовка «Самозарядная винтовка Токарева» (мет...   \n",
       "2    8722586                           Инструмент. Калибр-скоба   \n",
       "3    3712248        Судомодель. НИС \"Космонавт  Виктор Пацаев\".   \n",
       "4    6339754                                             Сабля.   \n",
       "\n",
       "                                         description       group     img_name  \\\n",
       "0  сероглиняный, лепной, со сплошным белым ангобо...  Археология  7862029.jpg   \n",
       "1  На стволе имеется надульник, на  торце которог...      Оружие  9461061.jpg   \n",
       "2  Прямоугольная пластина с усечёнными углами и д...      Прочие  5095122.jpg   \n",
       "3   Корпус модели, надстройки, шлюпки выполнены и...      Прочие   551422.jpg   \n",
       "4                                                NaN      Оружие  2592073.jpg   \n",
       "\n",
       "   ./mincult-train/train/4782780/31762267.jpg  \n",
       "0  ./mincult-train/train/10669820/7862029.jpg  \n",
       "1   ./mincult-train/train/4489444/9461061.jpg  \n",
       "2   ./mincult-train/train/8722586/5095122.jpg  \n",
       "3    ./mincult-train/train/3712248/551422.jpg  \n",
       "4   ./mincult-train/train/6339754/2592073.jpg  "
      ]
     },
     "execution_count": 26,
     "metadata": {},
     "output_type": "execute_result"
    }
   ],
   "source": [
    "df.head()"
   ]
  },
  {
   "cell_type": "code",
   "execution_count": 12,
   "metadata": {},
   "outputs": [
    {
     "name": "stdout",
     "output_type": "stream",
     "text": [
      "using cpu\n"
     ]
    }
   ],
   "source": [
    "from PIL import Image\n",
    "import clip\n",
    "import torch\n",
    "device = \"cuda\" if torch.cuda.is_available() else \"cpu\"\n",
    "print(f\"using {device}\")\n",
    "device = torch.device(device)\n",
    "model, preprocess = clip.load(\"ViT-L/14\")\n",
    "model.to(device)"
   ]
  },
  {
   "cell_type": "code",
   "execution_count": 27,
   "metadata": {},
   "outputs": [],
   "source": [
    "def get_embedding(image_path): \n",
    "    image = preprocess(Image.open(image_path)).unsqueeze(0).to(device)\n",
    "    with torch.no_grad():\n",
    "        return model.encode_image(image)[0].tolist()"
   ]
  },
  {
   "cell_type": "code",
   "execution_count": 36,
   "metadata": {},
   "outputs": [],
   "source": [
    "df['embedding'] = df['path'].map()\n",
    "for index, row in df.iterrows(): \n",
    "    embedding = get_embedding(row.path)\n",
    "    with open(row.embedding_path, 'w') as f:\n",
    "        f.write(str(embedding))"
   ]
  },
  {
   "cell_type": "code",
   "execution_count": 37,
   "metadata": {},
   "outputs": [
    {
     "data": {
      "text/html": [
       "<div>\n",
       "<style scoped>\n",
       "    .dataframe tbody tr th:only-of-type {\n",
       "        vertical-align: middle;\n",
       "    }\n",
       "\n",
       "    .dataframe tbody tr th {\n",
       "        vertical-align: top;\n",
       "    }\n",
       "\n",
       "    .dataframe thead th {\n",
       "        text-align: right;\n",
       "    }\n",
       "</style>\n",
       "<table border=\"1\" class=\"dataframe\">\n",
       "  <thead>\n",
       "    <tr style=\"text-align: right;\">\n",
       "      <th></th>\n",
       "      <th>object_id</th>\n",
       "      <th>name</th>\n",
       "      <th>description</th>\n",
       "      <th>group</th>\n",
       "      <th>img_name</th>\n",
       "      <th>path</th>\n",
       "      <th>embedding_path</th>\n",
       "    </tr>\n",
       "  </thead>\n",
       "  <tbody>\n",
       "    <tr>\n",
       "      <th>0</th>\n",
       "      <td>10669820</td>\n",
       "      <td>Водолей - коник (фрагмент - голова)</td>\n",
       "      <td>сероглиняный, лепной, со сплошным белым ангобо...</td>\n",
       "      <td>Археология</td>\n",
       "      <td>7862029.jpg</td>\n",
       "      <td>./mincult-train/train/10669820/7862029.jpg</td>\n",
       "      <td>./mincult-train/train/10669820/7862029.jpg.emb...</td>\n",
       "    </tr>\n",
       "    <tr>\n",
       "      <th>1</th>\n",
       "      <td>4489444</td>\n",
       "      <td>Винтовка «Самозарядная винтовка Токарева» (мет...</td>\n",
       "      <td>На стволе имеется надульник, на  торце которог...</td>\n",
       "      <td>Оружие</td>\n",
       "      <td>9461061.jpg</td>\n",
       "      <td>./mincult-train/train/4489444/9461061.jpg</td>\n",
       "      <td>./mincult-train/train/4489444/9461061.jpg.embe...</td>\n",
       "    </tr>\n",
       "    <tr>\n",
       "      <th>2</th>\n",
       "      <td>8722586</td>\n",
       "      <td>Инструмент. Калибр-скоба</td>\n",
       "      <td>Прямоугольная пластина с усечёнными углами и д...</td>\n",
       "      <td>Прочие</td>\n",
       "      <td>5095122.jpg</td>\n",
       "      <td>./mincult-train/train/8722586/5095122.jpg</td>\n",
       "      <td>./mincult-train/train/8722586/5095122.jpg.embe...</td>\n",
       "    </tr>\n",
       "    <tr>\n",
       "      <th>3</th>\n",
       "      <td>3712248</td>\n",
       "      <td>Судомодель. НИС \"Космонавт  Виктор Пацаев\".</td>\n",
       "      <td>Корпус модели, надстройки, шлюпки выполнены и...</td>\n",
       "      <td>Прочие</td>\n",
       "      <td>551422.jpg</td>\n",
       "      <td>./mincult-train/train/3712248/551422.jpg</td>\n",
       "      <td>./mincult-train/train/3712248/551422.jpg.embed...</td>\n",
       "    </tr>\n",
       "    <tr>\n",
       "      <th>4</th>\n",
       "      <td>6339754</td>\n",
       "      <td>Сабля.</td>\n",
       "      <td>NaN</td>\n",
       "      <td>Оружие</td>\n",
       "      <td>2592073.jpg</td>\n",
       "      <td>./mincult-train/train/6339754/2592073.jpg</td>\n",
       "      <td>./mincult-train/train/6339754/2592073.jpg.embe...</td>\n",
       "    </tr>\n",
       "  </tbody>\n",
       "</table>\n",
       "</div>"
      ],
      "text/plain": [
       "   object_id                                               name  \\\n",
       "0   10669820                Водолей - коник (фрагмент - голова)   \n",
       "1    4489444  Винтовка «Самозарядная винтовка Токарева» (мет...   \n",
       "2    8722586                           Инструмент. Калибр-скоба   \n",
       "3    3712248        Судомодель. НИС \"Космонавт  Виктор Пацаев\".   \n",
       "4    6339754                                             Сабля.   \n",
       "\n",
       "                                         description       group     img_name  \\\n",
       "0  сероглиняный, лепной, со сплошным белым ангобо...  Археология  7862029.jpg   \n",
       "1  На стволе имеется надульник, на  торце которог...      Оружие  9461061.jpg   \n",
       "2  Прямоугольная пластина с усечёнными углами и д...      Прочие  5095122.jpg   \n",
       "3   Корпус модели, надстройки, шлюпки выполнены и...      Прочие   551422.jpg   \n",
       "4                                                NaN      Оружие  2592073.jpg   \n",
       "\n",
       "                                         path  \\\n",
       "0  ./mincult-train/train/10669820/7862029.jpg   \n",
       "1   ./mincult-train/train/4489444/9461061.jpg   \n",
       "2   ./mincult-train/train/8722586/5095122.jpg   \n",
       "3    ./mincult-train/train/3712248/551422.jpg   \n",
       "4   ./mincult-train/train/6339754/2592073.jpg   \n",
       "\n",
       "                                      embedding_path  \n",
       "0  ./mincult-train/train/10669820/7862029.jpg.emb...  \n",
       "1  ./mincult-train/train/4489444/9461061.jpg.embe...  \n",
       "2  ./mincult-train/train/8722586/5095122.jpg.embe...  \n",
       "3  ./mincult-train/train/3712248/551422.jpg.embed...  \n",
       "4  ./mincult-train/train/6339754/2592073.jpg.embe...  "
      ]
     },
     "execution_count": 37,
     "metadata": {},
     "output_type": "execute_result"
    }
   ],
   "source": [
    "df.head()"
   ]
  },
  {
   "cell_type": "code",
   "execution_count": 80,
   "metadata": {},
   "outputs": [
    {
     "name": "stdout",
     "output_type": "stream",
     "text": [
      "Requirement already satisfied: scipy in ./venv/lib/python3.11/site-packages (1.13.0)\n",
      "Requirement already satisfied: numpy<2.3,>=1.22.4 in ./venv/lib/python3.11/site-packages (from scipy) (1.26.4)\n",
      "\n",
      "\u001b[1m[\u001b[0m\u001b[34;49mnotice\u001b[0m\u001b[1;39;49m]\u001b[0m\u001b[39;49m A new release of pip is available: \u001b[0m\u001b[31;49m23.2.1\u001b[0m\u001b[39;49m -> \u001b[0m\u001b[32;49m24.0\u001b[0m\n",
      "\u001b[1m[\u001b[0m\u001b[34;49mnotice\u001b[0m\u001b[1;39;49m]\u001b[0m\u001b[39;49m To update, run: \u001b[0m\u001b[32;49mpip install --upgrade pip\u001b[0m\n"
     ]
    },
    {
     "name": "stdout",
     "output_type": "stream",
     "text": [
      "Note: you may need to restart the kernel to use updated packages.\n"
     ]
    }
   ],
   "source": [
    "%pip install scipy\n",
    "from scipy.spatial import distance\n",
    "\n",
    "def find_best(image_path): \n",
    "    emb = get_embedding(image_path) \n",
    "    distances = {} \n",
    "    for index, row in df.iterrows(): \n",
    "        with open(row.embedding_path, 'r') as f:\n",
    "            other_emb = eval(f.readline()) # TODO: parse correctly\n",
    "            dist = distance.cosine(emb, other_emb)\n",
    "            distances[index] = dist\n",
    "    dists = sorted(list(distances.items()), key=lambda a: a[1])[:10] \n",
    "    for i, dist in dists: \n",
    "        print(df.loc[[i]].path)"
   ]
  },
  {
   "cell_type": "code",
   "execution_count": 83,
   "metadata": {},
   "outputs": [
    {
     "name": "stdout",
     "output_type": "stream",
     "text": [
      "0.18709602847776197 4    ./mincult-train/train/6339754/2592073.jpg\n",
      "Name: path, dtype: object\n",
      "0.2142694655474221 1    ./mincult-train/train/4489444/9461061.jpg\n",
      "Name: path, dtype: object\n",
      "0.22828367408897454 27    ./mincult-train/train/4780854/1267334.jpg\n",
      "Name: path, dtype: object\n",
      "0.2572552842243817 2    ./mincult-train/train/8722586/5095122.jpg\n",
      "Name: path, dtype: object\n",
      "0.2614007460044081 21    ./mincult-train/train/6339644/2592023.jpg\n",
      "Name: path, dtype: object\n",
      "0.264012111849101 19    ./mincult-train/train/21615364/22970356.jpg\n",
      "Name: path, dtype: object\n",
      "0.27966460032043894 12    ./mincult-train/train/9871461/6667278.jpg\n",
      "Name: path, dtype: object\n",
      "0.2798171518531123 16    ./mincult-train/train/24124732/26459574.jpg\n",
      "Name: path, dtype: object\n",
      "0.28023764331738477 6    ./mincult-train/train/4704612/2008677.jpg\n",
      "Name: path, dtype: object\n",
      "0.319001116746622 23    ./mincult-train/train/46777447/57808991.jpg\n",
      "Name: path, dtype: object\n"
     ]
    }
   ],
   "source": [
    "find_best('swordjpg')"
   ]
  }
 ],
 "metadata": {
  "kernelspec": {
   "display_name": "venv",
   "language": "python",
   "name": "python3"
  },
  "language_info": {
   "codemirror_mode": {
    "name": "ipython",
    "version": 3
   },
   "file_extension": ".py",
   "mimetype": "text/x-python",
   "name": "python",
   "nbconvert_exporter": "python",
   "pygments_lexer": "ipython3",
   "version": "3.11.6"
  }
 },
 "nbformat": 4,
 "nbformat_minor": 2
}
